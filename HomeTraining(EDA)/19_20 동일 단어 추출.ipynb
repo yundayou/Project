{
 "cells": [
  {
   "cell_type": "code",
   "execution_count": 1,
   "id": "a6236ca8",
   "metadata": {
    "ExecuteTime": {
     "end_time": "2021-09-08T01:47:44.231299Z",
     "start_time": "2021-09-08T01:47:37.318081Z"
    }
   },
   "outputs": [
    {
     "name": "stdout",
     "output_type": "stream",
     "text": [
      "[('홈트', 239), ('유플러스', 180), ('오늘', 155), ('출시', 152), ('서비스', 151), ('트레이닝', 138), ('운동', 133), ('쇼핑', 124), ('공개', 91), ('다이어트', 74), ('게임', 67), ('스마트홈', 66), ('요가', 65), ('지스타', 55), ('생활', 54), ('포토', 52), ('참가', 50), ('통신사', 43), ('최초', 43), ('정미', 42), ('고객', 40), ('신세경', 38), ('필라테스', 37), ('랭스', 37), ('행사', 36), ('손연재', 35), ('클라우드', 35), ('주말', 34), ('정답', 34), ('여름', 32), ('허안나', 32), ('브로드밴드', 31), ('시대', 31), ('진행', 30), ('솔루션', 30), ('콘텐츠', 29), ('몸매', 29), ('진화', 28), ('헬스', 28), ('퀴즈', 28), ('건강', 27), ('인기', 27), ('라인', 27), ('동작', 27), ('코치', 27), ('국제', 27), ('스트레칭', 26), ('트렌드', 26), ('선도', 25), ('기념', 25), ('초청', 25), ('전시회', 25), ('용품', 24), ('이벤트', 24), ('카카오', 24), ('전원주택', 23), ('마이', 23), ('자세', 23), ('경쟁', 23), ('만들기', 23), ('기구', 22), ('프로모션', 22), ('스마트', 22), ('유튜브', 21), ('여성', 20), ('효과', 19), ('발표', 19), ('확대', 19), ('고민', 19), ('노홍철', 19), ('이국주', 19), ('내년', 19), ('라이프', 18), ('오픈', 18), ('영상', 18), ('트리오', 18), ('이진희', 18), ('장동민', 18), ('종합', 17), ('허리', 17), ('교정', 17), ('차오', 17), ('시장', 16), ('케어', 16), ('김자연', 16), ('테마', 16), ('클리', 16), ('시작', 15), ('가슴', 15), ('전문', 15), ('회원', 15), ('쿠팡', 15), ('기반', 15), ('통증', 14), ('방송', 14), ('홈족', 14), ('뷰티', 14), ('세대', 14), ('소비', 14), ('모집', 14), ('관리', 14), ('프로그램', 14), ('출연', 14), ('인식', 14), ('결과', 14), ('초성퀴즈', 14), ('새해', 13), ('업계', 13), ('체험', 13), ('교육', 13), ('군살', 13), ('일상', 13), ('시니어', 13), ('밀착', 13), ('애련', 13), ('주목', 12), ('습관', 12), ('홈트족', 12), ('기업', 12), ('롯데', 12), ('크로스핏', 12), ('이현', 12), ('분야', 12), ('근육', 11), ('마사지', 11), ('아이', 11), ('증가', 11), ('할인', 11), ('롤러', 11), ('대세', 11), ('어깨', 11), ('센터', 11), ('정원', 11), ('여신', 11), ('홈스쿨링', 11), ('공략', 11), ('론칭', 11), ('바이엘', 11), ('혈관', 11), ('예방', 11), ('걸그룹', 11), ('김지영', 11), ('가을', 11), ('꿀팁', 11), ('영역', 11), ('아이템', 10), ('브랜드', 10), ('스포츠', 10), ('뱃살', 10), ('사람', 10), ('온라인', 10), ('도전', 10), ('유발', 10), ('무료', 10), ('프로', 10), ('질환', 10), ('모던', 10), ('등장', 10), ('비주', 10), ('데이', 10), ('문화센터', 10), ('최대', 10), ('정기', 10), ('계절', 10), ('이용', 10), ('찾기', 10), ('보안', 10), ('중간', 10), ('라이프스타일', 9), ('결심', 9), ('위해', 9), ('홈쇼핑', 9), ('맞춤', 9), ('포인트', 9), ('백화점', 9), ('신세계', 9), ('상품', 9), ('변화', 9), ('제작', 9), ('사진', 9), ('선봬', 9), ('세트', 9), ('감량', 9), ('비법', 9), ('추천', 9), ('작가', 9), ('광주', 9), ('집중', 9), ('체형', 9), ('미스', 9), ('트롯', 9), ('점검', 9), ('원투', 9), ('펀치', 9), ('패션', 8), ('워드', 8), ('식단', 8), ('골반', 8), ('채널', 8), ('국내', 8), ('돌이', 8), ('트레이너', 8), ('부상', 8), ('모두', 8), ('황아영', 8), ('미세먼지', 8), ('전쟁', 8), ('웨어', 8), ('중심', 8), ('아스피린', 8), ('개최', 8), ('기능', 8), ('체중', 8), ('패밀리', 8), ('연예인', 8), ('눈길', 8), ('애플', 8), ('동안', 8), ('휴가', 8), ('갤러리아', 8), ('시티', 8), ('학기', 8), ('투자', 8), ('공감', 8), ('방출', 8), ('이천만원', 8), ('퍼블릭', 8), ('통해', 7), ('헬스장', 7), ('바디', 7), ('상반기', 7), ('유튜버', 7), ('열풍', 7), ('근력', 7), ('옥션', 7), ('실내', 7), ('맞이', 7), ('베이직', 7), ('겨울철', 7), ('현장', 7), ('강화', 7), ('텍트', 7), ('바나나', 7), ('광고', 7), ('모던패밀리', 7), ('둘째', 7), ('깜짝', 7), ('박원숙', 7), ('제품', 7), ('야옹이', 7), ('오후', 7), ('예능', 7), ('이통', 7), ('하나', 6), ('비용', 6), ('스튜디오', 6), ('대표', 6), ('공부', 6), ('가능', 6), ('닥터', 6), ('에어', 6), ('스토', 6), ('변정수', 6), ('우리', 6), ('덕질', 6), ('도서', 6), ('올해', 6), ('레깅스', 6), ('영유', 6), ('돌파', 6), ('장유진', 6), ('이제', 6), ('활용', 6), ('마리', 6), ('스케', 6), ('자랑', 6), ('코리아', 6), ('델몬트', 6), ('창작', 6), ('플랫폼', 6), ('고백', 6), ('가지', 6), ('참견', 6), ('황광희', 6), ('주차', 6), ('모델', 6), ('단오절', 6), ('돌입', 6), ('승리', 6), ('썸머', 6), ('동영상', 6), ('완화', 6), ('하현', 6), ('티저', 6), ('각오', 6), ('경제', 6), ('관전', 6), ('전문가', 6), ('결합', 6), ('인공', 6)]\n"
     ]
    }
   ],
   "source": [
    "import pandas as pd\n",
    "from pandas import DataFrame\n",
    "\n",
    "\n",
    "file = open('title_2019.txt','r')\n",
    "data = file.read()\n",
    "\n",
    "\n",
    "#형태소 단위로 분해\n",
    "from konlpy.tag import Okt, Kkma\n",
    "from collections import Counter\n",
    "okt = Okt()\n",
    "morphs = okt.nouns(data)\n",
    "\n",
    "\n",
    "#길이가 1인것들 제거\n",
    "words = []\n",
    "for n in morphs:\n",
    "    if len(n)>1:\n",
    "        words.append(n)\n",
    "count = Counter(words)\n",
    "morphs_list = count.most_common(300)\n",
    "\n",
    "print(morphs_list)"
   ]
  },
  {
   "cell_type": "code",
   "execution_count": 2,
   "id": "cfb6dfa7",
   "metadata": {
    "ExecuteTime": {
     "end_time": "2021-09-08T01:47:47.845902Z",
     "start_time": "2021-09-08T01:47:47.837527Z"
    },
    "scrolled": true
   },
   "outputs": [],
   "source": [
    "df19 = DataFrame(morphs_list)"
   ]
  },
  {
   "cell_type": "code",
   "execution_count": 37,
   "id": "e417f946",
   "metadata": {
    "ExecuteTime": {
     "end_time": "2021-09-08T04:13:36.585257Z",
     "start_time": "2021-09-08T04:13:36.579904Z"
    }
   },
   "outputs": [
    {
     "data": {
      "text/plain": [
       "0"
      ]
     },
     "execution_count": 37,
     "metadata": {},
     "output_type": "execute_result"
    }
   ],
   "source": [
    "from nltk import Text\n",
    "text = Text(df19, name = \"2019 명사 빈도\")\n",
    "text.count('홈트')"
   ]
  },
  {
   "cell_type": "code",
   "execution_count": 3,
   "id": "8b22843d",
   "metadata": {
    "ExecuteTime": {
     "end_time": "2021-09-08T01:47:50.003761Z",
     "start_time": "2021-09-08T01:47:49.992145Z"
    }
   },
   "outputs": [],
   "source": [
    "df19.to_csv('title19_list.txt',index=False,sep='\\t')"
   ]
  },
  {
   "cell_type": "code",
   "execution_count": 4,
   "id": "04e0d17b",
   "metadata": {
    "ExecuteTime": {
     "end_time": "2021-09-08T01:47:58.521273Z",
     "start_time": "2021-09-08T01:47:53.681864Z"
    }
   },
   "outputs": [
    {
     "name": "stdout",
     "output_type": "stream",
     "text": [
      "[('홈트', 1452), ('코로나', 655), ('운동', 441), ('유플러스', 404), ('스마트홈', 388), ('서비스', 358), ('출시', 347), ('카카오', 333), ('집콕', 326), ('트레이닝', 313), ('공개', 276), ('건강', 271), ('삼성', 224), ('진행', 213), ('생활', 198), ('은파', 195), ('다이어트', 194), ('몸매', 188), ('증가', 187), ('시대', 183), ('게임', 172), ('스마트', 171), ('인기', 160), ('일상', 157), ('요가', 154), ('콘텐츠', 153), ('헬스', 150), ('온라인', 146), ('언택트', 140), ('집콕족', 138), ('캠페인', 127), ('한혜진', 127), ('관리', 126), ('이벤트', 126), ('혼자', 126), ('사업', 123), ('매출', 120), ('스포츠', 115), ('세대', 113), ('산다', 108), ('주말', 106), ('열풍', 106), ('시작', 104), ('필라테스', 102), ('종합', 101), ('판매', 100), ('급증', 98), ('홈트족', 98), ('트렌드', 97), ('영업', 97), ('레깅스', 96), ('비대', 96), ('추석', 96), ('박나래', 95), ('금융', 94), ('린지', 94), ('문화', 92), ('확대', 88), ('이용', 87), ('자산', 87), ('패션', 84), ('홈즈', 84), ('영상', 83), ('할인', 83), ('실시', 82), ('복근', 81), ('최대', 79), ('브랜드', 79), ('유튜브', 78), ('라이프', 76), ('나혼산', 75), ('제작', 75), ('용품', 74), ('올해', 72), ('고객', 72), ('구독', 71), ('상품', 70), ('화사', 70), ('전자', 69), ('렉스', 69), ('근황', 69), ('오늘', 68), ('단백질', 68), ('시장', 67), ('극복', 67), ('투자', 65), ('라이브', 65), ('상의', 63), ('제품', 62), ('쇼핑', 62), ('벨벳', 61), ('돌파', 60), ('대비', 59), ('슬레', 59), ('라인', 58), ('비일', 58), ('기획전', 57), ('홈플러스', 57), ('강화', 56), ('스타', 56), ('통신', 56), ('여름', 56), ('눈길', 55), ('프로그램', 55), ('거리', 55), ('개시', 54), ('주목', 53), ('전문', 53), ('한수진', 52), ('성장', 52), ('가입자', 52), ('제공', 52), ('프로', 51), ('웨어', 51), ('나혼자산다', 51), ('충성', 51), ('식품', 50), ('스마트폰', 50), ('스트레칭', 49), ('운영', 49), ('업계', 49), ('프로모션', 49), ('미디어', 49), ('공간', 49), ('유하나', 49), ('프로젝트', 48), ('뷰티', 48), ('두기', 48), ('신규', 48), ('맞춤', 48), ('유튜버', 47), ('피트니스', 47), ('대신', 47), ('그룹', 47), ('누적', 47), ('효과', 45), ('스케', 45), ('체중', 45), ('추천', 45), ('글로벌', 45), ('완벽', 45), ('해시태그', 45), ('도전', 45), ('활동', 44), ('아이', 44), ('성공', 43), ('비결', 43), ('헬스장', 43), ('유미', 43), ('코리아', 42), ('가지', 42), ('위해', 42), ('데이', 42), ('이용규', 42), ('기구', 41), ('유치', 41), ('사회', 41), ('세포', 41), ('오프', 41), ('전원주택', 40), ('허리', 40), ('기술', 40), ('근육', 40), ('시청률', 40), ('투어', 40), ('서울', 40), ('소셜', 40), ('스탬프', 40), ('탄탄', 39), ('이통', 39), ('화보', 39), ('개발', 39), ('지원', 39), ('다니엘', 39), ('아이템', 38), ('믹스', 38), ('조민아', 38), ('미니', 38), ('연속', 38), ('경제', 37), ('방문', 37), ('비법', 37), ('밀레', 37), ('스튜디오', 37), ('모델', 37), ('론칭', 37), ('스피커', 37), ('청소년', 37), ('감량', 37), ('격리', 36), ('결산', 36), ('습관', 35), ('노미', 35), ('대세', 35), ('소비', 35), ('자가', 35), ('오픈', 35), ('센터', 35), ('쉐이크', 35), ('방법', 34), ('올리비아', 34), ('마음', 34), ('소통', 34), ('골프', 34), ('확산', 34), ('연휴', 34), ('김광규', 34), ('사이다', 34), ('인증', 33), ('변신', 33), ('비비안', 33), ('기업', 33), ('이익', 33), ('하석진', 33), ('가정', 32), ('윤세아', 32), ('레저', 32), ('상장', 32), ('랑드', 32), ('시간', 31), ('자세', 31), ('홈코', 31), ('남영', 31), ('여성', 31), ('프리미엄', 31), ('스쿼트', 31), ('장애인', 31), ('배태랑', 31), ('헥사', 31), ('소개', 30), ('활용', 30), ('최고', 30), ('증강현실', 30), ('채널', 30), ('한국', 30), ('선물', 30), ('실적', 30), ('블루', 30), ('우리', 30), ('깜짝', 30), ('덱스터', 30), ('대상', 29), ('마사지', 29), ('준비', 29), ('사진', 29), ('세트', 29), ('마일', 29), ('가족', 29), ('우유', 29), ('커머스', 29), ('대화면', 29), ('특집', 29), ('하루', 28), ('엄마', 28), ('규모', 28), ('모바일', 28), ('장기', 28), ('옥션', 28), ('선택', 28), ('샐러드', 28), ('포스트', 28), ('강남', 28), ('소유진', 28), ('휴가', 28), ('바디', 27), ('세계', 27), ('공연', 27), ('윤현숙', 27), ('웹툰', 27), ('동아오츠카', 27), ('클래스', 26), ('트레이너', 26), ('매력', 26), ('면역', 26), ('편의점', 26), ('출산', 26), ('이용자', 26), ('현장', 26), ('체조', 26), ('방송', 26), ('네이버', 26), ('여신', 25), ('애플', 25), ('자기', 25), ('신세계', 25), ('체험', 25), ('개최', 25), ('실내', 25), ('카페', 25), ('워드', 25), ('취미', 25), ('겨냥', 25), ('자랑', 25), ('뉴스', 25), ('손예림', 25), ('성황리', 25), ('인터뷰', 25), ('가장', 25), ('이훈', 25), ('제주', 25)]\n"
     ]
    }
   ],
   "source": [
    "import pandas as pd\n",
    "from pandas import DataFrame\n",
    "\n",
    "\n",
    "file = open('title_2020.txt','r')\n",
    "data = file.read()\n",
    "\n",
    "\n",
    "#형태소 단위로 분해\n",
    "from konlpy.tag import Okt, Kkma\n",
    "from collections import Counter\n",
    "okt = Okt()\n",
    "morphs = okt.nouns(data)\n",
    "\n",
    "\n",
    "#길이가 1인것들 제거\n",
    "words = []\n",
    "for n in morphs:\n",
    "    if len(n)>1:\n",
    "        words.append(n)\n",
    "count = Counter(words)\n",
    "morphs_list = count.most_common(300)\n",
    "\n",
    "print(morphs_list)"
   ]
  },
  {
   "cell_type": "code",
   "execution_count": 5,
   "id": "a1fc2964",
   "metadata": {
    "ExecuteTime": {
     "end_time": "2021-09-08T01:47:58.597574Z",
     "start_time": "2021-09-08T01:47:58.592157Z"
    }
   },
   "outputs": [],
   "source": [
    "df20 = DataFrame(morphs_list)\n",
    "df20.to_csv('title20_list.txt',index=False,sep='\\t')"
   ]
  },
  {
   "cell_type": "code",
   "execution_count": 6,
   "id": "446c2dba",
   "metadata": {
    "ExecuteTime": {
     "end_time": "2021-09-08T01:47:58.676100Z",
     "start_time": "2021-09-08T01:47:58.673066Z"
    }
   },
   "outputs": [],
   "source": [
    "df20.columns = ['검색어', '횟수']\n",
    "df19.columns = ['검색어', '횟수']"
   ]
  },
  {
   "cell_type": "code",
   "execution_count": 8,
   "id": "c1a81545",
   "metadata": {
    "ExecuteTime": {
     "end_time": "2021-09-08T01:48:59.842177Z",
     "start_time": "2021-09-08T01:48:58.695382Z"
    }
   },
   "outputs": [],
   "source": [
    "import seaborn as sns"
   ]
  },
  {
   "cell_type": "markdown",
   "id": "b82db093",
   "metadata": {},
   "source": [
    "#### 공통단어 추출(이중 for문사용)"
   ]
  },
  {
   "cell_type": "code",
   "execution_count": 18,
   "id": "908fcd9a",
   "metadata": {
    "ExecuteTime": {
     "end_time": "2021-09-08T01:51:50.849262Z",
     "start_time": "2021-09-08T01:51:50.841395Z"
    }
   },
   "outputs": [],
   "source": [
    "df20_ = df20['검색어']\n",
    "df19_ = df19['검색어']"
   ]
  },
  {
   "cell_type": "code",
   "execution_count": 19,
   "id": "022e1572",
   "metadata": {
    "ExecuteTime": {
     "end_time": "2021-09-08T01:51:51.887068Z",
     "start_time": "2021-09-08T01:51:51.406279Z"
    }
   },
   "outputs": [],
   "source": [
    "cnt = 0\n",
    "temp = []\n",
    "for i in range(len(df20_)):\n",
    "    for j in range(len(df19_)):\n",
    "        if df20_[i] == df19_[j]:\n",
    "            cnt += 1\n",
    "            temp.append(df20_[i])\n",
    "            "
   ]
  },
  {
   "cell_type": "code",
   "execution_count": 20,
   "id": "30b9ad81",
   "metadata": {
    "ExecuteTime": {
     "end_time": "2021-09-08T01:51:52.005339Z",
     "start_time": "2021-09-08T01:51:52.001330Z"
    }
   },
   "outputs": [
    {
     "name": "stdout",
     "output_type": "stream",
     "text": [
      "['홈트', '운동', '유플러스', '스마트홈', '서비스', '출시', '카카오', '트레이닝', '공개', '건강', '진행', '생활', '다이어트', '몸매', '증가', '시대', '게임', '스마트', '인기', '일상', '요가', '콘텐츠', '헬스', '온라인', '관리', '이벤트', '스포츠', '세대', '주말', '열풍', '시작', '필라테스', '종합', '홈트족', '트렌드', '레깅스', '확대', '이용', '패션', '영상', '할인', '최대', '브랜드', '유튜브', '라이프', '제작', '용품', '올해', '고객', '상품', '오늘', '시장', '투자', '제품', '쇼핑', '돌파', '라인', '강화', '여름', '눈길', '프로그램', '주목', '전문', '프로', '웨어', '스트레칭', '업계', '프로모션', '뷰티', '맞춤', '유튜버', '효과', '스케', '체중', '추천', '도전', '아이', '헬스장', '코리아', '가지', '위해', '데이', '기구', '전원주택', '허리', '근육', '이통', '아이템', '경제', '비법', '스튜디오', '모델', '론칭', '감량', '습관', '대세', '소비', '오픈', '센터', '기업', '자세', '여성', '활용', '채널', '우리', '깜짝', '마사지', '사진', '세트', '옥션', '휴가', '바디', '트레이너', '현장', '방송', '여신', '애플', '신세계', '체험', '개최', '실내', '워드', '자랑']\n",
      "123\n"
     ]
    }
   ],
   "source": [
    "print(temp)\n",
    "print(cnt)"
   ]
  },
  {
   "cell_type": "markdown",
   "id": "81330387",
   "metadata": {
    "ExecuteTime": {
     "end_time": "2021-09-08T01:53:17.010105Z",
     "start_time": "2021-09-08T01:53:16.775108Z"
    }
   },
   "source": [
    "### 19/20 단어 시각화"
   ]
  },
  {
   "cell_type": "markdown",
   "id": "4dadee1a",
   "metadata": {},
   "source": [
    "import re\n",
    "\n",
    "import matplotlib.pyplot as plt\n",
    "import matplotlib\n",
    "from matplotlib import font_manager, rc\n",
    "\n",
    "import pytagcloud\n",
    "import webbrowser\n",
    "\n",
    "#빈도수로 시각화\n",
    "def showGraph(wordInfo):\n",
    "    \n",
    "    font_location = \"/System/Library/Fonts/Supplemental/AppleGothic.ttf\"\n",
    "    font_name = font_manager.FontProperties(fname=font_location).get_name()\n",
    "    matplotlib.rc('font', family=font_name)\n",
    "\n",
    "    plt.xlabel('주요 단어')\n",
    "    plt.ylabel('빈도수')\n",
    "    plt.grid(True)\n",
    "    \n",
    "    Sorted_Dict_Values = sorted(wordInfo.values(), reverse=True)\n",
    "    Sorted_Dict_Keys = sorted(wordInfo, key=wordInfo.get, reverse=True)\n",
    "\n",
    "    plt.bar(range(len(wordInfo)), Sorted_Dict_Values, align='center')\n",
    "    plt.xticks(range(len(wordInfo)), list(Sorted_Dict_Keys), rotation='70')\n",
    "\n",
    "    plt.show()"
   ]
  },
  {
   "cell_type": "code",
   "execution_count": 34,
   "id": "c2f3704a",
   "metadata": {
    "ExecuteTime": {
     "end_time": "2021-09-08T04:10:44.255901Z",
     "start_time": "2021-09-08T04:10:44.053443Z"
    }
   },
   "outputs": [
    {
     "ename": "TypeError",
     "evalue": "`Series.plot()` should not be called with positional arguments, only keyword arguments. The order of positional arguments will change in the future. Use `Series.plot(kind=20)` instead of `Series.plot(20,)`.",
     "output_type": "error",
     "traceback": [
      "\u001b[0;31m---------------------------------------------------------------------------\u001b[0m",
      "\u001b[0;31mTypeError\u001b[0m                                 Traceback (most recent call last)",
      "\u001b[0;32m<ipython-input-34-c2ec34e354a4>\u001b[0m in \u001b[0;36m<module>\u001b[0;34m\u001b[0m\n\u001b[1;32m      3\u001b[0m \u001b[0;34m\u001b[0m\u001b[0m\n\u001b[1;32m      4\u001b[0m \u001b[0mplt\u001b[0m\u001b[0;34m.\u001b[0m\u001b[0mtitle\u001b[0m\u001b[0;34m(\u001b[0m\u001b[0;34m'2019년 홈트 검색 명사 빈도수'\u001b[0m\u001b[0;34m)\u001b[0m\u001b[0;34m\u001b[0m\u001b[0;34m\u001b[0m\u001b[0m\n\u001b[0;32m----> 5\u001b[0;31m \u001b[0mdf19_\u001b[0m\u001b[0;34m.\u001b[0m\u001b[0mplot\u001b[0m\u001b[0;34m(\u001b[0m\u001b[0;36m20\u001b[0m\u001b[0;34m)\u001b[0m\u001b[0;34m\u001b[0m\u001b[0;34m\u001b[0m\u001b[0m\n\u001b[0m\u001b[1;32m      6\u001b[0m \u001b[0mplt\u001b[0m\u001b[0;34m.\u001b[0m\u001b[0mshow\u001b[0m\u001b[0;34m(\u001b[0m\u001b[0;34m)\u001b[0m\u001b[0;34m\u001b[0m\u001b[0;34m\u001b[0m\u001b[0m\n",
      "\u001b[0;32m~/opt/anaconda3/lib/python3.8/site-packages/pandas/plotting/_core.py\u001b[0m in \u001b[0;36m__call__\u001b[0;34m(self, *args, **kwargs)\u001b[0m\n\u001b[1;32m    875\u001b[0m         \u001b[0mplot_backend\u001b[0m \u001b[0;34m=\u001b[0m \u001b[0m_get_plot_backend\u001b[0m\u001b[0;34m(\u001b[0m\u001b[0mkwargs\u001b[0m\u001b[0;34m.\u001b[0m\u001b[0mpop\u001b[0m\u001b[0;34m(\u001b[0m\u001b[0;34m\"backend\"\u001b[0m\u001b[0;34m,\u001b[0m \u001b[0;32mNone\u001b[0m\u001b[0;34m)\u001b[0m\u001b[0;34m)\u001b[0m\u001b[0;34m\u001b[0m\u001b[0;34m\u001b[0m\u001b[0m\n\u001b[1;32m    876\u001b[0m \u001b[0;34m\u001b[0m\u001b[0m\n\u001b[0;32m--> 877\u001b[0;31m         x, y, kind, kwargs = self._get_call_args(\n\u001b[0m\u001b[1;32m    878\u001b[0m             \u001b[0mplot_backend\u001b[0m\u001b[0;34m.\u001b[0m\u001b[0m__name__\u001b[0m\u001b[0;34m,\u001b[0m \u001b[0mself\u001b[0m\u001b[0;34m.\u001b[0m\u001b[0m_parent\u001b[0m\u001b[0;34m,\u001b[0m \u001b[0margs\u001b[0m\u001b[0;34m,\u001b[0m \u001b[0mkwargs\u001b[0m\u001b[0;34m\u001b[0m\u001b[0;34m\u001b[0m\u001b[0m\n\u001b[1;32m    879\u001b[0m         )\n",
      "\u001b[0;32m~/opt/anaconda3/lib/python3.8/site-packages/pandas/plotting/_core.py\u001b[0m in \u001b[0;36m_get_call_args\u001b[0;34m(backend_name, data, args, kwargs)\u001b[0m\n\u001b[1;32m    859\u001b[0m                 \u001b[0;34mf\"`Series.plot({positional_args})`.\"\u001b[0m\u001b[0;34m\u001b[0m\u001b[0;34m\u001b[0m\u001b[0m\n\u001b[1;32m    860\u001b[0m             )\n\u001b[0;32m--> 861\u001b[0;31m             \u001b[0;32mraise\u001b[0m \u001b[0mTypeError\u001b[0m\u001b[0;34m(\u001b[0m\u001b[0mmsg\u001b[0m\u001b[0;34m)\u001b[0m\u001b[0;34m\u001b[0m\u001b[0;34m\u001b[0m\u001b[0m\n\u001b[0m\u001b[1;32m    862\u001b[0m \u001b[0;34m\u001b[0m\u001b[0m\n\u001b[1;32m    863\u001b[0m         \u001b[0mpos_args\u001b[0m \u001b[0;34m=\u001b[0m \u001b[0;34m{\u001b[0m\u001b[0mname\u001b[0m\u001b[0;34m:\u001b[0m \u001b[0mvalue\u001b[0m \u001b[0;32mfor\u001b[0m \u001b[0mvalue\u001b[0m\u001b[0;34m,\u001b[0m \u001b[0;34m(\u001b[0m\u001b[0mname\u001b[0m\u001b[0;34m,\u001b[0m \u001b[0m_\u001b[0m\u001b[0;34m)\u001b[0m \u001b[0;32min\u001b[0m \u001b[0mzip\u001b[0m\u001b[0;34m(\u001b[0m\u001b[0margs\u001b[0m\u001b[0;34m,\u001b[0m \u001b[0marg_def\u001b[0m\u001b[0;34m)\u001b[0m\u001b[0;34m}\u001b[0m\u001b[0;34m\u001b[0m\u001b[0;34m\u001b[0m\u001b[0m\n",
      "\u001b[0;31mTypeError\u001b[0m: `Series.plot()` should not be called with positional arguments, only keyword arguments. The order of positional arguments will change in the future. Use `Series.plot(kind=20)` instead of `Series.plot(20,)`."
     ]
    },
    {
     "name": "stderr",
     "output_type": "stream",
     "text": [
      "/Users/dayoung/opt/anaconda3/lib/python3.8/site-packages/matplotlib/backends/backend_agg.py:238: RuntimeWarning: Glyph 45380 missing from current font.\n",
      "  font.set_text(s, 0.0, flags=flags)\n",
      "/Users/dayoung/opt/anaconda3/lib/python3.8/site-packages/matplotlib/backends/backend_agg.py:238: RuntimeWarning: Glyph 54856 missing from current font.\n",
      "  font.set_text(s, 0.0, flags=flags)\n",
      "/Users/dayoung/opt/anaconda3/lib/python3.8/site-packages/matplotlib/backends/backend_agg.py:238: RuntimeWarning: Glyph 53944 missing from current font.\n",
      "  font.set_text(s, 0.0, flags=flags)\n",
      "/Users/dayoung/opt/anaconda3/lib/python3.8/site-packages/matplotlib/backends/backend_agg.py:238: RuntimeWarning: Glyph 44160 missing from current font.\n",
      "  font.set_text(s, 0.0, flags=flags)\n",
      "/Users/dayoung/opt/anaconda3/lib/python3.8/site-packages/matplotlib/backends/backend_agg.py:238: RuntimeWarning: Glyph 49353 missing from current font.\n",
      "  font.set_text(s, 0.0, flags=flags)\n",
      "/Users/dayoung/opt/anaconda3/lib/python3.8/site-packages/matplotlib/backends/backend_agg.py:238: RuntimeWarning: Glyph 47749 missing from current font.\n",
      "  font.set_text(s, 0.0, flags=flags)\n",
      "/Users/dayoung/opt/anaconda3/lib/python3.8/site-packages/matplotlib/backends/backend_agg.py:238: RuntimeWarning: Glyph 49324 missing from current font.\n",
      "  font.set_text(s, 0.0, flags=flags)\n",
      "/Users/dayoung/opt/anaconda3/lib/python3.8/site-packages/matplotlib/backends/backend_agg.py:238: RuntimeWarning: Glyph 48712 missing from current font.\n",
      "  font.set_text(s, 0.0, flags=flags)\n",
      "/Users/dayoung/opt/anaconda3/lib/python3.8/site-packages/matplotlib/backends/backend_agg.py:238: RuntimeWarning: Glyph 46020 missing from current font.\n",
      "  font.set_text(s, 0.0, flags=flags)\n",
      "/Users/dayoung/opt/anaconda3/lib/python3.8/site-packages/matplotlib/backends/backend_agg.py:238: RuntimeWarning: Glyph 49688 missing from current font.\n",
      "  font.set_text(s, 0.0, flags=flags)\n",
      "/Users/dayoung/opt/anaconda3/lib/python3.8/site-packages/matplotlib/backends/backend_agg.py:201: RuntimeWarning: Glyph 45380 missing from current font.\n",
      "  font.set_text(s, 0, flags=flags)\n",
      "/Users/dayoung/opt/anaconda3/lib/python3.8/site-packages/matplotlib/backends/backend_agg.py:201: RuntimeWarning: Glyph 54856 missing from current font.\n",
      "  font.set_text(s, 0, flags=flags)\n",
      "/Users/dayoung/opt/anaconda3/lib/python3.8/site-packages/matplotlib/backends/backend_agg.py:201: RuntimeWarning: Glyph 53944 missing from current font.\n",
      "  font.set_text(s, 0, flags=flags)\n",
      "/Users/dayoung/opt/anaconda3/lib/python3.8/site-packages/matplotlib/backends/backend_agg.py:201: RuntimeWarning: Glyph 44160 missing from current font.\n",
      "  font.set_text(s, 0, flags=flags)\n",
      "/Users/dayoung/opt/anaconda3/lib/python3.8/site-packages/matplotlib/backends/backend_agg.py:201: RuntimeWarning: Glyph 49353 missing from current font.\n",
      "  font.set_text(s, 0, flags=flags)\n",
      "/Users/dayoung/opt/anaconda3/lib/python3.8/site-packages/matplotlib/backends/backend_agg.py:201: RuntimeWarning: Glyph 47749 missing from current font.\n",
      "  font.set_text(s, 0, flags=flags)\n",
      "/Users/dayoung/opt/anaconda3/lib/python3.8/site-packages/matplotlib/backends/backend_agg.py:201: RuntimeWarning: Glyph 49324 missing from current font.\n",
      "  font.set_text(s, 0, flags=flags)\n",
      "/Users/dayoung/opt/anaconda3/lib/python3.8/site-packages/matplotlib/backends/backend_agg.py:201: RuntimeWarning: Glyph 48712 missing from current font.\n",
      "  font.set_text(s, 0, flags=flags)\n",
      "/Users/dayoung/opt/anaconda3/lib/python3.8/site-packages/matplotlib/backends/backend_agg.py:201: RuntimeWarning: Glyph 46020 missing from current font.\n",
      "  font.set_text(s, 0, flags=flags)\n",
      "/Users/dayoung/opt/anaconda3/lib/python3.8/site-packages/matplotlib/backends/backend_agg.py:201: RuntimeWarning: Glyph 49688 missing from current font.\n",
      "  font.set_text(s, 0, flags=flags)\n"
     ]
    },
    {
     "data": {
      "image/png": "[encoded data removed]",
      "text/plain": [
       "<Figure size 1080x720 with 1 Axes>"
      ]
     },
     "metadata": {
      "needs_background": "light"
     },
     "output_type": "display_data"
    }
   ],
   "source": []
  },
  {
   "cell_type": "code",
   "execution_count": 32,
   "id": "7f3b2f13",
   "metadata": {
    "ExecuteTime": {
     "end_time": "2021-09-08T04:05:19.359942Z",
     "start_time": "2021-09-08T04:05:19.348228Z"
    }
   },
   "outputs": [
    {
     "ename": "TypeError",
     "evalue": "'Series' object is not callable",
     "output_type": "error",
     "traceback": [
      "\u001b[0;31m---------------------------------------------------------------------------\u001b[0m",
      "\u001b[0;31mTypeError\u001b[0m                                 Traceback (most recent call last)",
      "\u001b[0;32m<ipython-input-32-4e0ec679fbc1>\u001b[0m in \u001b[0;36m<module>\u001b[0;34m\u001b[0m\n\u001b[0;32m----> 1\u001b[0;31m \u001b[0mdf19\u001b[0m\u001b[0;34m.\u001b[0m\u001b[0mplot\u001b[0m\u001b[0;34m(\u001b[0m\u001b[0mkind\u001b[0m\u001b[0;34m=\u001b[0m\u001b[0;34m'bar'\u001b[0m\u001b[0;34m,\u001b[0m\u001b[0mstacked\u001b[0m\u001b[0;34m=\u001b[0m\u001b[0;32mFalse\u001b[0m\u001b[0;34m,\u001b[0m \u001b[0mfigsize\u001b[0m\u001b[0;34m=\u001b[0m\u001b[0;34m(\u001b[0m\u001b[0;36m16\u001b[0m\u001b[0;34m,\u001b[0m\u001b[0;36m8\u001b[0m\u001b[0;34m)\u001b[0m\u001b[0;34m)\u001b[0m\u001b[0;34m\u001b[0m\u001b[0;34m\u001b[0m\u001b[0m\n\u001b[0m\u001b[1;32m      2\u001b[0m \u001b[0mplt\u001b[0m\u001b[0;34m.\u001b[0m\u001b[0mshow\u001b[0m\u001b[0;34m(\u001b[0m\u001b[0;34m)\u001b[0m\u001b[0;34m\u001b[0m\u001b[0;34m\u001b[0m\u001b[0m\n",
      "\u001b[0;31mTypeError\u001b[0m: 'Series' object is not callable"
     ]
    }
   ],
   "source": []
  },
  {
   "cell_type": "code",
   "execution_count": null,
   "id": "9cc24e8b",
   "metadata": {},
   "outputs": [],
   "source": []
  },
  {
   "cell_type": "code",
   "execution_count": null,
   "id": "44d73857",
   "metadata": {},
   "outputs": [],
   "source": []
  }
 ],
 "metadata": {
  "kernelspec": {
   "display_name": "Python 3",
   "language": "python",
   "name": "python3"
  },
  "language_info": {
   "codemirror_mode": {
    "name": "ipython",
    "version": 3
   },
   "file_extension": ".py",
   "mimetype": "text/x-python",
   "name": "python",
   "nbconvert_exporter": "python",
   "pygments_lexer": "ipython3",
   "version": "3.8.8"
  },
  "toc": {
   "base_numbering": 1,
   "nav_menu": {},
   "number_sections": true,
   "sideBar": true,
   "skip_h1_title": false,
   "title_cell": "Table of Contents",
   "title_sidebar": "Contents",
   "toc_cell": false,
   "toc_position": {},
   "toc_section_display": true,
   "toc_window_display": false
  },
  "varInspector": {
   "cols": {
    "lenName": 16,
    "lenType": 16,
    "lenVar": 40
   },
   "kernels_config": {
    "python": {
     "delete_cmd_postfix": "",
     "delete_cmd_prefix": "del ",
     "library": "var_list.py",
     "varRefreshCmd": "print(var_dic_list())"
    },
    "r": {
     "delete_cmd_postfix": ") ",
     "delete_cmd_prefix": "rm(",
     "library": "var_list.r",
     "varRefreshCmd": "cat(var_dic_list()) "
    }
   },
   "types_to_exclude": [
    "module",
    "function",
    "builtin_function_or_method",
    "instance",
    "_Feature"
   ],
   "window_display": false
  }
 },
 "nbformat": 4,
 "nbformat_minor": 5
}
