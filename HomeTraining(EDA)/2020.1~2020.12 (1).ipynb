{
 "cells": [
  {
   "cell_type": "code",
   "execution_count": 1,
   "id": "5b1c80f1",
   "metadata": {
    "ExecuteTime": {
     "end_time": "2021-09-06T07:46:12.195858Z",
     "start_time": "2021-09-06T07:46:12.182311Z"
    }
   },
   "outputs": [
    {
     "data": {
      "text/html": [
       "<style>\n",
       "div.container { width:100% !important; }\n",
       "div.CodeMirror {font-family: Consolas; font-size: 16pt;}\n",
       "div.output { font-size: 16pt; font-weight: bold;}\n",
       "div.input { font-family: Consolas; font-size: 16pt;}\n",
       "div.prompt { min-width: 100px;}\n",
       "</style>\n"
      ],
      "text/plain": [
       "<IPython.core.display.HTML object>"
      ]
     },
     "metadata": {},
     "output_type": "display_data"
    }
   ],
   "source": [
    "from IPython.core.display import display, HTML\n",
    "display(HTML(\n",
    "\"\"\"<style>\n",
    "div.container { width:100% !important; }\n",
    "div.CodeMirror {font-family: Consolas; font-size: 16pt;}\n",
    "div.output { font-size: 16pt; font-weight: bold;}\n",
    "div.input { font-family: Consolas; font-size: 16pt;}\n",
    "div.prompt { min-width: 100px;}\n",
    "</style>\n",
    "\"\"\"))"
   ]
  },
  {
   "cell_type": "code",
   "execution_count": 2,
   "id": "6c0c3d82",
   "metadata": {
    "ExecuteTime": {
     "end_time": "2021-09-06T07:46:22.304842Z",
     "start_time": "2021-09-06T07:46:21.661045Z"
    }
   },
   "outputs": [],
   "source": [
    "import requests\n",
    "from pandas import DataFrame\n",
    "import pandas as pd\n",
    "from bs4 import BeautifulSoup\n",
    "import re\n",
    "from datetime import datetime\n",
    "import os"
   ]
  },
  {
   "cell_type": "code",
   "execution_count": 3,
   "id": "f90a49a6",
   "metadata": {
    "ExecuteTime": {
     "end_time": "2021-09-06T07:46:24.663207Z",
     "start_time": "2021-09-06T07:46:24.659521Z"
    }
   },
   "outputs": [],
   "source": [
    "date = str(datetime.now())\n",
    "date = date[: date.rfind(':')].replace(' ', '_')\n",
    "date = date.replace(':', '시') + '분'"
   ]
  },
  {
   "cell_type": "code",
   "execution_count": 4,
   "id": "c111881e",
   "metadata": {
    "ExecuteTime": {
     "end_time": "2021-09-06T07:46:29.488430Z",
     "start_time": "2021-09-06T07:46:25.410993Z"
    }
   },
   "outputs": [
    {
     "name": "stdout",
     "output_type": "stream",
     "text": [
      "검색 키워드를 입력하세요 : 홈트\n",
      "총 필요한 뉴스기사를 입력해주세요(숫자만 입력) : 1000\n"
     ]
    }
   ],
   "source": [
    "#전체 몇개인지?\n",
    "query = input('검색 키워드를 입력하세요 : ')\n",
    "query = query.replace('', '+')\n",
    "news_num = int(input('총 필요한 뉴스기사를 입력해주세요(숫자만 입력) : '))"
   ]
  },
  {
   "cell_type": "code",
   "execution_count": 5,
   "id": "c0937742",
   "metadata": {
    "ExecuteTime": {
     "end_time": "2021-09-06T07:46:30.772160Z",
     "start_time": "2021-09-06T07:46:30.375613Z"
    }
   },
   "outputs": [],
   "source": [
    "news_url = 'https://search.naver.com/search.naver?where=news&sm=tab_jum&query={}'\n",
    "req = requests.get(news_url.format(query))\n",
    "soup = BeautifulSoup(req.text, 'html.parser')"
   ]
  },
  {
   "cell_type": "code",
   "execution_count": 6,
   "id": "cbac1980",
   "metadata": {
    "ExecuteTime": {
     "end_time": "2021-09-06T07:46:31.427818Z",
     "start_time": "2021-09-06T07:46:31.423555Z"
    }
   },
   "outputs": [],
   "source": [
    "news_dict = {}\n",
    "idx = 0 \n",
    "cur_page = 1 #뉴스 갯수가 더 많으면 다음 페이지로 넘어가야 하니까 기억해둘것"
   ]
  },
  {
   "cell_type": "code",
   "execution_count": 7,
   "id": "938ab904",
   "metadata": {
    "ExecuteTime": {
     "end_time": "2021-09-06T07:47:02.446954Z",
     "start_time": "2021-09-06T07:46:33.127582Z"
    }
   },
   "outputs": [
    {
     "name": "stdout",
     "output_type": "stream",
     "text": [
      "\n"
     ]
    }
   ],
   "source": [
    "print()\n",
    "\n",
    "while idx < news_num:\n",
    "    \n",
    "    table = soup.find('ul',{'class' : 'list_news'})\n",
    "    li_list = table.find_all('li', {'id': re.compile('sp_nws.*')})\n",
    "    area_list = [li.find('div', {'class' : 'news_area'}) for li in li_list]\n",
    "    a_list = [area.find('a', {'class' : 'news_tit'}) for area in area_list]\n",
    "    \n",
    "    for n in a_list[:min(len(a_list), news_num-idx)]:\n",
    "        news_dict[idx] = {'title' : n.get('title'),\n",
    "                          'url' : n.get('href') }\n",
    "        idx += 1\n",
    "\n",
    "    cur_page += 1\n",
    "    \n",
    "    pages = soup.find('div', {'class' : 'sc_page_inner'})\n",
    "    next_page_url = [p for p in pages.find_all('a') if p.text == str(cur_page)][0].get('href')\n",
    "    \n",
    "    req = requests.get('https://search.naver.com/search.naver' + next_page_url)\n",
    "    soup = BeautifulSoup(req.text, 'html.parser')"
   ]
  },
  {
   "cell_type": "code",
   "execution_count": 8,
   "id": "c204160e",
   "metadata": {
    "ExecuteTime": {
     "end_time": "2021-09-06T07:47:06.231489Z",
     "start_time": "2021-09-06T07:47:06.166708Z"
    }
   },
   "outputs": [],
   "source": [
    "#엑셀\n",
    "folder_path = os.getcwd()\n",
    "xlsx_file_name = '네이버뉴스_{}_{}.xlsx'.format(query, date)\n",
    "news_data = []\n",
    "news_df = pd.DataFrame(data=news_data, columns=['news'])\n",
    "news_df.to_excel(xlsx_file_name)"
   ]
  },
  {
   "cell_type": "code",
   "execution_count": 9,
   "id": "e3d763f0",
   "metadata": {
    "ExecuteTime": {
     "end_time": "2021-09-06T07:47:08.158716Z",
     "start_time": "2021-09-06T07:47:08.155305Z"
    }
   },
   "outputs": [],
   "source": [
    "import time"
   ]
  },
  {
   "cell_type": "code",
   "execution_count": 10,
   "id": "56eb974d",
   "metadata": {
    "ExecuteTime": {
     "end_time": "2021-09-06T07:47:09.099765Z",
     "start_time": "2021-09-06T07:47:08.864104Z"
    }
   },
   "outputs": [],
   "source": [
    "url = 'https://search.naver.com/search.naver?where=news&query=%ED%99%88%ED%8A%B8&sm=tab_opt&sort=2&photo=0&field=0&pd=3&ds=2020.01.01&de=2020.12.31&docid=&related=0&mynews=0&office_type=0&office_section_code=0&news_office_checked=&nso=so%3Ar%2Cp%3Afrom20200101to20201231&is_sug_officeid=0'\n",
    "headers = {'user-agent':'Mozilla/5.0 (Windows NT 10.0; Win64; x64) AppleWebKit/537.36 (KHTML, like Gecko) Chrome/88.0.4324.150 Safari/537.36',\n",
    "          'accept':'text/html,application/xhtml+xml,application/xml;q=0.9,image/avif,image/webp,image/apng,*/*;q=0.8,application/signed-exchange;v=b3;q=0.9'}\n",
    "response = requests.get(url, headers=headers)\n",
    "soup = BeautifulSoup(response.text, 'lxml')"
   ]
  },
  {
   "cell_type": "code",
   "execution_count": 11,
   "id": "b8d3d586",
   "metadata": {
    "ExecuteTime": {
     "end_time": "2021-09-06T07:47:09.872404Z",
     "start_time": "2021-09-06T07:47:09.858695Z"
    }
   },
   "outputs": [
    {
     "data": {
      "text/plain": [
       "[\"[봉쥬르 2020] 올해 주목해야 할 '5G·AI·구독경제'\",\n",
       " \"[오늘의 책]금연·다이어트…새해에도 작심삼일? '습관의 완성'\",\n",
       " \"주말의 홈트ㅣ한수진의 요가 한 수, '잠자고있는 복근 깨우는 요가'\",\n",
       " '`괴팍한5형제` 방법에 대해 묻자, 김종국은 운동 얘기라면 한 회로는 모자란데라며 미소를 띄어!',\n",
       " '\\'괴팍한5형제\\' 김종국 \"빨 팬티 입고 운동하면 돼\"...서장훈 기겁 \\'폭소\\'',\n",
       " '다이어트 운동 필라테스, 폼롤러와 함께하는 동작들',\n",
       " '소소하지만 확실한 홈트',\n",
       " \"르꼬끄, 새해 몸만들기 '르스타트 2020' 캠페인 진행\",\n",
       " '코카콜라 박보영 반신욕&홈트 광고 촬영 공개',\n",
       " '르꼬끄 스포르티브 ‘르스타트(LE START) 2020’ 캠페인 전개']"
      ]
     },
     "execution_count": 11,
     "metadata": {},
     "output_type": "execute_result"
    }
   ],
   "source": [
    "#기사제목\n",
    "soup.find_all('a', attrs={'class':'news_tit'})\n",
    "[title['title'] for title in soup.find_all('a', attrs={'class':'news_tit'}) ]"
   ]
  },
  {
   "cell_type": "code",
   "execution_count": 12,
   "id": "55fc0c08",
   "metadata": {
    "ExecuteTime": {
     "end_time": "2021-09-06T07:47:13.435250Z",
     "start_time": "2021-09-06T07:47:13.419658Z"
    }
   },
   "outputs": [
    {
     "data": {
      "text/plain": [
       "[<span class=\"info\">2020.01.01.</span>,\n",
       " <span class=\"info\">2020.01.01.</span>,\n",
       " <span class=\"info\">2020.01.01.</span>,\n",
       " <span class=\"info\">2020.01.01.</span>,\n",
       " <span class=\"info\">2020.01.02.</span>,\n",
       " <span class=\"info\">2020.01.02.</span>,\n",
       " <span class=\"info\">2020.01.02.</span>,\n",
       " <span class=\"info\">2020.01.02.</span>,\n",
       " <span class=\"info\">2020.01.02.</span>,\n",
       " <span class=\"info\">2020.01.02.</span>]"
      ]
     },
     "execution_count": 12,
     "metadata": {},
     "output_type": "execute_result"
    }
   ],
   "source": [
    "#기사주소\n",
    "[ url['href'] for url in soup.find_all('a', attrs={'class':'news_tit'}) ]\n",
    "\n",
    "#기사작성일-태그중복, 이상한거 가져오는데...?-정규표현식 정리?\n",
    "soup.find_all('span', attrs={'class':'info'})"
   ]
  },
  {
   "cell_type": "code",
   "execution_count": 13,
   "id": "aae927b9",
   "metadata": {
    "ExecuteTime": {
     "end_time": "2021-09-06T07:47:15.444326Z",
     "start_time": "2021-09-06T07:47:15.434335Z"
    }
   },
   "outputs": [
    {
     "data": {
      "text/plain": [
       "['2020.01.01.',\n",
       " '2020.01.01.',\n",
       " '2020.01.01.',\n",
       " '2020.01.01.',\n",
       " '2020.01.02.',\n",
       " '2020.01.02.',\n",
       " '2020.01.02.',\n",
       " '2020.01.02.',\n",
       " '2020.01.02.',\n",
       " '2020.01.02.']"
      ]
     },
     "execution_count": 13,
     "metadata": {},
     "output_type": "execute_result"
    }
   ],
   "source": [
    "dates = [ date.get_text() for date in soup.find_all('span', attrs={'class':'info'})]\n",
    "\n",
    "import re\n",
    "\n",
    "date_list = []\n",
    "for date in dates:\n",
    "    if re.search(r'\\d+.\\d+.\\d+.', date) != None:\n",
    "        date_list.append(date)\n",
    "\n",
    "date_list"
   ]
  },
  {
   "cell_type": "code",
   "execution_count": null,
   "id": "b7ae1b30",
   "metadata": {
    "ExecuteTime": {
     "start_time": "2021-09-06T08:05:51.236Z"
    }
   },
   "outputs": [],
   "source": [
    "import pandas as pd\n",
    "start = 1\n",
    "result_df = pd.DataFrame()\n",
    "\n",
    "while True:\n",
    "    try:\n",
    "        url = 'https://search.naver.com/search.naver?where=news&sm=tab_pge&query=%ED%99%88%ED%8A%B8&sort=2&photo=0&field=0&pd=3&ds=2020.01.01&de=2021.01.01&mynews=0&office_type=0&office_section_code=0&news_office_checked=&nso=so:r,p:from20200101to20200201,a:all&start={}'.format(start)\n",
    "        headers = {'user-agent':'Mozilla/5.0 (Windows NT 10.0; Win64; x64) AppleWebKit/537.36 (KHTML, like Gecko) Chrome/88.0.4324.150 Safari/537.36',\n",
    "          'accept':'text/html,application/xhtml+xml,application/xml;q=0.9,image/avif,image/webp,image/apng,*/*;q=0.8,application/signed-exchange;v=b3;q=0.9'}\n",
    "        response = requests.get(url, headers=headers)\n",
    "        soup = BeautifulSoup(response.text, 'lxml')\n",
    "        news_title = [title['title'] for title in soup.find_all('a', attrs={'class':'news_tit'})] # 기사 제목\n",
    "        news_url = [ url['href'] for url in soup.find_all('a', attrs={'class':'news_tit'}) ] # 기사 url\n",
    "        \n",
    "        dates = [ date.get_text() for date in soup.find_all('span', attrs={'class':'info'})] # 기사 작성일\n",
    "        news_date = []\n",
    "        for date in dates:\n",
    "            if re.search(r'\\d+.\\d+.\\d+.', date) != None: # 기사 작성일 정제\n",
    "                news_date.append(date)\n",
    "                #print(news_date)\n",
    "        if date == '2021.01.01.':\n",
    "            break\n",
    "        start += 10\n",
    "        df = pd.DataFrame({'기사작성일':news_date,'기사제목':news_title,'기사주소':news_url})\n",
    "        result_df = pd.concat([result_df, df], ignore_index=True)\n",
    "        \n",
    "    except: # 오류발생시 몇 페이지까지 크롤링했는지 page를 확인하기 \n",
    "        print(start)\n",
    "        break"
   ]
  },
  {
   "cell_type": "code",
   "execution_count": 19,
   "id": "13a97aa2",
   "metadata": {
    "ExecuteTime": {
     "end_time": "2021-09-06T08:03:43.897352Z",
     "start_time": "2021-09-06T08:03:43.885942Z"
    }
   },
   "outputs": [
    {
     "data": {
      "text/html": [
       "<div>\n",
       "<style scoped>\n",
       "    .dataframe tbody tr th:only-of-type {\n",
       "        vertical-align: middle;\n",
       "    }\n",
       "\n",
       "    .dataframe tbody tr th {\n",
       "        vertical-align: top;\n",
       "    }\n",
       "\n",
       "    .dataframe thead th {\n",
       "        text-align: right;\n",
       "    }\n",
       "</style>\n",
       "<table border=\"1\" class=\"dataframe\">\n",
       "  <thead>\n",
       "    <tr style=\"text-align: right;\">\n",
       "      <th></th>\n",
       "      <th>기사작성일</th>\n",
       "      <th>기사제목</th>\n",
       "      <th>기사주소</th>\n",
       "    </tr>\n",
       "  </thead>\n",
       "  <tbody>\n",
       "    <tr>\n",
       "      <th>0</th>\n",
       "      <td>2020.01.01.</td>\n",
       "      <td>[봉쥬르 2020] 올해 주목해야 할 '5G·AI·구독경제'</td>\n",
       "      <td>http://www.asiatoday.co.kr/view.php?key=201912...</td>\n",
       "    </tr>\n",
       "    <tr>\n",
       "      <th>1</th>\n",
       "      <td>2020.01.01.</td>\n",
       "      <td>[오늘의 책]금연·다이어트…새해에도 작심삼일? '습관의 완성'</td>\n",
       "      <td>http://www.newsis.com/view/?id=NISX20191231_00...</td>\n",
       "    </tr>\n",
       "    <tr>\n",
       "      <th>2</th>\n",
       "      <td>2020.01.01.</td>\n",
       "      <td>주말의 홈트ㅣ한수진의 요가 한 수, '잠자고있는 복근 깨우는 요가'</td>\n",
       "      <td>https://www.hankyung.com/life/article/20191231...</td>\n",
       "    </tr>\n",
       "    <tr>\n",
       "      <th>3</th>\n",
       "      <td>2020.01.01.</td>\n",
       "      <td>`괴팍한5형제` 방법에 대해 묻자, 김종국은 운동 얘기라면 한 회로는 모자란데라며 ...</td>\n",
       "      <td>http://www.ksilbo.co.kr/news/articleView.html?...</td>\n",
       "    </tr>\n",
       "    <tr>\n",
       "      <th>4</th>\n",
       "      <td>2020.01.02.</td>\n",
       "      <td>'괴팍한5형제' 김종국 \"빨 팬티 입고 운동하면 돼\"...서장훈 기겁 '폭소'</td>\n",
       "      <td>http://siminilbo.co.kr/news/newsview.php?ncode...</td>\n",
       "    </tr>\n",
       "    <tr>\n",
       "      <th>...</th>\n",
       "      <td>...</td>\n",
       "      <td>...</td>\n",
       "      <td>...</td>\n",
       "    </tr>\n",
       "    <tr>\n",
       "      <th>23585</th>\n",
       "      <td>2020.09.15.</td>\n",
       "      <td>김혜선, 말도 기죽을 근육미 ‘♥독일인 연하 남편 반할 만’ [SNS★컷]</td>\n",
       "      <td>https://www.newsen.com/news_view.php?uid=20200...</td>\n",
       "    </tr>\n",
       "    <tr>\n",
       "      <th>23586</th>\n",
       "      <td>2020.09.15.</td>\n",
       "      <td>김혜선, 말 근육 연상케 하는 근육질 몸매…'독일 연하남편♥' 반할 만</td>\n",
       "      <td>http://sports.chosun.com/news/ntype.htm?id=202...</td>\n",
       "    </tr>\n",
       "    <tr>\n",
       "      <th>23587</th>\n",
       "      <td>2020.09.15.</td>\n",
       "      <td>인터파크 \"슬기로운 집콕생활 위한 맞춤 도서 기획전\"</td>\n",
       "      <td>http://www.sportsseoul.com/news/read/958363?re...</td>\n",
       "    </tr>\n",
       "    <tr>\n",
       "      <th>23588</th>\n",
       "      <td>2020.09.15.</td>\n",
       "      <td>인터파크, 건강 관련 도서 추천 기획전 진행</td>\n",
       "      <td>http://www.thefirstmedia.net/news/articleView....</td>\n",
       "    </tr>\n",
       "    <tr>\n",
       "      <th>23589</th>\n",
       "      <td>2020.09.15.</td>\n",
       "      <td>'집콕' 문화로 아임슬리핑·금우글로벌스포츠 제품 주목…추석 전 특별행사 진행</td>\n",
       "      <td>http://news.mt.co.kr/mtview.php?no=20200915102...</td>\n",
       "    </tr>\n",
       "  </tbody>\n",
       "</table>\n",
       "<p>23590 rows × 3 columns</p>\n",
       "</div>"
      ],
      "text/plain": [
       "             기사작성일                                               기사제목  \\\n",
       "0      2020.01.01.                  [봉쥬르 2020] 올해 주목해야 할 '5G·AI·구독경제'   \n",
       "1      2020.01.01.                 [오늘의 책]금연·다이어트…새해에도 작심삼일? '습관의 완성'   \n",
       "2      2020.01.01.              주말의 홈트ㅣ한수진의 요가 한 수, '잠자고있는 복근 깨우는 요가'   \n",
       "3      2020.01.01.  `괴팍한5형제` 방법에 대해 묻자, 김종국은 운동 얘기라면 한 회로는 모자란데라며 ...   \n",
       "4      2020.01.02.        '괴팍한5형제' 김종국 \"빨 팬티 입고 운동하면 돼\"...서장훈 기겁 '폭소'   \n",
       "...            ...                                                ...   \n",
       "23585  2020.09.15.          김혜선, 말도 기죽을 근육미 ‘♥독일인 연하 남편 반할 만’ [SNS★컷]   \n",
       "23586  2020.09.15.            김혜선, 말 근육 연상케 하는 근육질 몸매…'독일 연하남편♥' 반할 만   \n",
       "23587  2020.09.15.                      인터파크 \"슬기로운 집콕생활 위한 맞춤 도서 기획전\"   \n",
       "23588  2020.09.15.                           인터파크, 건강 관련 도서 추천 기획전 진행   \n",
       "23589  2020.09.15.         '집콕' 문화로 아임슬리핑·금우글로벌스포츠 제품 주목…추석 전 특별행사 진행   \n",
       "\n",
       "                                                    기사주소  \n",
       "0      http://www.asiatoday.co.kr/view.php?key=201912...  \n",
       "1      http://www.newsis.com/view/?id=NISX20191231_00...  \n",
       "2      https://www.hankyung.com/life/article/20191231...  \n",
       "3      http://www.ksilbo.co.kr/news/articleView.html?...  \n",
       "4      http://siminilbo.co.kr/news/newsview.php?ncode...  \n",
       "...                                                  ...  \n",
       "23585  https://www.newsen.com/news_view.php?uid=20200...  \n",
       "23586  http://sports.chosun.com/news/ntype.htm?id=202...  \n",
       "23587  http://www.sportsseoul.com/news/read/958363?re...  \n",
       "23588  http://www.thefirstmedia.net/news/articleView....  \n",
       "23589  http://news.mt.co.kr/mtview.php?no=20200915102...  \n",
       "\n",
       "[23590 rows x 3 columns]"
      ]
     },
     "execution_count": 19,
     "metadata": {},
     "output_type": "execute_result"
    }
   ],
   "source": [
    "result_df"
   ]
  },
  {
   "cell_type": "code",
   "execution_count": null,
   "id": "bd722fb7",
   "metadata": {},
   "outputs": [],
   "source": []
  }
 ],
 "metadata": {
  "kernelspec": {
   "display_name": "Python 3",
   "language": "python",
   "name": "python3"
  },
  "language_info": {
   "codemirror_mode": {
    "name": "ipython",
    "version": 3
   },
   "file_extension": ".py",
   "mimetype": "text/x-python",
   "name": "python",
   "nbconvert_exporter": "python",
   "pygments_lexer": "ipython3",
   "version": "3.8.8"
  },
  "toc": {
   "base_numbering": 1,
   "nav_menu": {},
   "number_sections": true,
   "sideBar": true,
   "skip_h1_title": false,
   "title_cell": "Table of Contents",
   "title_sidebar": "Contents",
   "toc_cell": false,
   "toc_position": {},
   "toc_section_display": true,
   "toc_window_display": false
  },
  "varInspector": {
   "cols": {
    "lenName": 16,
    "lenType": 16,
    "lenVar": 40
   },
   "kernels_config": {
    "python": {
     "delete_cmd_postfix": "",
     "delete_cmd_prefix": "del ",
     "library": "var_list.py",
     "varRefreshCmd": "print(var_dic_list())"
    },
    "r": {
     "delete_cmd_postfix": ") ",
     "delete_cmd_prefix": "rm(",
     "library": "var_list.r",
     "varRefreshCmd": "cat(var_dic_list()) "
    }
   },
   "types_to_exclude": [
    "module",
    "function",
    "builtin_function_or_method",
    "instance",
    "_Feature"
   ],
   "window_display": false
  }
 },
 "nbformat": 4,
 "nbformat_minor": 5
}
