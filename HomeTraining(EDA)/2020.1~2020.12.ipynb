{
 "cells": [
  {
   "cell_type": "code",
   "execution_count": 1,
   "id": "5255de26",
   "metadata": {
    "ExecuteTime": {
     "end_time": "2021-09-06T02:48:10.093144Z",
     "start_time": "2021-09-06T02:48:10.081520Z"
    }
   },
   "outputs": [
    {
     "data": {
      "text/html": [
       "<style>\n",
       "div.container { width:100% !important; }\n",
       "div.CodeMirror {font-family: Consolas; font-size: 16pt;}\n",
       "div.output { font-size: 16pt; font-weight: bold;}\n",
       "div.input { font-family: Consolas; font-size: 16pt;}\n",
       "div.prompt { min-width: 100px;}\n",
       "</style>\n"
      ],
      "text/plain": [
       "<IPython.core.display.HTML object>"
      ]
     },
     "metadata": {},
     "output_type": "display_data"
    }
   ],
   "source": [
    "from IPython.core.display import display, HTML\n",
    "display(HTML(\n",
    "\"\"\"<style>\n",
    "div.container { width:100% !important; }\n",
    "div.CodeMirror {font-family: Consolas; font-size: 16pt;}\n",
    "div.output { font-size: 16pt; font-weight: bold;}\n",
    "div.input { font-family: Consolas; font-size: 16pt;}\n",
    "div.prompt { min-width: 100px;}\n",
    "</style>\n",
    "\"\"\"))"
   ]
  },
  {
   "cell_type": "code",
   "execution_count": 2,
   "id": "d76c8892",
   "metadata": {
    "ExecuteTime": {
     "end_time": "2021-09-06T02:48:11.940411Z",
     "start_time": "2021-09-06T02:48:11.246387Z"
    }
   },
   "outputs": [],
   "source": [
    "import requests\n",
    "from pandas import DataFrame\n",
    "import pandas as pd\n",
    "from bs4 import BeautifulSoup\n",
    "import re\n",
    "from datetime import datetime\n",
    "import os"
   ]
  },
  {
   "cell_type": "code",
   "execution_count": 3,
   "id": "25f54701",
   "metadata": {
    "ExecuteTime": {
     "end_time": "2021-09-06T02:48:12.915440Z",
     "start_time": "2021-09-06T02:48:12.903725Z"
    }
   },
   "outputs": [],
   "source": [
    "date = str(datetime.now())\n",
    "date = date[: date.rfind(':')].replace(' ', '_')\n",
    "date = date.replace(':', '시') + '분'"
   ]
  },
  {
   "cell_type": "code",
   "execution_count": 4,
   "id": "3a2261d0",
   "metadata": {
    "ExecuteTime": {
     "end_time": "2021-09-06T02:48:20.032992Z",
     "start_time": "2021-09-06T02:48:14.053172Z"
    }
   },
   "outputs": [
    {
     "name": "stdout",
     "output_type": "stream",
     "text": [
      "검색 키워드를 입력하세요 : 홈트\n",
      "총 필요한 뉴스기사를 입력해주세요(숫자만 입력) : 1000\n"
     ]
    }
   ],
   "source": [
    "#전체 몇개인지?\n",
    "query = input('검색 키워드를 입력하세요 : ')\n",
    "query = query.replace('', '+')\n",
    "news_num = int(input('총 필요한 뉴스기사를 입력해주세요(숫자만 입력) : '))"
   ]
  },
  {
   "cell_type": "code",
   "execution_count": 5,
   "id": "4f57f0e0",
   "metadata": {
    "ExecuteTime": {
     "end_time": "2021-09-06T02:48:31.032721Z",
     "start_time": "2021-09-06T02:48:23.302893Z"
    }
   },
   "outputs": [],
   "source": [
    "news_url = 'https://search.naver.com/search.naver?where=news&sm=tab_jum&query={}'\n",
    "req = requests.get(news_url.format(query))\n",
    "soup = BeautifulSoup(req.text, 'html.parser')"
   ]
  },
  {
   "cell_type": "code",
   "execution_count": 6,
   "id": "fe9523d1",
   "metadata": {
    "ExecuteTime": {
     "end_time": "2021-09-06T02:48:31.202977Z",
     "start_time": "2021-09-06T02:48:31.189252Z"
    }
   },
   "outputs": [],
   "source": [
    "news_dict = {}\n",
    "idx = 0 \n",
    "cur_page = 1 #뉴스 갯수가 더 많으면 다음 페이지로 넘어가야 하니까 기억해둘것"
   ]
  },
  {
   "cell_type": "code",
   "execution_count": 7,
   "id": "489edbe1",
   "metadata": {
    "ExecuteTime": {
     "end_time": "2021-09-06T02:52:15.034984Z",
     "start_time": "2021-09-06T02:48:31.364746Z"
    }
   },
   "outputs": [
    {
     "name": "stdout",
     "output_type": "stream",
     "text": [
      "\n"
     ]
    }
   ],
   "source": [
    "print()\n",
    "\n",
    "while idx < news_num:\n",
    "    \n",
    "    table = soup.find('ul',{'class' : 'list_news'})\n",
    "    li_list = table.find_all('li', {'id': re.compile('sp_nws.*')})\n",
    "    area_list = [li.find('div', {'class' : 'news_area'}) for li in li_list]\n",
    "    a_list = [area.find('a', {'class' : 'news_tit'}) for area in area_list]\n",
    "    \n",
    "    for n in a_list[:min(len(a_list), news_num-idx)]:\n",
    "        news_dict[idx] = {'title' : n.get('title'),\n",
    "                          'url' : n.get('href') }\n",
    "        idx += 1\n",
    "\n",
    "    cur_page += 1\n",
    "    \n",
    "    pages = soup.find('div', {'class' : 'sc_page_inner'})\n",
    "    next_page_url = [p for p in pages.find_all('a') if p.text == str(cur_page)][0].get('href')\n",
    "    \n",
    "    req = requests.get('https://search.naver.com/search.naver' + next_page_url)\n",
    "    soup = BeautifulSoup(req.text, 'html.parser')"
   ]
  },
  {
   "cell_type": "code",
   "execution_count": 8,
   "id": "5c0b60fd",
   "metadata": {
    "ExecuteTime": {
     "end_time": "2021-09-06T02:52:15.467767Z",
     "start_time": "2021-09-06T02:52:15.350120Z"
    }
   },
   "outputs": [],
   "source": [
    "#엑셀\n",
    "folder_path = os.getcwd()\n",
    "xlsx_file_name = '네이버뉴스_{}_{}.xlsx'.format(query, date)\n",
    "news_data = []\n",
    "news_df = pd.DataFrame(data=news_data, columns=['news'])\n",
    "news_df.to_excel(xlsx_file_name)"
   ]
  },
  {
   "cell_type": "code",
   "execution_count": 9,
   "id": "9be2a243",
   "metadata": {
    "ExecuteTime": {
     "end_time": "2021-09-06T02:52:15.791974Z",
     "start_time": "2021-09-06T02:52:15.781083Z"
    }
   },
   "outputs": [],
   "source": [
    "import time"
   ]
  },
  {
   "cell_type": "code",
   "execution_count": 10,
   "id": "a922e24a",
   "metadata": {
    "ExecuteTime": {
     "end_time": "2021-09-06T02:52:19.281103Z",
     "start_time": "2021-09-06T02:52:16.134121Z"
    }
   },
   "outputs": [],
   "source": [
    "url = 'https://search.naver.com/search.naver?where=news&query=%ED%99%88%ED%8A%B8&sm=tab_opt&sort=2&photo=0&field=0&pd=3&ds=2020.01.01&de=2020.12.31&docid=&related=0&mynews=0&office_type=0&office_section_code=0&news_office_checked=&nso=so%3Ar%2Cp%3Afrom20200101to20201231&is_sug_officeid=0'\n",
    "headers = {'user-agent':'Mozilla/5.0 (Windows NT 10.0; Win64; x64) AppleWebKit/537.36 (KHTML, like Gecko) Chrome/88.0.4324.150 Safari/537.36',\n",
    "          'accept':'text/html,application/xhtml+xml,application/xml;q=0.9,image/avif,image/webp,image/apng,*/*;q=0.8,application/signed-exchange;v=b3;q=0.9'}\n",
    "response = requests.get(url, headers=headers)\n",
    "soup = BeautifulSoup(response.text, 'lxml')"
   ]
  },
  {
   "cell_type": "code",
   "execution_count": 15,
   "id": "6f194853",
   "metadata": {
    "ExecuteTime": {
     "end_time": "2021-09-06T02:39:43.893264Z",
     "start_time": "2021-09-06T02:39:43.859201Z"
    }
   },
   "outputs": [
    {
     "data": {
      "text/plain": [
       "[\"[봉쥬르 2020] 올해 주목해야 할 '5G·AI·구독경제'\",\n",
       " \"[오늘의 책]금연·다이어트…새해에도 작심삼일? '습관의 완성'\",\n",
       " \"주말의 홈트ㅣ한수진의 요가 한 수, '잠자고있는 복근 깨우는 요가'\",\n",
       " '`괴팍한5형제` 방법에 대해 묻자, 김종국은 운동 얘기라면 한 회로는 모자란데라며 미소를 띄어!',\n",
       " '\\'괴팍한5형제\\' 김종국 \"빨 팬티 입고 운동하면 돼\"...서장훈 기겁 \\'폭소\\'',\n",
       " '다이어트 운동 필라테스, 폼롤러와 함께하는 동작들',\n",
       " '소소하지만 확실한 홈트',\n",
       " \"르꼬끄, 새해 몸만들기 '르스타트 2020' 캠페인 진행\",\n",
       " '코카콜라 박보영 반신욕&홈트 광고 촬영 공개',\n",
       " '르꼬끄 스포르티브 ‘르스타트(LE START) 2020’ 캠페인 전개']"
      ]
     },
     "execution_count": 15,
     "metadata": {},
     "output_type": "execute_result"
    }
   ],
   "source": [
    "#기사제목\n",
    "soup.find_all('a', attrs={'class':'news_tit'})\n",
    "[title['title'] for title in soup.find_all('a', attrs={'class':'news_tit'}) ]"
   ]
  },
  {
   "cell_type": "code",
   "execution_count": 11,
   "id": "6b0146fa",
   "metadata": {
    "ExecuteTime": {
     "end_time": "2021-09-06T02:52:19.607245Z",
     "start_time": "2021-09-06T02:52:19.581550Z"
    }
   },
   "outputs": [
    {
     "data": {
      "text/plain": [
       "[<span class=\"info\">2020.01.01.</span>,\n",
       " <span class=\"info\">2020.01.01.</span>,\n",
       " <span class=\"info\">2020.01.01.</span>,\n",
       " <span class=\"info\">2020.01.01.</span>,\n",
       " <span class=\"info\">2020.01.02.</span>,\n",
       " <span class=\"info\">2020.01.02.</span>,\n",
       " <span class=\"info\">2020.01.02.</span>,\n",
       " <span class=\"info\">2020.01.02.</span>,\n",
       " <span class=\"info\">2020.01.02.</span>,\n",
       " <span class=\"info\">2020.01.02.</span>]"
      ]
     },
     "execution_count": 11,
     "metadata": {},
     "output_type": "execute_result"
    }
   ],
   "source": [
    "#기사주소\n",
    "[ url['href'] for url in soup.find_all('a', attrs={'class':'news_tit'}) ]\n",
    "\n",
    "#기사작성일-태그중복, 이상한거 가져오는데...?-정규표현식 정리?\n",
    "soup.find_all('span', attrs={'class':'info'})"
   ]
  },
  {
   "cell_type": "code",
   "execution_count": 12,
   "id": "e2a5edbc",
   "metadata": {
    "ExecuteTime": {
     "end_time": "2021-09-06T02:52:19.992282Z",
     "start_time": "2021-09-06T02:52:19.965464Z"
    }
   },
   "outputs": [
    {
     "data": {
      "text/plain": [
       "['2020.01.01.',\n",
       " '2020.01.01.',\n",
       " '2020.01.01.',\n",
       " '2020.01.01.',\n",
       " '2020.01.02.',\n",
       " '2020.01.02.',\n",
       " '2020.01.02.',\n",
       " '2020.01.02.',\n",
       " '2020.01.02.',\n",
       " '2020.01.02.']"
      ]
     },
     "execution_count": 12,
     "metadata": {},
     "output_type": "execute_result"
    }
   ],
   "source": [
    "dates = [ date.get_text() for date in soup.find_all('span', attrs={'class':'info'})]\n",
    "\n",
    "import re\n",
    "\n",
    "date_list = []\n",
    "for date in dates:\n",
    "    if re.search(r'\\d+.\\d+.\\d+.', date) != None:\n",
    "        date_list.append(date)\n",
    "\n",
    "date_list"
   ]
  },
  {
   "cell_type": "code",
   "execution_count": null,
   "id": "cb7f1cf4",
   "metadata": {
    "ExecuteTime": {
     "start_time": "2021-09-06T02:48:50.911Z"
    }
   },
   "outputs": [],
   "source": [
    "import pandas as pd\n",
    "start = 1\n",
    "result_df = pd.DataFrame()\n",
    "\n",
    "while True:\n",
    "    try:\n",
    "        url = 'https://search.naver.com/search.naver?where=news&query=%ED%99%88%ED%8A%B8&sm=tab_opt&sort=2&photo=0&field=0&pd=3&ds=2020.01.01&de=2020.12.31&docid=&related=0&mynews=0&office_type=0&office_section_code=0&news_office_checked=&nso=so%3Ar%2Cp%3Afrom20200101to20201031&is_sug_officeid=0'.format(start)\n",
    "        headers = {'user-agent':'Mozilla/5.0 (Windows NT 10.0; Win64; x64) AppleWebKit/537.36 (KHTML, like Gecko) Chrome/88.0.4324.150 Safari/537.36',\n",
    "          'accept':'text/html,application/xhtml+xml,application/xml;q=0.9,image/avif,image/webp,image/apng,*/*;q=0.8,application/signed-exchange;v=b3;q=0.9'}\n",
    "        response = requests.get(url, headers=headers)\n",
    "        soup = BeautifulSoup(response.text, 'lxml')\n",
    "        news_title = [title['title'] for title in soup.find_all('a', attrs={'class':'news_tit'})] # 기사 제목\n",
    "        news_url = [ url['href'] for url in soup.find_all('a', attrs={'class':'news_tit'}) ] # 기사 url\n",
    "        \n",
    "        dates = [ date.get_text() for date in soup.find_all('span', attrs={'class':'info'})] # 기사 작성일\n",
    "        news_date = []\n",
    "        for date in dates:\n",
    "            if re.search(r'\\d+.\\d+.\\d+.', date) != None: # 기사 작성일 정제\n",
    "                news_date.append(date)\n",
    "        \n",
    "        df = pd.DataFrame({'기사작성일':news_date,'기사제목':news_title,'기사주소':news_url})\n",
    "        result_df = pd.concat([result_df, df], ignore_index=True)\n",
    "        start += 10\n",
    "    \n",
    "    except: # 오류발생시 몇 페이지까지 크롤링했는지 page를 확인하기 \n",
    "        print(start)\n",
    "        break"
   ]
  },
  {
   "cell_type": "code",
   "execution_count": null,
   "id": "4bde49d3",
   "metadata": {
    "ExecuteTime": {
     "start_time": "2021-09-06T03:06:05.192Z"
    }
   },
   "outputs": [],
   "source": [
    "result_df"
   ]
  },
  {
   "cell_type": "code",
   "execution_count": null,
   "id": "af84f134",
   "metadata": {},
   "outputs": [],
   "source": []
  }
 ],
 "metadata": {
  "kernelspec": {
   "display_name": "Python 3",
   "language": "python",
   "name": "python3"
  },
  "language_info": {
   "codemirror_mode": {
    "name": "ipython",
    "version": 3
   },
   "file_extension": ".py",
   "mimetype": "text/x-python",
   "name": "python",
   "nbconvert_exporter": "python",
   "pygments_lexer": "ipython3",
   "version": "3.8.8"
  },
  "toc": {
   "base_numbering": 1,
   "nav_menu": {},
   "number_sections": true,
   "sideBar": true,
   "skip_h1_title": false,
   "title_cell": "Table of Contents",
   "title_sidebar": "Contents",
   "toc_cell": false,
   "toc_position": {},
   "toc_section_display": true,
   "toc_window_display": false
  },
  "varInspector": {
   "cols": {
    "lenName": 16,
    "lenType": 16,
    "lenVar": 40
   },
   "kernels_config": {
    "python": {
     "delete_cmd_postfix": "",
     "delete_cmd_prefix": "del ",
     "library": "var_list.py",
     "varRefreshCmd": "print(var_dic_list())"
    },
    "r": {
     "delete_cmd_postfix": ") ",
     "delete_cmd_prefix": "rm(",
     "library": "var_list.r",
     "varRefreshCmd": "cat(var_dic_list()) "
    }
   },
   "types_to_exclude": [
    "module",
    "function",
    "builtin_function_or_method",
    "instance",
    "_Feature"
   ],
   "window_display": false
  }
 },
 "nbformat": 4,
 "nbformat_minor": 5
}
