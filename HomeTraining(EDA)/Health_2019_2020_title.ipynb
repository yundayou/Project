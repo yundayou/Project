{
 "cells": [
  {
   "cell_type": "code",
   "execution_count": 1,
   "id": "600cc2f9",
   "metadata": {
    "ExecuteTime": {
     "end_time": "2021-09-06T10:52:17.216710Z",
     "start_time": "2021-09-06T10:52:17.005498Z"
    }
   },
   "outputs": [],
   "source": [
    "import requests\n",
    "from bs4 import BeautifulSoup\n",
    "import time\n",
    "import re"
   ]
  },
  {
   "cell_type": "code",
   "execution_count": 4,
   "id": "55bf5c1d",
   "metadata": {
    "ExecuteTime": {
     "end_time": "2021-09-06T22:08:57.561263Z",
     "start_time": "2021-09-06T11:42:09.787765Z"
    }
   },
   "outputs": [
    {
     "name": "stdout",
     "output_type": "stream",
     "text": [
      "138491\n"
     ]
    }
   ],
   "source": [
    "import pandas as pd\n",
    "start = 1\n",
    "result_df = pd.DataFrame()\n",
    "\n",
    "while True:\n",
    "    try:\n",
    "        url = 'https://search.naver.com/search.naver?where=news&sm=tab_pge&query=%ED%97%AC%EC%8A%A4&sort=2&photo=0&field=0&pd=3&ds=2019.01.01&de=2020.01.01&mynews=0&office_type=0&office_section_code=0&news_office_checked=&nso=so:r,p:from20190101to20200101,a:all&start={}'.format(start)\n",
    "        headers = {'user-agent':'Mozilla/5.0 (Windows NT 10.0; Win64; x64) AppleWebKit/537.36 (KHTML, like Gecko) Chrome/88.0.4324.150 Safari/537.36',\n",
    "          'accept':'text/html,application/xhtml+xml,application/xml;q=0.9,image/avif,image/webp,image/apng,*/*;q=0.8,application/signed-exchange;v=b3;q=0.9'}\n",
    "        response = requests.get(url, headers=headers)\n",
    "        soup = BeautifulSoup(response.text, 'lxml')\n",
    "        news_title = [title['title'] for title in soup.find_all('a', attrs={'class':'news_tit'})] # 기사 제목\n",
    "        news_url = [ url['href'] for url in soup.find_all('a', attrs={'class':'news_tit'}) ] # 기사 url\n",
    "        \n",
    "        dates = [ date.get_text() for date in soup.find_all('span', attrs={'class':'info'})] # 기사 작성일\n",
    "        news_date = []\n",
    "        for date in dates:\n",
    "            if re.search(r'\\d+.\\d+.\\d+.', date) != None: # 기사 작성일 정제\n",
    "                news_date.append(date)\n",
    "                #print(news_date)\n",
    "        #종료조건 확인\n",
    "        if date == '2020.01.01.':\n",
    "            break\n",
    "        start += 10\n",
    "        df = pd.DataFrame({'기사작성일':news_date,'기사제목':news_title,'기사주소':news_url})\n",
    "        result_df= pd.concat([result_df, df], ignore_index=True)\n",
    "        \n",
    "    except: # 오류발생시 몇 페이지까지 크롤링했는지 page를 확인하기 \n",
    "        print(start)\n",
    "        break"
   ]
  },
  {
   "cell_type": "code",
   "execution_count": 5,
   "id": "80feab13",
   "metadata": {
    "ExecuteTime": {
     "end_time": "2021-09-06T22:09:03.221713Z",
     "start_time": "2021-09-06T22:09:03.210318Z"
    }
   },
   "outputs": [
    {
     "data": {
      "text/html": [
       "<div>\n",
       "<style scoped>\n",
       "    .dataframe tbody tr th:only-of-type {\n",
       "        vertical-align: middle;\n",
       "    }\n",
       "\n",
       "    .dataframe tbody tr th {\n",
       "        vertical-align: top;\n",
       "    }\n",
       "\n",
       "    .dataframe thead th {\n",
       "        text-align: right;\n",
       "    }\n",
       "</style>\n",
       "<table border=\"1\" class=\"dataframe\">\n",
       "  <thead>\n",
       "    <tr style=\"text-align: right;\">\n",
       "      <th></th>\n",
       "      <th>기사작성일</th>\n",
       "      <th>기사제목</th>\n",
       "      <th>기사주소</th>\n",
       "    </tr>\n",
       "  </thead>\n",
       "  <tbody>\n",
       "    <tr>\n",
       "      <th>0</th>\n",
       "      <td>2019.01.01.</td>\n",
       "      <td>새해 ‘결심 상품’ 트렌드는 ‘지금 이 순간’</td>\n",
       "      <td>http://sports.khan.co.kr/news/sk_index.html?ar...</td>\n",
       "    </tr>\n",
       "    <tr>\n",
       "      <th>1</th>\n",
       "      <td>2019.01.01.</td>\n",
       "      <td>[전망] 2019년 대한민국 패션 시장을 관통하는 비즈니스 키워드 10</td>\n",
       "      <td>http://www.fashionn.com/board/read_new.php?tab...</td>\n",
       "    </tr>\n",
       "    <tr>\n",
       "      <th>2</th>\n",
       "      <td>2019.01.01.</td>\n",
       "      <td>보건복지부 박능후 장관 \"국민 안심 질 높은 의료 제공\"</td>\n",
       "      <td>http://www.medicaltimes.com/Users/News/NewsVie...</td>\n",
       "    </tr>\n",
       "    <tr>\n",
       "      <th>3</th>\n",
       "      <td>2019.01.01.</td>\n",
       "      <td>[신년사] 오세현 아산시장</td>\n",
       "      <td>http://www.ccnnews.co.kr/news/articleView.html...</td>\n",
       "    </tr>\n",
       "    <tr>\n",
       "      <th>4</th>\n",
       "      <td>2019.01.01.</td>\n",
       "      <td>\"韓기업 파괴적 혁신해야 성장…전담조직 회사 밖에 만들라\"</td>\n",
       "      <td>http://news.mk.co.kr/newsRead.php?year=2019&amp;no=70</td>\n",
       "    </tr>\n",
       "    <tr>\n",
       "      <th>...</th>\n",
       "      <td>...</td>\n",
       "      <td>...</td>\n",
       "      <td>...</td>\n",
       "    </tr>\n",
       "    <tr>\n",
       "      <th>138485</th>\n",
       "      <td>2019.01.10.</td>\n",
       "      <td>대경, 해외경제사업 ‘상생협력’ 약속</td>\n",
       "      <td>http://www.ksmnews.co.kr/default/index_view_pa...</td>\n",
       "    </tr>\n",
       "    <tr>\n",
       "      <th>138486</th>\n",
       "      <td>2019.01.10.</td>\n",
       "      <td>“심한 난청엔 인공와우가 답… 평생 AS 되는지 확인해야”</td>\n",
       "      <td>http://news.donga.com/3/all/20190110/93628411/1</td>\n",
       "    </tr>\n",
       "    <tr>\n",
       "      <th>138487</th>\n",
       "      <td>2019.01.10.</td>\n",
       "      <td>한방통합시스템 해외진출 MOU</td>\n",
       "      <td>http://www.ksmnews.co.kr/default/index_view_pa...</td>\n",
       "    </tr>\n",
       "    <tr>\n",
       "      <th>138488</th>\n",
       "      <td>2019.01.10.</td>\n",
       "      <td>[횡설수설/김광현]CES 2019</td>\n",
       "      <td>http://news.donga.com/3/all/20190110/93628271/1</td>\n",
       "    </tr>\n",
       "    <tr>\n",
       "      <th>138489</th>\n",
       "      <td>2019.01.10.</td>\n",
       "      <td>\"라이벌과도 AI 협력\"</td>\n",
       "      <td>http://biz.chosun.com/site/data/html_dir/2019/...</td>\n",
       "    </tr>\n",
       "  </tbody>\n",
       "</table>\n",
       "<p>138490 rows × 3 columns</p>\n",
       "</div>"
      ],
      "text/plain": [
       "              기사작성일                                     기사제목  \\\n",
       "0       2019.01.01.                새해 ‘결심 상품’ 트렌드는 ‘지금 이 순간’   \n",
       "1       2019.01.01.  [전망] 2019년 대한민국 패션 시장을 관통하는 비즈니스 키워드 10   \n",
       "2       2019.01.01.          보건복지부 박능후 장관 \"국민 안심 질 높은 의료 제공\"   \n",
       "3       2019.01.01.                           [신년사] 오세현 아산시장   \n",
       "4       2019.01.01.         \"韓기업 파괴적 혁신해야 성장…전담조직 회사 밖에 만들라\"   \n",
       "...             ...                                      ...   \n",
       "138485  2019.01.10.                     대경, 해외경제사업 ‘상생협력’ 약속   \n",
       "138486  2019.01.10.         “심한 난청엔 인공와우가 답… 평생 AS 되는지 확인해야”   \n",
       "138487  2019.01.10.                         한방통합시스템 해외진출 MOU   \n",
       "138488  2019.01.10.                       [횡설수설/김광현]CES 2019   \n",
       "138489  2019.01.10.                            \"라이벌과도 AI 협력\"   \n",
       "\n",
       "                                                     기사주소  \n",
       "0       http://sports.khan.co.kr/news/sk_index.html?ar...  \n",
       "1       http://www.fashionn.com/board/read_new.php?tab...  \n",
       "2       http://www.medicaltimes.com/Users/News/NewsVie...  \n",
       "3       http://www.ccnnews.co.kr/news/articleView.html...  \n",
       "4       http://news.mk.co.kr/newsRead.php?year=2019&no=70  \n",
       "...                                                   ...  \n",
       "138485  http://www.ksmnews.co.kr/default/index_view_pa...  \n",
       "138486    http://news.donga.com/3/all/20190110/93628411/1  \n",
       "138487  http://www.ksmnews.co.kr/default/index_view_pa...  \n",
       "138488    http://news.donga.com/3/all/20190110/93628271/1  \n",
       "138489  http://biz.chosun.com/site/data/html_dir/2019/...  \n",
       "\n",
       "[138490 rows x 3 columns]"
      ]
     },
     "execution_count": 5,
     "metadata": {},
     "output_type": "execute_result"
    }
   ],
   "source": [
    "result_df"
   ]
  },
  {
   "cell_type": "code",
   "execution_count": 6,
   "id": "624a3a1a",
   "metadata": {
    "ExecuteTime": {
     "end_time": "2021-09-06T23:50:56.015998Z",
     "start_time": "2021-09-06T23:50:56.005427Z"
    }
   },
   "outputs": [],
   "source": [
    "result_title = result_df[\"기사제목\"]"
   ]
  },
  {
   "cell_type": "code",
   "execution_count": 7,
   "id": "d83baa27",
   "metadata": {
    "ExecuteTime": {
     "end_time": "2021-09-06T23:50:56.996035Z",
     "start_time": "2021-09-06T23:50:56.665702Z"
    }
   },
   "outputs": [],
   "source": [
    "result_title.to_csv('health_2019.txt', sep = '\\t', index = False)"
   ]
  },
  {
   "cell_type": "code",
   "execution_count": 8,
   "id": "65ebe316",
   "metadata": {
    "ExecuteTime": {
     "end_time": "2021-09-06T23:51:04.510450Z",
     "start_time": "2021-09-06T23:50:58.246104Z"
    }
   },
   "outputs": [
    {
     "name": "stdout",
     "output_type": "stream",
     "text": [
      "231\n"
     ]
    }
   ],
   "source": [
    "start = 1\n",
    "result_df = pd.DataFrame()\n",
    "\n",
    "while True:\n",
    "    try:\n",
    "        url = 'https://search.naver.com/search.naver?where=news&sm=tab_pge&query=%ED%97%AC%EC%8A%A4&sort=2&photo=0&field=0&pd=3&ds=2020.01.01&de=2021.01.01&mynews=0&office_type=0&office_section_code=0&news_office_checked=&nso=so:r,p:from20200101to20210101,a:all&start={}'.format(start)\n",
    "        headers = {'user-agent':'Mozilla/5.0 (Windows NT 10.0; Win64; x64) AppleWebKit/537.36 (KHTML, like Gecko) Chrome/88.0.4324.150 Safari/537.36',\n",
    "          'accept':'text/html,application/xhtml+xml,application/xml;q=0.9,image/avif,image/webp,image/apng,*/*;q=0.8,application/signed-exchange;v=b3;q=0.9'}\n",
    "        response = requests.get(url, headers=headers)\n",
    "        soup = BeautifulSoup(response.text, 'lxml')\n",
    "        news_title = [title['title'] for title in soup.find_all('a', attrs={'class':'news_tit'})] # 기사 제목\n",
    "        news_url = [ url['href'] for url in soup.find_all('a', attrs={'class':'news_tit'}) ] # 기사 url\n",
    "        \n",
    "        dates = [ date.get_text() for date in soup.find_all('span', attrs={'class':'info'})] # 기사 작성일\n",
    "        news_date = []\n",
    "        for date in dates:\n",
    "            if re.search(r'\\d+.\\d+.\\d+.', date) != None: # 기사 작성일 정제\n",
    "                news_date.append(date)\n",
    "                #print(news_date)\n",
    "        #종료조건 확인\n",
    "        if date == '2021.01.01.':\n",
    "            break\n",
    "        start += 10\n",
    "        df = pd.DataFrame({'기사작성일':news_date,'기사제목':news_title,'기사주소':news_url})\n",
    "        result_df= pd.concat([result_df, df], ignore_index=True)\n",
    "        \n",
    "    except: # 오류발생시 몇 페이지까지 크롤링했는지 page를 확인하기 \n",
    "        print(start)\n",
    "        break"
   ]
  },
  {
   "cell_type": "code",
   "execution_count": null,
   "id": "1987163b",
   "metadata": {},
   "outputs": [],
   "source": [
    "result_df"
   ]
  },
  {
   "cell_type": "code",
   "execution_count": null,
   "id": "d1eb101b",
   "metadata": {},
   "outputs": [],
   "source": [
    "result_title = result_df[\"기사제목\"]"
   ]
  },
  {
   "cell_type": "code",
   "execution_count": null,
   "id": "7505f3e0",
   "metadata": {},
   "outputs": [],
   "source": [
    "result_title.to_csv('health_2020.txt', sep = '\\t', index = False)"
   ]
  }
 ],
 "metadata": {
  "kernelspec": {
   "display_name": "Python 3",
   "language": "python",
   "name": "python3"
  },
  "language_info": {
   "codemirror_mode": {
    "name": "ipython",
    "version": 3
   },
   "file_extension": ".py",
   "mimetype": "text/x-python",
   "name": "python",
   "nbconvert_exporter": "python",
   "pygments_lexer": "ipython3",
   "version": "3.8.8"
  },
  "toc": {
   "base_numbering": 1,
   "nav_menu": {},
   "number_sections": true,
   "sideBar": true,
   "skip_h1_title": false,
   "title_cell": "Table of Contents",
   "title_sidebar": "Contents",
   "toc_cell": false,
   "toc_position": {},
   "toc_section_display": true,
   "toc_window_display": false
  },
  "varInspector": {
   "cols": {
    "lenName": 16,
    "lenType": 16,
    "lenVar": 40
   },
   "kernels_config": {
    "python": {
     "delete_cmd_postfix": "",
     "delete_cmd_prefix": "del ",
     "library": "var_list.py",
     "varRefreshCmd": "print(var_dic_list())"
    },
    "r": {
     "delete_cmd_postfix": ") ",
     "delete_cmd_prefix": "rm(",
     "library": "var_list.r",
     "varRefreshCmd": "cat(var_dic_list()) "
    }
   },
   "types_to_exclude": [
    "module",
    "function",
    "builtin_function_or_method",
    "instance",
    "_Feature"
   ],
   "window_display": false
  }
 },
 "nbformat": 4,
 "nbformat_minor": 5
}
