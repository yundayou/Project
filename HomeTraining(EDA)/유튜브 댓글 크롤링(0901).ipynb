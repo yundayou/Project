{
 "cells": [
  {
   "cell_type": "code",
   "execution_count": 1,
   "id": "21b50ab1",
   "metadata": {
    "ExecuteTime": {
     "end_time": "2021-09-01T02:47:32.286642Z",
     "start_time": "2021-09-01T02:47:32.225739Z"
    }
   },
   "outputs": [],
   "source": [
    "import time\n",
    "from selenium import webdriver"
   ]
  },
  {
   "cell_type": "code",
   "execution_count": 2,
   "id": "760d10a8",
   "metadata": {
    "ExecuteTime": {
     "end_time": "2021-09-01T02:47:35.363550Z",
     "start_time": "2021-09-01T02:47:33.250138Z"
    }
   },
   "outputs": [],
   "source": [
    "from selenium.webdriver import ChromeOptions\n",
    "options = ChromeOptions()\n",
    "options.add_argument(\"--start-maximized\")\n",
    "driver = webdriver.Chrome(\"/Users/dayoung/chromedriver\", options=options)"
   ]
  },
  {
   "cell_type": "code",
   "execution_count": 3,
   "id": "7660a3d3",
   "metadata": {
    "ExecuteTime": {
     "end_time": "2021-09-01T02:48:06.787858Z",
     "start_time": "2021-09-01T02:48:00.164772Z"
    }
   },
   "outputs": [],
   "source": [
    "url = \"https://www.youtube.com/watch?v=XrIaJayElnw\"\n",
    "driver.get(url)\n",
    "time.sleep(3)"
   ]
  },
  {
   "cell_type": "code",
   "execution_count": 4,
   "id": "8091a407",
   "metadata": {
    "ExecuteTime": {
     "end_time": "2021-09-01T02:48:07.853508Z",
     "start_time": "2021-09-01T02:48:06.825702Z"
    }
   },
   "outputs": [],
   "source": [
    "last_page_height = driver.execute_script(\"return document.documentElement.scrollHeight\")\n",
    "driver.execute_script(\"window.scrollTo(0, 500);\") # 댓글영역이 조금 보이도록 스크롤\n",
    "time.sleep(1)"
   ]
  },
  {
   "cell_type": "code",
   "execution_count": 5,
   "id": "362bde88",
   "metadata": {
    "ExecuteTime": {
     "end_time": "2021-09-01T02:48:11.174484Z",
     "start_time": "2021-09-01T02:48:09.927697Z"
    }
   },
   "outputs": [],
   "source": [
    "driver.find_element_by_css_selector(\"div#icon-label\").click() # 정렬 기준 클릭\n",
    "time.sleep(1)\n",
    "driver.find_element_by_css_selector(\"a[tabindex='-1'] div.item\").click() # 정렬 기준  > 최근 날자순 클릭"
   ]
  },
  {
   "cell_type": "code",
   "execution_count": 6,
   "id": "ddc6ccfa",
   "metadata": {
    "ExecuteTime": {
     "end_time": "2021-09-01T02:48:15.381939Z",
     "start_time": "2021-09-01T02:48:15.378527Z"
    }
   },
   "outputs": [
    {
     "name": "stdout",
     "output_type": "stream",
     "text": [
      "2191\n"
     ]
    }
   ],
   "source": [
    "print(last_page_height)"
   ]
  },
  {
   "cell_type": "code",
   "execution_count": 7,
   "id": "69ba5007",
   "metadata": {
    "ExecuteTime": {
     "end_time": "2021-09-01T02:48:54.360469Z",
     "start_time": "2021-09-01T02:48:17.988581Z"
    }
   },
   "outputs": [],
   "source": [
    "import time\n",
    "page_count = 0\n",
    "while True:\n",
    "    scroll_script = \"window.scrollTo(0, document.documentElement.scrollHeight);\"\n",
    "    driver.execute_script(scroll_script)\n",
    "    time.sleep(3)\n",
    "    scroll_height = \"return document.documentElement.scrollHeight\"\n",
    "    new_page_height = driver.execute_script(scroll_height)\n",
    "    \n",
    "    if new_page_height == last_page_height:\n",
    "        break\n",
    "    last_page_height = new_page_height   \n",
    "    \n",
    "    if page_count > 10:\n",
    "        break\n",
    "    else:\n",
    "        page_count += 1\n"
   ]
  },
  {
   "cell_type": "code",
   "execution_count": 8,
   "id": "db3d257a",
   "metadata": {
    "ExecuteTime": {
     "end_time": "2021-09-01T02:48:56.576440Z",
     "start_time": "2021-09-01T02:48:55.799170Z"
    }
   },
   "outputs": [],
   "source": [
    "html_source = driver.page_source\n",
    "driver.close()"
   ]
  },
  {
   "cell_type": "code",
   "execution_count": 9,
   "id": "9448b48e",
   "metadata": {
    "ExecuteTime": {
     "end_time": "2021-09-01T02:48:59.139589Z",
     "start_time": "2021-09-01T02:48:58.983561Z"
    }
   },
   "outputs": [],
   "source": [
    "from bs4 import BeautifulSoup"
   ]
  },
  {
   "cell_type": "code",
   "execution_count": 10,
   "id": "a29347af",
   "metadata": {
    "ExecuteTime": {
     "end_time": "2021-09-01T02:49:01.112457Z",
     "start_time": "2021-09-01T02:49:01.108291Z"
    },
    "scrolled": true
   },
   "outputs": [
    {
     "name": "stdout",
     "output_type": "stream",
     "text": [
      "<html style=\"font-size: 10px;font-family: Roboto, Arial, sans-serif;\" lang=\"ko-KR\" system-icons=\"\" t\n"
     ]
    }
   ],
   "source": [
    "print(html_source[:100])"
   ]
  },
  {
   "cell_type": "code",
   "execution_count": 11,
   "id": "aded888f",
   "metadata": {
    "ExecuteTime": {
     "end_time": "2021-09-01T02:49:05.510538Z",
     "start_time": "2021-09-01T02:49:03.913996Z"
    }
   },
   "outputs": [],
   "source": [
    "soup = BeautifulSoup(html_source, \"html.parser\")"
   ]
  },
  {
   "cell_type": "code",
   "execution_count": 12,
   "id": "d3fa9e87",
   "metadata": {
    "ExecuteTime": {
     "end_time": "2021-09-01T02:49:07.835978Z",
     "start_time": "2021-09-01T02:49:07.714828Z"
    }
   },
   "outputs": [
    {
     "data": {
      "text/plain": [
       "260"
      ]
     },
     "execution_count": 12,
     "metadata": {},
     "output_type": "execute_result"
    }
   ],
   "source": [
    "comments = soup.select(\"yt-formatted-string#content-text\")\n",
    "len(comments)"
   ]
  },
  {
   "cell_type": "code",
   "execution_count": 13,
   "id": "ce293bde",
   "metadata": {
    "ExecuteTime": {
     "end_time": "2021-09-01T02:49:10.111195Z",
     "start_time": "2021-09-01T02:49:10.107593Z"
    },
    "scrolled": true
   },
   "outputs": [
    {
     "data": {
      "text/plain": [
       "'🤤❤️❤️'"
      ]
     },
     "execution_count": 13,
     "metadata": {},
     "output_type": "execute_result"
    }
   ],
   "source": [
    "comments[0].text"
   ]
  },
  {
   "cell_type": "code",
   "execution_count": 14,
   "id": "e92a7e7e",
   "metadata": {
    "ExecuteTime": {
     "end_time": "2021-09-01T02:49:12.517223Z",
     "start_time": "2021-09-01T02:49:12.385286Z"
    }
   },
   "outputs": [
    {
     "data": {
      "text/plain": [
       "260"
      ]
     },
     "execution_count": 14,
     "metadata": {},
     "output_type": "execute_result"
    }
   ],
   "source": [
    "users = soup.select(\"a#author-text > span\") # div#header-author a > span\n",
    "len(users)"
   ]
  },
  {
   "cell_type": "code",
   "execution_count": 15,
   "id": "0c087b96",
   "metadata": {
    "ExecuteTime": {
     "end_time": "2021-09-01T02:49:14.740977Z",
     "start_time": "2021-09-01T02:49:14.737293Z"
    }
   },
   "outputs": [
    {
     "data": {
      "text/plain": [
       "'ธนวินท์ แผงศรี'"
      ]
     },
     "execution_count": 15,
     "metadata": {},
     "output_type": "execute_result"
    }
   ],
   "source": [
    "users[0].text.strip() # strip는 텍스트 앞/뒤 공백 제거"
   ]
  },
  {
   "cell_type": "code",
   "execution_count": 16,
   "id": "e1b69560",
   "metadata": {
    "ExecuteTime": {
     "end_time": "2021-09-01T02:49:17.111845Z",
     "start_time": "2021-09-01T02:49:17.108604Z"
    }
   },
   "outputs": [],
   "source": [
    "user_list = [ user.text.strip() for user in users]"
   ]
  },
  {
   "cell_type": "code",
   "execution_count": 17,
   "id": "f1604270",
   "metadata": {
    "ExecuteTime": {
     "end_time": "2021-09-01T02:49:19.358514Z",
     "start_time": "2021-09-01T02:49:19.355258Z"
    }
   },
   "outputs": [],
   "source": [
    "comment_list = [ comment.text.strip() for comment in comments]"
   ]
  },
  {
   "cell_type": "code",
   "execution_count": 18,
   "id": "279a8490",
   "metadata": {
    "ExecuteTime": {
     "end_time": "2021-09-01T02:49:22.100850Z",
     "start_time": "2021-09-01T02:49:21.571329Z"
    }
   },
   "outputs": [],
   "source": [
    "import pandas as pd\n",
    "import numpy as np\n",
    "comment_df = pd.DataFrame(np.c_[user_list, comment_list], columns=[\"user\", \"comment\"])"
   ]
  },
  {
   "cell_type": "code",
   "execution_count": 19,
   "id": "d1a4905a",
   "metadata": {
    "ExecuteTime": {
     "end_time": "2021-09-01T02:49:24.370111Z",
     "start_time": "2021-09-01T02:49:24.361138Z"
    }
   },
   "outputs": [
    {
     "data": {
      "text/html": [
       "<div>\n",
       "<style scoped>\n",
       "    .dataframe tbody tr th:only-of-type {\n",
       "        vertical-align: middle;\n",
       "    }\n",
       "\n",
       "    .dataframe tbody tr th {\n",
       "        vertical-align: top;\n",
       "    }\n",
       "\n",
       "    .dataframe thead th {\n",
       "        text-align: right;\n",
       "    }\n",
       "</style>\n",
       "<table border=\"1\" class=\"dataframe\">\n",
       "  <thead>\n",
       "    <tr style=\"text-align: right;\">\n",
       "      <th></th>\n",
       "      <th>user</th>\n",
       "      <th>comment</th>\n",
       "    </tr>\n",
       "  </thead>\n",
       "  <tbody>\n",
       "    <tr>\n",
       "      <th>0</th>\n",
       "      <td>ธนวินท์ แผงศรี</td>\n",
       "      <td>🤤❤️❤️</td>\n",
       "    </tr>\n",
       "    <tr>\n",
       "      <th>1</th>\n",
       "      <td>Jerry Vanchhawng</td>\n",
       "      <td>its Christmas time 💟💟💟</td>\n",
       "    </tr>\n",
       "    <tr>\n",
       "      <th>2</th>\n",
       "      <td>Jerry Vanchhawng</td>\n",
       "      <td>i LOVE YOU JISOO</td>\n",
       "    </tr>\n",
       "    <tr>\n",
       "      <th>3</th>\n",
       "      <td>Bia Alice</td>\n",
       "      <td>🥰🥰🥰🥰❤️❤️❤️</td>\n",
       "    </tr>\n",
       "    <tr>\n",
       "      <th>4</th>\n",
       "      <td>♣️ JĪŠØØ ♣️</td>\n",
       "      <td>Blackpink 🖤💖</td>\n",
       "    </tr>\n",
       "  </tbody>\n",
       "</table>\n",
       "</div>"
      ],
      "text/plain": [
       "               user                 comment\n",
       "0    ธนวินท์ แผงศรี                   🤤❤️❤️\n",
       "1  Jerry Vanchhawng  its Christmas time 💟💟💟\n",
       "2  Jerry Vanchhawng        i LOVE YOU JISOO\n",
       "3         Bia Alice              🥰🥰🥰🥰❤️❤️❤️\n",
       "4       ♣️ JĪŠØØ ♣️            Blackpink 🖤💖"
      ]
     },
     "execution_count": 19,
     "metadata": {},
     "output_type": "execute_result"
    }
   ],
   "source": [
    "comment_df.head()"
   ]
  },
  {
   "cell_type": "code",
   "execution_count": 20,
   "id": "9306d8b8",
   "metadata": {
    "ExecuteTime": {
     "end_time": "2021-09-01T02:49:27.129207Z",
     "start_time": "2021-09-01T02:49:27.115399Z"
    }
   },
   "outputs": [],
   "source": [
    "comment_df.to_csv(\"comment.csv\", encoding=\"utf-8-sig\", index=False)"
   ]
  },
  {
   "cell_type": "markdown",
   "id": "ed183b73",
   "metadata": {},
   "source": [
    "#### 어제수집한 유튜브 댓글(최근 comments10페이지 정도)\n",
    "#### nltk를 이용해서 토큰화(정규표현식이용)\n",
    "#### 형태소 분석(품사태깅)\n",
    "#### 가장많이 언급된 단어(명사만 찾기)"
   ]
  },
  {
   "cell_type": "code",
   "execution_count": 46,
   "id": "bff4043e",
   "metadata": {
    "ExecuteTime": {
     "end_time": "2021-09-01T03:07:07.612783Z",
     "start_time": "2021-09-01T03:07:07.497007Z"
    }
   },
   "outputs": [],
   "source": [
    "from nltk.tokenize import RegexpTokenizer\n",
    "ret = RegexpTokenizer(\"[\\w]+\")\n",
    "from nltk.tag import pos_tag\n",
    "comment_tokens = comment_df[\"comment\"].map(ret.tokenize)\n",
    "comment_tags = comment_tokens.map(pos_tag)"
   ]
  },
  {
   "cell_type": "code",
   "execution_count": 39,
   "id": "6c77c638",
   "metadata": {
    "ExecuteTime": {
     "end_time": "2021-09-01T03:03:40.842907Z",
     "start_time": "2021-09-01T03:03:40.840478Z"
    }
   },
   "outputs": [],
   "source": [
    "comment_list = comment_tags.values.tolist() #태그를 리스트 형태로 바꾸어줌"
   ]
  },
  {
   "cell_type": "code",
   "execution_count": 40,
   "id": "63d6210e",
   "metadata": {
    "ExecuteTime": {
     "end_time": "2021-09-01T03:03:51.750436Z",
     "start_time": "2021-09-01T03:03:51.745497Z"
    },
    "scrolled": true
   },
   "outputs": [
    {
     "data": {
      "text/plain": [
       "list"
      ]
     },
     "execution_count": 40,
     "metadata": {},
     "output_type": "execute_result"
    }
   ],
   "source": [
    "type(comment_list)"
   ]
  },
  {
   "cell_type": "code",
   "execution_count": 47,
   "id": "267b9a97",
   "metadata": {
    "ExecuteTime": {
     "end_time": "2021-09-01T03:08:29.384125Z",
     "start_time": "2021-09-01T03:08:29.378611Z"
    }
   },
   "outputs": [
    {
     "name": "stdout",
     "output_type": "stream",
     "text": [
      "['its', 'PRP$', 'Christmas', 'NNP', 'time', 'NN', 'i', 'NN', 'LOVE', 'NNP', 'YOU', 'NNP', 'JISOO', 'NNP', 'Blackpink', 'NN', 'Hi', 'NNP', 'September', 'NNP', 'bye', 'NN', 'August', 'NNP', 'Jisoo', 'NNP', 'so', 'RB', 'cute', 'JJ', 'bagus', 'NN', 'banget', 'NN', 'dah', 'NN', 'sumpah', 'NN', 'semua', 'NN', 'Omg', 'NNP', 'eeekk', 'NN', 'Jisoo', 'NNP', 'are', 'VBP', 'so', 'RB', 'cute', 'JJ', 'Mine', 'NNP', 'bias', 'NN', 'BLACKPINK', 'NNP', 'is', 'VBZ', 'best', 'JJS', 'forever', 'RB', 'Jisoo', 'NNP', 's', 'JJ', 'voice', 'NN', 'so', 'RB', 'cute', 'JJ', 'Rosé', 'NNP', 'is', 'VBZ', 'so', 'RB', 'cute', 'JJ', 'when', 'WRB', 'she', 'PRP', 'was', 'VBD', 'hungry', 'JJ', 'always', 'RB', 'was', 'VBD', 'cute', 'JJ', 'they', 'PRP', 'sound', 'VBP', 'like', 'IN', 'minions', 'NNS', 'Jisoo', 'NNP', 'is', 'VBZ', 'so', 'RB', 'cute', 'JJ', 'Anyone', 'NN', 'else', 'RB', 'watching', 'VBG', 'this', 'DT', 'after', 'IN', '3', 'CD', 'years', 'NNS', 'Rose', 'NNP', 'sooooo', 'VBD', 'cuteeeeeeeee', 'NNS', 'So', 'RB', 'cute', 'JJ', '블래핑크', 'NN', '사랑해', 'NN', '우리', 'NN', '이쁜이들', 'NN', 'kuku', 'NN', 'is', 'VBZ', 'adorable', 'JJ', 'as', 'IN', 'santa', 'JJ', 'dalgom', 'NN', 'is', 'VBZ', 'cute', 'JJ', 'too', 'RB', 'jisoos', 'NN', 'helium', 'NN', 'voice', 'NN', 'is', 'VBZ', 'just', 'RB', 'adorable', 'JJ', 'Me', 'NNP', 'turkıs', 'NN', 'ı', 'NNP', 'love', 'NN', 'blackpink', 'NN', 'lisa', 'NN', 'love', 'NN', 'rose', 'VBD', 'love', 'JJR', 'jeniee', 'NN', 'love', 'NN', 'jisoo', 'NN', 'love', 'NN', 'Lucu', 'NNP', 'banget', 'NN', '9', 'CD', '47', 'CD', 'Rosé', 'NNP', 'Eunnie', 'NNP', 'pulling', 'VBG', 'Lisa', 'NNP', 'Eunnie', 'NNP', 's', 'VBD', 'clothe', 'NN', 'because', 'IN', 'she', 'PRP', 'thought', 'VBD', 'that', 'IN', 'Lisa', 'NNP', 'Eunnie', 'NNP', 'might', 'MD', 'get', 'VB', 'near', 'IN', 'to', 'TO', 'the', 'DT', 'cats', 'NNS', 'that', 'IN', 'they', 'PRP', 've', 'VBP', 'saw', 'VBD', '10', 'CD', '23', 'CD', '10', 'CD', '26', 'CD', 'A', 'NNP', 'bestfriend', 'NN', 'is', 'VBZ', 'always', 'RB', 'been', 'VBN', 'a', 'DT', 'protective', 'JJ', 'one', 'NN', '06', 'CD', '46', 'CD', 'Anh', 'NNP', 'biết', 'NN', 'sửa', 'NN', 'Tivi', 'NNP', 'không', 'NN', 'Blackpink', 'NNP', 'in', 'IN', 'your', 'PRP$', 'area', 'NN', 'I', 'PRP', 'love', 'VBP', 'blackpink', 'NN', 'I', 'PRP', 'like', 'VBP', 'helium', 'NN', 'song', 'NN', 'of', 'IN', 'jisoo', 'NN', 'when', 'WRB', 'they', 'PRP', 'were', 'VBD', 'doing', 'VBG', 'all', 'PDT', 'the', 'DT', 'chsrtimes', 'NNS', 'stuff', 'VBP', 'the', 'DT', 'cute', 'JJ', 'voice', 'NN', 'omg', 'NN', 'Rose', 'NNP', 'so', 'RB', 'cute', 'JJ', '05', 'CD', '33', 'CD', 'Please', 'VB', 'can', 'MD', 'you', 'PRP', 'add', 'VB', 'caption', 'NN', 'because', 'IN', 'I', 'PRP', 'am', 'VBP', 'international', 'JJ', 'blink', 'NN', 'so', 'IN', 'I', 'PRP', 'can', 'MD', 't', 'VB', 'understand', 'JJ', 'Korean', 'JJ', 'language', 'NN', '11', 'CD', '20', 'CD', 'i', 'NN', 'will', 'MD', 'be', 'VB', 'back', 'RB', 'Jisoo', 'NNP', 'so', 'RB', 'cute', 'JJ', 'Jisoo', 'NNP', 'is', 'VBZ', 'so', 'RB', 'cute', 'JJ', 'when', 'WRB', 'she', 'PRP', 'shout', 'VBD', 'بحب', 'JJ', 'جيني', 'NNP', 'بعشقها', 'NN', 'Today', 'NN', 'I', 'PRP', 'am', 'VBP', 'lord', 'RB', 'and', 'CC', 'new', 'JJ', 'delicious', 'JJ', 'recipe', 'NN', 'from', 'IN', 'my', 'PRP$', 'favourite', 'JJ', 'kpop', 'JJ', 'girl', 'NN', 'group', 'NN', '지수', 'JJ', '목소리', 'NNP', '너무', 'NNP', '귀여워', 'NNP', '사랑해', 'NNP', '사랑해', 'NNP', '블랙핑크', 'NN', 'My', 'PRP$', 'love', 'NN', 'MY', 'NNP', 'LOVE', 'NNP', 'Blackpink', 'NNP', 'in', 'IN', 'your', 'PRP$', 'area', 'NN', 'I', 'PRP', 'love', 'VBP', 'blackpink', 'NN', 'Love', 'NNP', 'Blackpink', 'NNP', 'Saya', 'NNP', 'suka', 'NN', 'blackpin', 'NN', 'Jisoo', 'NNP', 's', 'JJ', 'voice', 'NN', 'is', 'VBZ', 'so', 'RB', 'cute', 'JJ', 'Lisaaaaaaaaaaa', 'NNP', 'aku', 'NN', 'nge', 'NN', 'fans', 'NNS', 'banget', 'VBP', 'Who', 'WP', 'want', 'VBP', 'friends', 'NNS', 'like', 'IN', 'this', 'DT', '5', 'CD', '00', 'CD', 'That', 'IN', 'voice', 'NN', '5', 'CD', '40', 'CD', 'That', 'IN', 'smile', 'NN', 'Jisoo', 'NNP', 'Hello', 'NNP', 'chef', 'NN', '在', 'JJ', '陝盎жядяمlsls力力數那力', 'NNP', '建造建造將在', 'NN', '之崦尹寥', 'NN', 'I', 'PRP', 'love', 'VBP', 'Rosé', 'NNP', 'Lisa', 'NNP', 'Hi', 'NN', '엄마', 'NN', 'I', 'PRP', 'wish', 'VBP', 'I', 'PRP', 'was', 'VBD', 'thw', 'JJ', 'cat', 'NN', 'Lisa', 'NNP', 'is', 'VBZ', 'waking', 'VBG', 'up', 'RP', 'them', 'PRP', 'like', 'IN', 'thier', 'JJR', 'mother', 'NN', '4', 'CD', '54', 'CD', '4', 'CD', '53', 'CD', 'jisoo', 'NN', 'cute', 'NN', '3', 'CD', '5', 'CD', '42', 'CD', 'what', 'WP', 'a', 'DT', 'cutie', 'NN', 'Jisooyaaa', 'NNP', '3', 'CD', '4', 'CD', '53', 'CD', 'I', 'PRP', 'ate', 'VBP', 'helium', 'NN', 'Jisoo', 'NNP', 'should', 'MD', 'make', 'VB', 'full', 'JJ', 'version', 'NN', 'of', 'IN', 'this', 'DT', 'song', 'NN', 'lmao', 'NN', 'santa', 'NN', 'kuma', 'NN', 'lmao', 'NN', 'HAHAHA', 'NNP', 'My', 'PRP$', 'Nini', 'NNP', 'and', 'CC', 'Lili', 'NNP', 'is', 'VBZ', 'sooooo', 'JJ', 'cute', 'NN', 'imma', 'JJ', 'ship', 'NN', 'Foodsé', 'NNP', 'annyeong', 'RB', 'annyeong', 'JJ', 'naneun', 'JJ', 'JISOOYAH', 'NNP', 'So', 'NNP', 'cuteeee', 'NN', 'LOVE', 'NNP', 'BLACKPINK', 'NNP', 'ᴗ', 'NN', '안녕하세요', 'JJ', '지수입니다', 'NNP', '헬륨을', 'NNP', '먹고', 'NNP', '난', 'NNP', '후', 'NNP', '이렇게', 'NN', '5', 'CD', '00', 'CD', 'jisoo', 'NN', 'voice', 'NN', 'cute', 'NN', 'really', 'RB', 'cute', 'JJ', 'and', 'CC', 'sweet', 'JJ', 'jisoo', 'NN', 'perfect', 'JJ', 'baby', 'NN', 'jisoo', 'NN', 'jisoo', 'NN', 'helium', 'NN', 'I', 'PRP', 'LOVE', 'VBP', 'BLACKPINK', 'NNP', 'SO', 'NNP', 'SO', 'RB', 'MUCH', 'NNP', 'AND', 'CC', 'I', 'PRP', 'LOVE', 'VBP', 'HOW', 'WRB', 'THEY', 'NNP', 'PIT', 'NNP', 'THIER', 'NNP', 'DAN', 'NNP', 'E', 'NNP', 'PRACTICES', 'NNP', 'ON', 'NNP', 'YOUTUBE', 'NNP', 'SO', 'NNP', 'THX', 'NNP', 'BLACKPINK', 'NNP', 'LOVE', 'NNP', 'YOU', 'NNP', 'BLACKPINK', 'NNP', 'Eeeeek', 'JJ', 'Dalgom', 'NNP', 'is', 'VBZ', 'so', 'RB', 'cute', 'JJ', 'Love', 'NNP', 'you', 'PRP', 'Jennie', 'VBP', 'even', 'RB', 'though', 'IN', 'rose', 'VBD', 'is', 'VBZ', 'a', 'DT', 'millioner', 'NN', 'she', 'PRP', 'cares', 'VBZ', 'to', 'TO', 'save', 'VB', 'the', 'DT', 'toast', 'NN', 'we', 'PRP', 'need', 'VBP', 'more', 'JJR', 'people', 'NNS', 'like', 'IN', 'her', 'PRP$', 'So', 'RB', 'cute', 'JJ', 'jisso', 'NN', 'L', 'NNP', 'super', 'VBZ', 'love', 'NN', 'with', 'IN', 'lisa', 'JJ', 'becaus', 'NN', 'she', 'PRP', 'super', 'VBD', 'cute', 'NN', 'and', 'CC', 'l', 'NN', 'love', 'NN', 'eith', 'NN', 'jisso', 'NN', 'and', 'CC', 'l', 'NN', 'love', 'NN', 'with', 'IN', 'rose', 'VBD', 'and', 'CC', 'l', 'JJ', 'love', 'NN', 'with', 'IN', 'jennie', 'NN', 'And', 'CC', 'l', 'JJ', 'super', 'NN', 'like', 'IN', 'rose', 'VBD', 'and', 'CC', 'l', 'NNS', 'like', 'IN', 'jennie', 'NN', 'l', 'NN', 'like', 'IN', 'jisoo', 'NN', 'L', 'NNP', 'love', 'VBP', 'lisa', 'NN', 'l', 'NN', 'super', 'JJ', 'love', 'NN', 'lisa', 'NN', 'and', 'CC', 'l', 'NN', 'like', 'IN', 'lisa', 'NN', 'becaus', 'NN', 'she', 'PRP', 'cute', 'VBZ', 'girl', 'NN', 'Jisoo', 'NNP', 'is', 'VBZ', 'so', 'RB', 'cute', 'JJ', 'Blink', 'NNP', 'and', 'CC', 'Army', 'NNP', 'forever', 'RB', '홀리', 'JJ', '잘', 'NNP', '지내', 'NN', '5', 'CD', '39', 'CD', 'Jisoo', 'NN', 'Anyong', 'NNP', 'aseo', 'NN', 'Black', 'NNP', 'Pink', 'NNP', 'so', 'IN', 'cute', 'JJ', '5', 'CD', '00', 'CD', 'with', 'IN', 'the', 'DT', 'helium', 'NN', 'they', 'PRP', 'sound', 'VBP', 'so', 'RB', 'cute', 'JJ', 'OMG', 'NNP', 'ROSE', 'NNP', 'IS', 'NNP', 'MAH', 'NNP', 'TWIN', 'NNP', 'I', 'PRP', 'HAVE', 'VBP', 'THE', 'DT', 'SAME', 'NNP', 'LEMON', 'NNP', 'JUICE', 'NNP', 'AND', 'NNP', 'I', 'PRP', 'LOVE', 'VBP', 'LEMONS', 'NNP', 'TOO', 'NNP', 'The', 'DT', 'fact', 'NN', 'that', 'IN', 'Jennie', 'NNP', 'was', 'VBD', 'listening', 'VBG', 'to', 'TO', 'New', 'NNP', 'Rules', 'NNP', 'by', 'IN', 'Dua', 'NNP', 'Lipa', 'NNP', 'and', 'CC', 'they', 'PRP', 'end', 'VBP', 'up', 'RP', 'collabing', 'VBG', 'with', 'IN', 'Kiss', 'NNP', 'Make', 'NNP', 'up', 'RP', 'later', 'RBR', 'that', 'IN', 'year', 'NN', 'and', 'CC', 'now', 'RB', 'well', 'RB', 'they', 'PRP', 'just', 'RB', 'bestiiiess', 'NN', 'Hi', 'NN', 'Rose', 'NNP', 'is', 'VBZ', 'a', 'DT', 'best', 'JJS', 'chef', 'NN', 'New', 'NNP', 'rules', 'NNS', 'of', 'IN', 'dua', 'NN', 'lipa', 'NN', 'playing', 'NN', 'in', 'IN', 'the', 'DT', 'bg', 'NN', '4', 'CD', '58', 'CD', 'you', 'PRP', 'How', 'VBP', 'PLAOM', 'JJ', 'and', 'CC', 'Me', 'NNP', 'yes', 'NNP', 'Psychologically', 'NNP', 'BLACK', 'NNP', 'I', 'PRP', 'love', 'VBP', 'you', 'PRP', 'all', 'DT', 'احبكم', 'JJ', 'يا', 'NNP', 'احلي', 'NNP', 'بلا', 'NNP', 'بينك', 'NN', 'Who', 'WP', 'else', 'RB', 'come', 'VBP', 'here', 'RB', 'just', 'RB', 'to', 'TO', 'listen', 'VB', 'Jisoo', 'NNP', 'helium', 'NN', 'song', 'NN', 'So', 'RB', 'cute', 'JJ', 'Rahami', 'NN', 'I', 'PRP', 'miss', 'VBP', 'blackpink', 'NN', 'house', 'NN', 'jisoo', 'NN', 'so', 'RB', 'cute', 'JJ', 'ro', 'NN', 'se', 'NN', 'dê', 'NN', 'thương', 'NN', 'quá', 'NN', 'oie', 'JJ', 'luluca', 'NN', 'kkkkkkkkkkkkkkkkkkk', 'NN', 'haaaaaaaaaaaaaaaaaaaaaaaaaaaaaaaaaaaaaaaaaaaaaaaaaa', 'NN', 'haaaaaaaaaaaaaaaaaaaaaaaaaaaaaaaaaaaaaaaaaaaaaaaaaaaaaaaaaaaaaaaaaaaaaaa', 'NN', 'Anyeong', 'NNP', 'enyeong', 'RB', 'jisooyaaa', 'NN', 'dünyayı', 'NN', 'yese', 'JJ', 'bile', 'NN', 'doymayan', 'NN', 'rose', 'VBD', 'jvndkfjv', 'NNS', 'August', 'NNP', '2021', 'CD', '이글을', 'JJ', '읽으신', 'NNP', '모든분들', 'NNP', '행운과', 'NNP', '행복이', 'NNP', '항상', 'NNP', '함께하시길', 'NNP', '바랄께요', 'NNP', '모두모두', 'NNP', '행복하세요', 'NN', '이녕', 'JJ', '이녕', 'NNP', '나는', 'NNP', '지수야', 'NNP', 'is', 'VBZ', 'always', 'RB', 'iconic', 'JJ', 'jisoo', 'NN', 's', 'NN', 'helium', 'NN', 'song', 'NN', 'Ba', 'NNP', 'be', 'VB', 'love', 'VBN', 'love', 'VB', 'my', 'PRP$', 'big', 'JJ', 'Anneong', 'NNP', 'Jennie', 'NNP', 'kim', 'NN', 'Jisoo', 'NNP', 'so', 'RB', 'cute', 'JJ', 'ı', 'NNS', 'love', 'VBP', 'you', 'PRP', 'jenie', 'VBP', '3', 'CD', 'Lisa', 'NNP', 'fans', 'NNS', 'I', 'PRP', 'love', 'VBP', 'blackplnk', 'NN', 'JISOO', 'NN', 'anyeong', 'RB', 'jisooyaa', 'NN', 'Lol', 'NNP', 'im', 'JJ', 'army', 'NN', 'but', 'CC', 'i', 'JJ', 'search', 'NN', 'for', 'IN', 'this', 'DT', 'bcz', 'NN', 'of', 'IN', 'jisoo', 'NN', 's', 'NNS', 'cute', 'VBP', 'helium', 'NN', 'voice', 'NN', 'Rose', 'NNP', 'is', 'VBZ', 'so', 'RB', 'beautiful', 'JJ', 'jisoo', 'NN', 'jennie', 'NN', 'and', 'CC', 'lisa', 'NN', 'is', 'VBZ', 'so', 'RB', 'beautiful', 'JJ', 'to', 'TO', 'Cuteeeeeee', 'NN', 'Is', 'VBZ', 'it', 'PRP', 'real', 'JJ', 'I', 'PRP', 'love', 'VBP', 'you', 'PRP', 'amera', 'VBP', '나는', 'JJ', '리비아에서', 'NNP', '친구처럼', 'NNP', '너를', 'NNP', '너무', 'NNP', '사랑해', 'NN', 'Jisoo', 'NNP', 'so', 'RB', 'cute', 'JJ', 'リサは眠っていた', 'NN', 'Hello', 'NN', '4', 'CD', '56', 'CD', '5', 'CD', '00', 'CD', 'Jisoo', 'NNP', 'cute', 'NN', 'solo', 'NN', 'song', 'NN', '3𝚢𝚛', 'CD', '𝚊𝚐𝚘', 'NN', '1', 'CD', '07', 'CD', 'rose', 'VBD', 'so', 'RB', 'cute', 'JJ', 'I', 'PRP', 'u', 'VBP', 'black', 'JJ', 'pink', 'NN', 'Urgent', 'JJ', 'message', 'NN', 'you', 'PRP', 'should', 'MD', 'never', 'RB', 'inhale', 'VB', 'helium', 'NN', 'unless', 'IN', 'it', 'PRP', 'is', 'VBZ', 'the', 'DT', 'medical', 'JJ', 'grade', 'NN', 'even', 'RB', 'at', 'IN', 'that', 'IN', 'the', 'DT', 'Helium', 'NNP', 'is', 'VBZ', 'very', 'RB', 'bad', 'JJ', 'for', 'IN', 'the', 'DT', 'lungs', 'NNS', 'do', 'VBP', 'not', 'RB', 'inhale', 'VB', 'helium', 'NN', 'please', 'NN', 'Gemoy', 'NNP', 'bet', 'VBD', 'dah', 'JJ', 'Mak', 'NNP', 'jisso', 'NN', 'Hi', 'NN', 'You', 'PRP', 'are', 'VBP', 'not', 'RB', 'savage', 'VB', 'if', 'IN', 'you', 'PRP', 'cant', 'VBP', 'hide', 'VB', 'your', 'PRP$', 'hate', 'NN', 'to', 'TO', 'HATERS', 'VB', 'بلاك', 'NN', 'بنك', 'NN', 'i', 'NN', 'love', 'VBP', 'you', 'PRP', '제니의', 'JJ', '여동생은', 'NNP', '너무', 'NNP', '귀엽다', 'NNP', '지우', 'NNP', '장미', 'NNP', '리사도', 'NNP', '너무', 'NNP', '귀엽다', 'NN', 'JISOO', 'NNP', 'S', 'NNP', 'HELIUM', 'NNP', 'SONG', 'NNP', 'IS', 'NNP', 'SO', 'NNP', 'CUTENSJFDJDJ', 'NNP', 'Loved', 'VBN', 'jisoo', 'JJ', 'voice', 'NN', 'Omg', 'NNP', 'kukku', 'NN', '4', 'CD', '53', 'CD', 'THIS', 'NN', 'IS', 'VBZ', 'IT', 'NNP', 'Cute', 'NNP', 'jisoo', 'NN', '3', 'CD', '29', 'CD', '멍', 'NN', '하는거', 'NNP', '진짜', 'NNP', '귀엽다', 'NN', '0', 'CD', '11', 'CD', '달곰이', 'NNS', '인형인줄', 'VBP', 'I', 'PRP', 'love', 'VBP', 'this', 'DT', 'episode', 'NN', '5', 'CD', '42awww', 'CD', '이게', 'JJ', '그유명한', 'NNP', '짤이', 'NNP', '되었다는게', 'NNP', '학계의', 'NNP', '정설', 'NNP', '헬륨', 'NNP', '지수', 'NNP', 'ㅋㅋㅋㅋㅋㅋㅋㅋㅋㅋㅋㅋㅋㅋㅋㅋㅋㅋㅋㅋㅋㅋㅋ', 'NN', '4', 'CD', '53', 'CD', 'jisoo', 'NN', 's', 'NN', 'iconic', 'JJ', 'helium', 'NN', 'song', 'NN', 'It', 'PRP', 's', 'VBZ', 'so', 'RB', 'cute', 'JJ', 'how', 'WRB', 'Rosé', 'NNP', 'say', 'VBP', 'I', 'PRP', 'm', 'VBP', 'hungry', 'JJ', 'Lisa', 'NNP', 'I', 'PRP', 'm', 'VBP', 'hungry', 'JJ', 'And', 'CC', 'rushes', 'NNS', 'And', 'CC', 'burnt', 'VB', 'the', 'DT', 'toast', 'NN', '제페토', 'JJ', '보고', 'NNP', '온사람', 'NNP', '손', 'NN', 'I', 'PRP', 'u', 'VBP', 'Blackpink', 'NN', 'Ongyo', 'NNP', 'hasayo', 'NN', 'Yêu', 'NNP', 'các', 'NN', 'chị', 'NN', 'nhiều', 'NN', 'lắm', 'NN', 'I', 'PRP', 'love', 'VBP', 'you', 'PRP', 'baklpin', 'VBP', 'CUTE', 'NN', 'BLACKPINk', 'NN', 'BLINK', 'NN', 'BLACKPINK', 'NN', '9', 'CD', '42', 'CD', 'when', 'WRB', 'two', 'CD', 'babies', 'NNS', 'waiting', 'VBG', 'for', 'IN', 'food', 'NN', 'made', 'VBN', 'by', 'IN', 'their', 'PRP$', 'mums', 'NNS', 'Spoiled', 'VBN', 'kids', 'NNS', 'I', 'PRP', 'love', 'VBP', 'you', 'PRP', 'blackpink', 'VBP', 'Name', 'NNP', 'Junni', 'NNP', 'chan', 'NN', 'Fan', 'NNP', 'Hero', 'NNP', 'team', 'NN', 'vs', 'NN', 'blackpink', 'NN', 'bts', 'NNS', 'I', 'PRP', 'like', 'VBP', 'you', 'PRP', 'lisa', 'VBP', 'your', 'PRP$', 'the', 'DT', 'best', 'JJS', '5', 'CD', '00', 'CD', 'kiyowo', 'NNS', 'jisoo', 'NN', 'WA', 'NNP', 'kumu', 'VBD', 'sangat', 'JJ', 'cantik', 'NN', 'Selamat', 'NNP', 'hari', 'PRP', 'natal', 'JJ', 'saraenge', 'NN', 'Kok', 'NNP', 'kamu', 'VBD', 'binin', 'JJ', 'gemesin', 'NN', 'tau', 'NN', 'Jisoo', 'NNP', 's', 'NN', 'song', 'NN', 'is', 'VBZ', 'very', 'RB', 'cute', 'JJ', 'And', 'CC', 'I', 'PRP', 'love', 'VBP', 'rosè', 'JJ', 's', 'NN', 'nom', 'NN', 'nom', 'NN', 'JISOO', 'NNP', 'IS', 'NNP', 'tOOO', 'JJ', 'CUTE', 'NNP', '아주', 'JJ', '귀여운', 'NNP', '지수', 'NN', '5', 'CD', '48', 'CD', 'her', 'PRP$', 'voice', 'NN', 'is', 'VBZ', 'so', 'RB', 'sweet', 'JJ', 'Missing', 'VBG', 'them', 'PRP', 'very', 'RB', 'badly', 'RB', 'Love', 'NNP', 'you', 'PRP', 'jichuuuuu', 'NN', 'Jaja', 'NNP', 'que', 'NN', 'grasioso', 'NN', '지수야는', 'JJ', '눈이', 'NNP', '부시다', 'NN', 'indian', 'JJ', 'people', 'NNS', 'watch', 'VBP', 'bigboss', 'IN', 'indian', 'JJ', 'blinks', 'NNS', 'watch', 'VBP', 'blackpink', 'NN', 'house', 'NN', 'lol', 'NN', '1', 'CD', '07', 'CD', 'Jennie', 'NNP', 'solo', 'NN', 'Rose', 'NNP', 'on', 'IN', 'the', 'DT', 'ground', 'NN', 'Lisa', 'NNP', 'coming', 'VBG', 'soon', 'RB', 'Jisso', 'NNP', '5', 'CD', '00', 'CD', '5', 'CD', '00', 'CD', 'Jisoo', 'NN', 'Love', 'VB', 'your', 'PRP$', 'videos', 'NNS', 'Asw', 'NN', 'I', 'PRP', 'like', 'VBP', 'Jisoo', 'NNP', 'cause', 'NN', 'she', 'PRP', 'is', 'VBZ', 'so', 'RB', 'beautiful', 'JJ', 'and', 'CC', 'Jisoo', 'NNP', 'Lisa', 'NNP', 'Rose', 'NNP', 'and', 'CC', 'Jenni', 'NNP', 'have', 'VBP', 'a', 'DT', 'so', 'RB', 'cute', 'JJ', 'joking', 'NN', 'and', 'CC', 'happy', 'JJ', 'friend', 'NN', 'ship', 'NN', 'You', 'PRP', 'all', 'DT', 'guys', 'NNS', 'are', 'VBP', 'so', 'RB', 'beautiful', 'JJ', 'and', 'CC', 'pretty', 'JJ', 'but', 'CC', 'I', 'PRP', 'can', 'MD', 't', 'VB', 'see', 'VB', 'any', 'DT', 'differents', 'NNS', 'between', 'IN', 'Jisoo', 'NNP', 'and', 'CC', 'Rose', 'NNP', 'already', 'RB', 'I', 'PRP', 'know', 'VBP', 'that', 'IN', 'Rose', 'NNP', 'have', 'VBP', 'pink', 'VBN', 'hair', 'NN', 'but', 'CC', 'sometimes', 'RB', 'her', 'PRP$', 'hair', 'NN', 'colour', 'NN', 'changes', 'NNS', 'to', 'TO', 'brown', 'VB', 'Jisoo', 'NNP', 'is', 'VBZ', 'the', 'DT', 'best', 'JJS', 'thing', 'NN', 'happened', 'VBD', 'to', 'TO', 'YG', 'VB', 'ᆾᅥᄅᄆ규ᅳᄌ배ᅭᇀᅳ', 'NN', 'Q', 'NNP', 'linda', 'NN', 'la', 'NN', 'cara', 'NN', 'de', 'IN', 'rose', 'VBD', 'y', 'NNP', 'Jennie', 'NNP', 'y', 'NN', 'jisoo', 'NN', 'Jisoo', 'NNP', 'Still', 'RB', 'Cool', 'NNP', 'Thìyc', 'NN', 'plot', 'NN', 'twist', 'NN', 'all', 'DT', 'of', 'IN', 'this', 'DT', 'is', 'VBZ', 'a', 'DT', 'act', 'NN', 'its', 'PRP$', 'not', 'RB', 'real', 'JJ', 'lol', 'NN', '5', 'CD', '03', 'CD', 'jisso', 'NN', 'sound', 'NN', 'so', 'IN', 'cute', 'JJ', 'yami', 'NN', 'yami', 'NN', '5', 'CD', '00', 'CD', '그', 'NN', '유명한', 'NNP', '지수의', 'NNP', '헬륨가스', 'NNP', '송', 'NN', 'The', 'DT', 'fact', 'NN', 'that', 'IN', 'all', 'DT', 'of', 'IN', 'this', 'DT', 'is', 'VBZ', 'scripted', 'VBN', 'just', 'RB', 'breaks', 'VB', 'my', 'PRP$', 'heart', 'NN', 'Omg', 'NNP', 'jisooo', 'JJ', 'voice', 'NN', 'such', 'PDT', 'a', 'DT', 'cute', 'NN', 'one', 'CD', 'omg', 'NN', 'Aku', 'NNP', 'suka', 'NN', 'flim', 'NN', 'Blackpink', 'NNP', 'BLΛƆKPIИK', 'NNP', 'ilove', 'VB', 'you', 'PRP', 'the', 'DT', 'jennie', 'NN', '1', 'CD', '17', 'CD', 'BOOOOOOOH', 'NN', 'My', 'PRP$', 'favorite', 'JJ', 'Blackpink', 'NN', '10', 'CD', '17', 'CD', 'the', 'DT', 'cats', 'NNS', 'were', 'VBD', 'to', 'TO', 'lucky', 'VB', 'that', 'IN', 'they', 'PRP', 'were', 'VBD', 'at', 'IN', 'Blackpink', 'NNP', 's', 'NN', 'house', 'NN', 'Love', 'NNP', 'you', 'PRP', 'JISOO', 'NNP', 'soo', 'VBD', 'cute', 'NN', 'I', 'PRP', 'LOVE', 'VBP', 'YOU', 'PRP', 'ROSEEEEEEEEEE', 'VBP', 'blackpink', 'NN', 'cute', 'NN', '영어', 'JJ', '댓글', 'NNP', '차단', 'NNP', '못하냐', 'NNP', '이젠', 'NNP', '짜증나네', 'NN', '5', 'CD', '41', 'CD', 'La', 'NNP', 'carita', 'FW', 'de', 'FW', 'jisoo', 'FW', 'que', 'NN', 'linda', 'NN', '5', 'CD', '00', 'CD', 'Jisoo', 'NNP', 'so', 'RB', 'cute', 'JJ', 'anyeong', 'NN', 'anyeong', 'NN', 'and', 'CC', 'rose', 'VBD', 'reaction', 'NN', 'so', 'RB', 'cute', 'JJ', 'Jisoo', 'NNP', 'so', 'RB', 'cute', 'JJ', 'it', 'PRP', 'is', 'VBZ', 'soo', 'JJ', 'cute', 'NN', 'Jennie', 'NNP', 'listening', 'VBG', 'to', 'TO', 'her', 'PRP$', 'bestie', 'NN', 'dua', 'NN', 's', 'NN', 'song', 'NN', 'Jisoo', 'NNP', 'so', 'RB', 'cuuuuuuuute', 'JJ', '5', 'CD', '00', 'CD', 'jisoo', 'NNS', 'so', 'RB', 'cute', 'JJ', 'voice', 'NN', 'Rosé', 'NNP', 'fly', 'NN', '지수', 'NN', '사랑해여', 'NN', 'Who', 'WP', 'is', 'VBZ', 'here', 'RB', 'after', 'IN', 'BLACKPINK', 'NNP', '5th', 'CD', 'year', 'NN', 'vlive', 'NN', 'So', 'RB', 'cuteee', 'JJ', 'jisoo', 'NN', 's', 'NN', 'voice', 'NN', 'Ai', 'JJ', '2021', 'CD', 'vẫn', 'NN', 'xem', 'NN', 'กดอนน', 'NN', 'กดแนน', 'NN', 'กดปนน', 'NN', 'กดผนน', 'NN', 'กดฟนน', 'NN', 'กดหนน', 'NN', 'กดหรร', 'NN', 'กดไรน', 'NN', 'กดพรน', 'NN', 'กดะ16', 'NN', '五週年Vlive結尾', 'NN', '來回味的', 'NN', '5', 'CD', '00', 'CD', 'jisoo', 'NN', 's', 'JJ', 'voice', 'NN', 'is', 'VBZ', 'too', 'RB', 'cute', 'JJ', 'Watching', 'VBG', 'this', 'DT', 'ep', 'NN', 'because', 'IN', 'helium', 'NN', 'song', 'NN', 'is', 'VBZ', 'so', 'RB', 'iconic', 'JJ', '안녕하세요', 'NN', '블랙핑크', 'NN', 'Jennie', 'NNP', 'and', 'CC', 'jisoo', 'NN', 'concentrating', 'NN', 'on', 'IN', 'cooking', 'VBG', 'whereas', 'JJ', 'rosé', 'NN', 'and', 'CC', 'lisa', 'NN', 'are', 'VBP', 'playing', 'VBG', '3', 'CD', '31', 'CD', 'comeback', 'NN', 'here', 'RB', 'to', 'TO', 'see', 'VB', 'jisoo', 'JJ', 'iconic', 'JJ', 'helium', 'NN', 'voice', 'NN', 'after', 'IN', 'ot4', 'JJ', 'vlive', 'NN', 'Came', 'NN', 'here', 'RB', 'after', 'IN', 'the', 'DT', 'vlive', 'NN', 'I', 'PRP', 'love', 'VBP', 'jisoo', 'JJ', 's', 'JJ', 'helium', 'NN', 'song', 'NN', 'very', 'RB', 'much', 'RB', 'Happy', 'JJ', '5th', 'CD', 'anniversary', 'NN', '4', 'CD', '59', 'CD', 'went', 'VBD', 'here', 'RB', 'after', 'IN', 'bp', 'NN', 's', 'VBD', '5th', 'CD', 'anniv', 'RB', 'vlive', 'JJ', 'to', 'TO', 'reminisce', 'VB', 'haha', 'NN', 'Jisoo', 'NN', 'I', 'PRP', 'am', 'VBP', 'here', 'RB', 'after', 'IN', 'the', 'DT', 'OT4', 'NNP', '5th', 'CD', 'Anniv', 'NNP', 'Vlive', 'NNP', 'They', 'PRP', 'sang', 'VBD', 'Jisoo', 'NNP', 's', 'JJ', 'Helium', 'NNP', 'Song', 'NNP', 'at', 'IN', '05', 'CD', '00', 'CD', 'Lol', 'NNP', 'Love', 'NNP', 'these', 'DT', 'girls', 'NNS', 'O', 'NNP', 'rose', 'VBD', 'you', 'PRP', 'are', 'VBP', 'so', 'RB', 'nais', 'JJ', 'Who', 'WP', 's', 'VBP', 'here', 'RB', 'after', 'IN', 'hearing', 'VBG', 'blackpink', 'NN', 'sing', 'VBG', 'jisoo', 'NN', 's', 'JJ', 'helium', 'NN', 'song', 'NN', 'after', 'IN', '3', 'CD', 'years', 'NNS', 'Después', 'NNP', 'de', 'FW', 'verlo', 'FW', 'vlive', 'JJ', 'vine', 'NN', 'a', 'DT', 'recordar', 'NN', 'la', 'NN', 'canción', 'NN', 'de', 'IN', 'jisso', 'NN', 'Came', 'NN', 'here', 'RB', 'again', 'RB', 'because', 'IN', 'blackpink', 'NN', 'sang', 'NN', 'again', 'RB', 'the', 'DT', 'helium', 'NN', 'song', 'NN', 'in', 'IN', 'their', 'PRP$', '5th', 'CD', 'anniv', 'NNS', 'vlive', 'JJ', 'JISOO', 'NNP', 'DID', 'NNP', 'THE', 'NNP', 'HELIUM', 'NNP', 'SONG', 'NNP', 'AGAIN', 'NNP', 'HAHAHAHA', 'NNP', 'BUT', 'NNP', 'THIS', 'NNP', 'TIME', 'VBZ', 'IT', 'NNP', 'S', 'NNP', 'TOGETHER', 'NNP', 'WITH', 'NNP', 'BLACKPINK', 'NNP', 'HAHAHA', 'NNP', 'who', 'WP', 's', 'VBP', 'here', 'RB', 'from', 'IN', 'blackpink', 'NN', '5th', 'CD', 'anniversary', 'JJ', 'vlive', 'NN', 'Jenni', 'NNP', 'Lisa', 'NNP', 'Rose', 'NNP', 'Dressed', 'VBD', 'up', 'RP', 'in', 'IN', 'cute', 'JJ', 'winter', 'NN', 'outfits', 'NNS', 'Jisoo', 'NNP', 'The', 'DT', 'Visual', 'NNP', 'Sweats', 'NNP', 'LOL', 'NNP', 'Rose', 'NNP', 'cute', 'NN', '5', 'CD', '00', 'CD', '5', 'CD', '00', 'CD', 'All', 'DT', 'cute', 'NN', '좨송제가한번더말을했내요', 'NN', '그런데', 'NN', '고양이밥먹을떼눈마주치면안돼요', 'NN', 'l', 'NN', 'love', 'NN', 'BLACKPINK', 'NNP', '5', 'CD', '00', 'CD', 'jisoo', 'NN', 'is', 'VBZ', 'soo', 'JJ', 'cute', 'NN', 'I', 'PRP', 'really', 'RB', 'love', 'VB', 'jisoo', 'NN', 'she', 'PRP', 'is', 'VBZ', 'soo', 'JJ', 'cute', 'NN', 'If', 'IN', 'u', 'NNS', 'are', 'VBP', 'a', 'DT', 'real', 'JJ', 'blink', 'NN', 'answer', 'IN', 'these', 'DT', 'questions', 'NNS', 'What', 'WP', 'we', 'PRP', 'call', 'VBP', 'blackpink', 'JJ', 'haters', 'NNS', 'Options', 'VBP', 'A', 'DT', 'blackhead', 'NN', '40', 'CD', 'points', 'NNS', 'B', 'NNP', 'haters', 'NNS', '20', 'CD', 'points', 'NNS', 'C', 'NNP', 'idk', 'VBD', '0', 'CD', 'points', 'NNS', 'Who', 'WP', 'is', 'VBZ', 'the', 'DT', 'leader', 'NN', 'of', 'IN', 'blackpink', 'NN', 'Options', 'NNS', 'A', 'NNP', 'Lisa', 'NNP', '20', 'CD', 'points', 'NNS', 'B', 'NNP', 'jisoo', 'NN', '30', 'CD', 'points', 'NNS', 'C', 'NNP', 'Rose', 'NNP', '10', 'CD', 'points', 'NNS', 'Who', 'WP', 'is', 'VBZ', 'the', 'DT', 'cute', 'JJ', 'girl', 'NN', 'in', 'IN', 'blackpink', 'NN', 'Options', 'NNS', 'A', 'NNP', 'jisoo', 'NN', '40', 'CD', 'points', 'NNS', 'B', 'NNP', 'Jennie', 'NNP', '30', 'CD', 'points', 'NNS', 'C', 'NNP', 'all', 'DT', 'of', 'IN', 'them', 'PRP', '90', 'CD', 'points', 'NNS', 'Who', 'WP', 'is', 'VBZ', 'the', 'DT', 'main', 'JJ', 'dancer', 'NN', 'of', 'IN', 'blackpink', 'NN', 'Options', 'NNS', 'A', 'NNP', 'Jennie', 'NNP', '20', 'CD', 'points', 'NNS', 'B', 'NNP', 'rose', 'VBD', '30', 'CD', 'points', 'NNS', 'C', 'NNP', 'Lisa', 'NNP', '50', 'CD', 'points', 'NNS', 'No', 'RB', 'cheating', 'VBG', 'Who', 'WP', 'is', 'VBZ', 'the', 'DT', 'called', 'VBN', 'laziest', 'JJS', 'girl', 'NN', 'to', 'TO', 'google', 'VB', 'but', 'CC', 'a', 'DT', 'strong', 'JJ', 'girl', 'NN', 'in', 'IN', 'the', 'DT', 'blackpink', 'NN', 'Options', 'NNP', 'A', 'NNP', 'Lisa', 'NNP', '40', 'CD', 'point', 'NN', 'B', 'NNP', 'Jennie', 'NNP', '70', 'CD', 'points', 'NNS', 'C', 'NNP', 'rose', 'VBD', '10', 'CD', 'points', 'NNS', 'Add', 'VB', 'your', 'PRP$', 'points', 'NNS', 'and', 'CC', 'that', 'DT', 'is', 'VBZ', 'your', 'PRP$', 'answer', 'NN', 'If', 'IN', 'u', 'JJ', 'got', 'VBD', '190', 'CD', 'u', 'NNS', 'know', 'VBP', 'blackpink', 'VBP', 'half', 'NN', 'If', 'IN', 'u', 'JJ', 'got', 'VBD', 'near', 'RB', '100', 'CD', 'u', 'NNS', 'know', 'VBP', 'fully', 'RB', 'blackpink', 'VBP', 'Sent', 'NNP', 'me', 'PRP', 'your', 'PRP$', 'answer', 'NN', 'I', 'PRP', 'will', 'MD', 'tell', 'VB', 'u', 'NNS', 'are', 'VBP', 'pass', 'NN', 'or', 'CC', 'not', 'RB']\n"
     ]
    }
   ],
   "source": [
    "from itertools import chain #넘파이를 이용할 수 도 있음! 다양한 방법으로 시도해보자... 그치만 모르겠는걸?\n",
    "comment_list = list(chain.from_iterable(comment_list))\n",
    "print(comment_list)"
   ]
  },
  {
   "cell_type": "code",
   "execution_count": 50,
   "id": "342bfb6b",
   "metadata": {
    "ExecuteTime": {
     "end_time": "2021-09-01T03:34:51.172732Z",
     "start_time": "2021-09-01T03:34:51.154775Z"
    }
   },
   "outputs": [
    {
     "ename": "IndexError",
     "evalue": "string index out of range",
     "output_type": "error",
     "traceback": [
      "\u001b[0;31m---------------------------------------------------------------------------\u001b[0m",
      "\u001b[0;31mIndexError\u001b[0m                                Traceback (most recent call last)",
      "\u001b[0;32m<ipython-input-50-3892ee58beff>\u001b[0m in \u001b[0;36m<module>\u001b[0;34m\u001b[0m\n\u001b[1;32m      1\u001b[0m \u001b[0;32mimport\u001b[0m \u001b[0mre\u001b[0m\u001b[0;34m\u001b[0m\u001b[0;34m\u001b[0m\u001b[0m\n\u001b[1;32m      2\u001b[0m \u001b[0mpattern\u001b[0m \u001b[0;34m=\u001b[0m \u001b[0mre\u001b[0m\u001b[0;34m.\u001b[0m\u001b[0mcompile\u001b[0m\u001b[0;34m(\u001b[0m\u001b[0;34m\"NN?\"\u001b[0m\u001b[0;34m)\u001b[0m\u001b[0;34m\u001b[0m\u001b[0;34m\u001b[0m\u001b[0m\n\u001b[0;32m----> 3\u001b[0;31m \u001b[0mcomment_nouns\u001b[0m \u001b[0;34m=\u001b[0m \u001b[0;34m[\u001b[0m \u001b[0mt\u001b[0m\u001b[0;34m[\u001b[0m\u001b[0;36m0\u001b[0m\u001b[0;34m]\u001b[0m \u001b[0;32mfor\u001b[0m \u001b[0mt\u001b[0m \u001b[0;32min\u001b[0m \u001b[0mcomment_list\u001b[0m \u001b[0;32mif\u001b[0m \u001b[0mpattern\u001b[0m\u001b[0;34m.\u001b[0m\u001b[0mmatch\u001b[0m\u001b[0;34m(\u001b[0m\u001b[0mt\u001b[0m\u001b[0;34m[\u001b[0m\u001b[0;36m1\u001b[0m\u001b[0;34m]\u001b[0m\u001b[0;34m)\u001b[0m\u001b[0;34m]\u001b[0m\u001b[0;34m\u001b[0m\u001b[0;34m\u001b[0m\u001b[0m\n\u001b[0m",
      "\u001b[0;32m<ipython-input-50-3892ee58beff>\u001b[0m in \u001b[0;36m<listcomp>\u001b[0;34m(.0)\u001b[0m\n\u001b[1;32m      1\u001b[0m \u001b[0;32mimport\u001b[0m \u001b[0mre\u001b[0m\u001b[0;34m\u001b[0m\u001b[0;34m\u001b[0m\u001b[0m\n\u001b[1;32m      2\u001b[0m \u001b[0mpattern\u001b[0m \u001b[0;34m=\u001b[0m \u001b[0mre\u001b[0m\u001b[0;34m.\u001b[0m\u001b[0mcompile\u001b[0m\u001b[0;34m(\u001b[0m\u001b[0;34m\"NN?\"\u001b[0m\u001b[0;34m)\u001b[0m\u001b[0;34m\u001b[0m\u001b[0;34m\u001b[0m\u001b[0m\n\u001b[0;32m----> 3\u001b[0;31m \u001b[0mcomment_nouns\u001b[0m \u001b[0;34m=\u001b[0m \u001b[0;34m[\u001b[0m \u001b[0mt\u001b[0m\u001b[0;34m[\u001b[0m\u001b[0;36m0\u001b[0m\u001b[0;34m]\u001b[0m \u001b[0;32mfor\u001b[0m \u001b[0mt\u001b[0m \u001b[0;32min\u001b[0m \u001b[0mcomment_list\u001b[0m \u001b[0;32mif\u001b[0m \u001b[0mpattern\u001b[0m\u001b[0;34m.\u001b[0m\u001b[0mmatch\u001b[0m\u001b[0;34m(\u001b[0m\u001b[0mt\u001b[0m\u001b[0;34m[\u001b[0m\u001b[0;36m1\u001b[0m\u001b[0;34m]\u001b[0m\u001b[0;34m)\u001b[0m\u001b[0;34m]\u001b[0m\u001b[0;34m\u001b[0m\u001b[0;34m\u001b[0m\u001b[0m\n\u001b[0m",
      "\u001b[0;31mIndexError\u001b[0m: string index out of range"
     ]
    }
   ],
   "source": [
    "import re\n",
    "pattern = re.compile(\"NN?\")\n",
    "comment_nouns = [ t[0] for t in comment_list if pattern.match(t[1])]"
   ]
  },
  {
   "cell_type": "code",
   "execution_count": null,
   "id": "7cdfdbf9",
   "metadata": {},
   "outputs": [],
   "source": [
    "comment_nouns = list(map(lambda x : x.lower(), comment_nouns)) #모두 소문자로 바꿈\n",
    "#[x.lower() for x in comment_nouns]"
   ]
  },
  {
   "cell_type": "code",
   "execution_count": 45,
   "id": "49cb7c52",
   "metadata": {
    "ExecuteTime": {
     "end_time": "2021-09-01T03:05:39.713014Z",
     "start_time": "2021-09-01T03:05:39.141137Z"
    }
   },
   "outputs": [
    {
     "data": {
      "image/png": "[encoded data removed]",
      "text/plain": [
       "<Figure size 432x288 with 1 Axes>"
      ]
     },
     "metadata": {
      "needs_background": "light"
     },
     "output_type": "display_data"
    }
   ],
   "source": [
    "from nltk import Text\n",
    "comment_text = Text(comment_nouns)\n",
    "comment_text.plot(20)"
   ]
  }
 ],
 "metadata": {
  "kernelspec": {
   "display_name": "Python 3",
   "language": "python",
   "name": "python3"
  },
  "language_info": {
   "codemirror_mode": {
    "name": "ipython",
    "version": 3
   },
   "file_extension": ".py",
   "mimetype": "text/x-python",
   "name": "python",
   "nbconvert_exporter": "python",
   "pygments_lexer": "ipython3",
   "version": "3.8.8"
  },
  "toc": {
   "base_numbering": 1,
   "nav_menu": {},
   "number_sections": true,
   "sideBar": true,
   "skip_h1_title": false,
   "title_cell": "Table of Contents",
   "title_sidebar": "Contents",
   "toc_cell": false,
   "toc_position": {},
   "toc_section_display": true,
   "toc_window_display": false
  },
  "varInspector": {
   "cols": {
    "lenName": 16,
    "lenType": 16,
    "lenVar": 40
   },
   "kernels_config": {
    "python": {
     "delete_cmd_postfix": "",
     "delete_cmd_prefix": "del ",
     "library": "var_list.py",
     "varRefreshCmd": "print(var_dic_list())"
    },
    "r": {
     "delete_cmd_postfix": ") ",
     "delete_cmd_prefix": "rm(",
     "library": "var_list.r",
     "varRefreshCmd": "cat(var_dic_list()) "
    }
   },
   "types_to_exclude": [
    "module",
    "function",
    "builtin_function_or_method",
    "instance",
    "_Feature"
   ],
   "window_display": false
  }
 },
 "nbformat": 4,
 "nbformat_minor": 5
}
