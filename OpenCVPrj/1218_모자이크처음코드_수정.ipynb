{
 "cells": [
  {
   "cell_type": "code",
   "execution_count": 1,
   "id": "ed39f13d",
   "metadata": {
    "ExecuteTime": {
     "end_time": "2021-12-17T07:16:54.451438Z",
     "start_time": "2021-12-17T07:16:51.406721Z"
    },
    "id": "ed39f13d",
    "outputId": "4b07316c-42d4-4421-af53-b66966b88914"
   },
   "outputs": [
    {
     "name": "stdout",
     "output_type": "stream",
     "text": [
      "Requirement already satisfied: cmake in /Users/dayoung/opt/anaconda3/lib/python3.8/site-packages (3.22.0)\r\n"
     ]
    }
   ],
   "source": [
    "! pip install cmake"
   ]
  },
  {
   "cell_type": "code",
   "execution_count": 2,
   "id": "baa2efff",
   "metadata": {
    "ExecuteTime": {
     "end_time": "2021-12-17T07:16:56.503800Z",
     "start_time": "2021-12-17T07:16:54.456615Z"
    },
    "id": "baa2efff",
    "outputId": "8f9d3842-2a00-4dd9-c1d8-79daf55675ef"
   },
   "outputs": [
    {
     "name": "stdout",
     "output_type": "stream",
     "text": [
      "Requirement already satisfied: dlib in /Users/dayoung/opt/anaconda3/lib/python3.8/site-packages (19.22.1)\r\n"
     ]
    }
   ],
   "source": [
    "! pip install dlib"
   ]
  },
  {
   "cell_type": "code",
   "execution_count": 3,
   "id": "56701185",
   "metadata": {
    "ExecuteTime": {
     "end_time": "2021-12-17T07:16:59.824163Z",
     "start_time": "2021-12-17T07:16:56.509981Z"
    },
    "id": "56701185",
    "outputId": "3af7bc59-51c6-4aa1-d7e0-05e63a3425a5"
   },
   "outputs": [
    {
     "name": "stdout",
     "output_type": "stream",
     "text": [
      "Requirement already satisfied: opencv-contrib-python in /Users/dayoung/opt/anaconda3/lib/python3.8/site-packages (4.5.4.60)\r\n",
      "Requirement already satisfied: numpy>=1.17.3 in /Users/dayoung/opt/anaconda3/lib/python3.8/site-packages (from opencv-contrib-python) (1.20.1)\r\n"
     ]
    }
   ],
   "source": [
    "%matplotlib inline\n",
    "! pip install opencv-contrib-python"
   ]
  },
  {
   "cell_type": "code",
   "execution_count": 4,
   "id": "fdd786f5",
   "metadata": {
    "ExecuteTime": {
     "end_time": "2021-12-17T07:17:09.190755Z",
     "start_time": "2021-12-17T07:16:59.830841Z"
    },
    "id": "fdd786f5"
   },
   "outputs": [],
   "source": [
    "import dlib, cv2\n",
    "import numpy as np\n",
    "import matplotlib.pyplot as plt\n",
    "from PIL import ImageFont, ImageDraw, Image\n",
    "import tensorflow.keras \n",
    "from tensorflow.keras import backend as K\n",
    "\n",
    "detector = dlib.get_frontal_face_detector()\n",
    "sp = dlib.shape_predictor('shape_predictor_68_face_landmarks.dat')\n",
    "facerec = dlib.face_recognition_model_v1('dlib_face_recognition_resnet_model_v1.dat')"
   ]
  },
  {
   "cell_type": "code",
   "execution_count": 5,
   "id": "be3bcd54",
   "metadata": {
    "ExecuteTime": {
     "end_time": "2021-12-17T07:17:09.201105Z",
     "start_time": "2021-12-17T07:17:09.192368Z"
    },
    "id": "be3bcd54"
   },
   "outputs": [],
   "source": [
    "def find_faces(img):\n",
    "    dets = detector(img, 1)\n",
    "    \n",
    "    if len(dets) == 0:\n",
    "        return np.empty(0), np.empty(0), np.empty(0)\n",
    "    \n",
    "    rects, shapes = [], []\n",
    "    shapes_np = np.zeros((len(dets), 68, 2), dtype= int)\n",
    "    for k, d in enumerate(dets):\n",
    "        rect = ((d.left(), d.top()), (d.right(), d.bottom()))\n",
    "        rects.append(rect)\n",
    "\n",
    "        shape = sp(img, d)\n",
    "        \n",
    "        # convert dlib shape to numpy array\n",
    "        for i in range(0, 68):\n",
    "            shapes_np[k][i] = (shape.part(i).x, shape.part(i).y)\n",
    "\n",
    "        shapes.append(shape)\n",
    "        \n",
    "    return rects, shapes, shapes_np\n",
    "\n",
    "def encode_faces(img, shapes):\n",
    "    face_descriptors = []\n",
    "    for shape in shapes:\n",
    "        face_descriptor = facerec.compute_face_descriptor(img, shape)\n",
    "        face_descriptors.append(np.array(face_descriptor))\n",
    "\n",
    "    return np.array(face_descriptors)"
   ]
  },
  {
   "cell_type": "code",
   "execution_count": 6,
   "id": "f6de5e59",
   "metadata": {
    "ExecuteTime": {
     "end_time": "2021-12-17T07:17:09.633730Z",
     "start_time": "2021-12-17T07:17:09.203522Z"
    },
    "id": "f6de5e59",
    "outputId": "caf088a4-e5f5-4a55-dc4a-71c7ebd39166"
   },
   "outputs": [
    {
     "name": "stdout",
     "output_type": "stream",
     "text": [
      "[['정국1', array([-6.42565116e-02,  1.67656913e-02,  1.09558143e-02, -1.03970215e-01,\n",
      "       -6.32530674e-02, -4.79219817e-02, -1.03603899e-01, -1.01171561e-01,\n",
      "        1.23213857e-01, -1.25224471e-01,  2.15959981e-01, -9.87264812e-02,\n",
      "       -1.82047710e-01, -5.88646606e-02, -7.53460005e-02,  1.89463228e-01,\n",
      "       -1.64266288e-01, -1.61002964e-01, -5.99844828e-02,  6.47784770e-03,\n",
      "        1.00731090e-01,  4.02793065e-02, -4.91798334e-02,  8.15239325e-02,\n",
      "       -1.18247569e-01, -2.68381476e-01, -1.00011528e-01, -4.03784588e-02,\n",
      "       -2.52770521e-02, -7.82238990e-02, -3.13604102e-02,  2.59612501e-03,\n",
      "       -1.88055992e-01, -1.06380507e-02,  8.15455839e-02,  1.40466124e-01,\n",
      "        1.00518167e-02, -1.36288464e-01,  1.54881939e-01,  8.51102918e-03,\n",
      "       -2.77306587e-01,  1.10800654e-01,  1.04618669e-01,  2.02128023e-01,\n",
      "        1.85929865e-01, -1.66696906e-02, -4.04499620e-02, -2.23387659e-01,\n",
      "        1.42773464e-01, -1.84091687e-01,  3.10075544e-02,  1.68163657e-01,\n",
      "        1.56045770e-02,  6.02949150e-02,  1.93467289e-02, -1.06840484e-01,\n",
      "        4.55908775e-02,  1.67973116e-01, -1.35017231e-01, -3.89719643e-02,\n",
      "        9.42798406e-02, -3.17824408e-02, -1.32597052e-02, -1.38711810e-01,\n",
      "        1.85645789e-01,  9.08341855e-02, -1.40306547e-01, -2.59748459e-01,\n",
      "        8.65694433e-02, -1.63061500e-01, -1.11514315e-01,  1.33251920e-01,\n",
      "       -1.44703194e-01, -1.62621886e-01, -2.95003414e-01,  1.33166015e-02,\n",
      "        3.86625081e-01,  1.11073643e-01, -1.85457170e-01,  1.35781467e-01,\n",
      "       -5.85894957e-02,  8.21418315e-03,  1.42083585e-01,  1.52244315e-01,\n",
      "        5.81468046e-02,  4.06562090e-02, -7.16772750e-02,  7.90639222e-03,\n",
      "        2.69650400e-01, -2.49183849e-02, -6.74192421e-03,  1.96166903e-01,\n",
      "       -9.97232273e-03,  8.37102085e-02,  3.61586772e-02,  1.14262104e-04,\n",
      "       -7.98895359e-02, -4.05825675e-04, -1.57400042e-01, -5.25964722e-02,\n",
      "       -8.63356888e-03,  6.42675236e-02, -1.76072121e-03,  1.25857919e-01,\n",
      "       -1.16175212e-01,  1.11205459e-01,  1.56629086e-02, -2.32450664e-04,\n",
      "        3.59529257e-02,  5.92060387e-03, -5.01541197e-02, -4.44667637e-02,\n",
      "        1.06367469e-01, -2.51424611e-01,  1.91114977e-01,  8.53386149e-02,\n",
      "        1.56009316e-01,  5.46762384e-02,  1.59718946e-01,  8.24508816e-02,\n",
      "       -3.27838585e-02, -1.70516074e-02, -2.35824764e-01,  3.43621485e-02,\n",
      "        7.34194741e-02, -1.44532919e-02,  1.21290371e-01, -3.47564369e-02])], ['정국2', array([-0.07148495,  0.11425725,  0.06253581, -0.10690188, -0.09941487,\n",
      "       -0.08501741, -0.08171534, -0.09785117,  0.15395965, -0.09816284,\n",
      "        0.28578439, -0.12025108, -0.14225687,  0.00103408, -0.04254451,\n",
      "        0.17682259, -0.20171794, -0.14509757, -0.10039496,  0.09454692,\n",
      "        0.09140532,  0.0425202 , -0.00928   ,  0.04867757, -0.11941779,\n",
      "       -0.34667844, -0.10253531, -0.01515473, -0.00964222, -0.07452801,\n",
      "        0.01766761,  0.02648807, -0.20726913, -0.01487788,  0.08887869,\n",
      "        0.10004792,  0.03476758, -0.10910901,  0.15653667, -0.03172307,\n",
      "       -0.31890425,  0.04772951,  0.06850426,  0.2178935 ,  0.21539043,\n",
      "        0.04904386, -0.01468089, -0.19102232,  0.13831848, -0.1695049 ,\n",
      "        0.04905201,  0.16501343, -0.01624366,  0.05554654,  0.01558506,\n",
      "       -0.11547321,  0.01915479,  0.21469846, -0.12860695, -0.06081405,\n",
      "        0.10098044, -0.00914313,  0.04478461, -0.13670263,  0.17670645,\n",
      "        0.07506244, -0.12618577, -0.23807874,  0.11022157, -0.12883976,\n",
      "       -0.11276143,  0.08346882, -0.18198623, -0.18010211, -0.32779458,\n",
      "       -0.04953894,  0.41420767,  0.0877009 , -0.19818208,  0.05527357,\n",
      "       -0.08007935,  0.01013639,  0.09048544,  0.10858564,  0.04874714,\n",
      "        0.00115237, -0.13378422, -0.0095827 ,  0.33006114, -0.0551983 ,\n",
      "       -0.00983064,  0.20516858, -0.05294115,  0.00546874, -0.03217182,\n",
      "        0.01145869, -0.09259132,  0.04516383, -0.16321123, -0.05892272,\n",
      "       -0.03176463,  0.08076277, -0.0675854 ,  0.20436424, -0.19584787,\n",
      "        0.13845791,  0.0281677 ,  0.03868381,  0.00786148,  0.03414303,\n",
      "       -0.02718683, -0.08903971,  0.1152713 , -0.19662911,  0.20098925,\n",
      "        0.13569504,  0.1140054 ,  0.09009734,  0.10209613,  0.08633729,\n",
      "       -0.00853087,  0.00664987, -0.23421128, -0.02433902,  0.04516517,\n",
      "        0.04317452,  0.09251611,  0.00759599])], ['정국3', array([-0.06465794,  0.07587674,  0.04304142, -0.09773387, -0.0910074 ,\n",
      "       -0.02283255, -0.07404677, -0.04131995,  0.14635617, -0.12019812,\n",
      "        0.21983413, -0.06007144, -0.16006263,  0.00179871,  0.02427702,\n",
      "        0.16741379, -0.1765222 , -0.1808178 , -0.05848839, -0.01700538,\n",
      "        0.07125233,  0.06121811, -0.04297529,  0.09349945, -0.1879084 ,\n",
      "       -0.26629624, -0.07168238, -0.06181313, -0.04251898, -0.07686955,\n",
      "       -0.01606777,  0.00654933, -0.19864313, -0.00980709,  0.08131678,\n",
      "        0.11969268,  0.03722405, -0.05916904,  0.15356454,  0.00295817,\n",
      "       -0.26991218,  0.11713493,  0.11191545,  0.21193935,  0.18453062,\n",
      "        0.06424341, -0.02949638, -0.1746103 ,  0.15324995, -0.16346253,\n",
      "        0.0544078 ,  0.13812797,  0.04196931,  0.06873585,  0.02267804,\n",
      "       -0.15200266,  0.04131022,  0.14335527, -0.1355488 , -0.03035641,\n",
      "        0.0514878 , -0.00768455,  0.03539322, -0.10610972,  0.22885239,\n",
      "        0.04406478, -0.11645851, -0.21563715,  0.0755468 , -0.16208956,\n",
      "       -0.16368195,  0.12706642, -0.1433925 , -0.1498881 , -0.32708928,\n",
      "        0.01767375,  0.35251647,  0.10468224, -0.22896048,  0.11454249,\n",
      "        0.01376326, -0.00500709,  0.09225172,  0.17327435, -0.01007811,\n",
      "        0.05955774, -0.08130816,  0.0022281 ,  0.29813033,  0.00118864,\n",
      "        0.00270817,  0.20937794,  0.01842932,  0.08245087,  0.04343946,\n",
      "        0.01540203, -0.09611444, -0.02460172, -0.17805649, -0.07498424,\n",
      "       -0.02292819,  0.08590406, -0.05375417,  0.1670799 , -0.20324311,\n",
      "        0.15582117, -0.03045036, -0.03401581, -0.06325556,  0.07577176,\n",
      "       -0.01143683, -0.05183654,  0.10129884, -0.23451641,  0.14088093,\n",
      "        0.13845435,  0.09070759,  0.08343071,  0.1145141 ,  0.06200586,\n",
      "       -0.03706247,  0.04207982, -0.24202126, -0.01178316,  0.10293601,\n",
      "       -0.05432028,  0.14627019,  0.01571271])]]\n"
     ]
    },
    {
     "name": "stderr",
     "output_type": "stream",
     "text": [
      "/Users/dayoung/opt/anaconda3/lib/python3.8/site-packages/numpy/core/_asarray.py:171: VisibleDeprecationWarning: Creating an ndarray from ragged nested sequences (which is a list-or-tuple of lists-or-tuples-or ndarrays with different lengths or shapes) is deprecated. If you meant to do this, you must specify 'dtype=object' when creating the ndarray.\n",
      "  return array(a, dtype, copy=False, order=order, subok=True)\n"
     ]
    }
   ],
   "source": [
    "img_paths = {\n",
    "     '정국1': '정국1.jpeg',\n",
    "    '정국2' : '정국2.jpeg',\n",
    "    '정국3':'정국_측면.jpeg'\n",
    "}\n",
    "\n",
    "descs = []\n",
    "\n",
    "for name, img_path in img_paths.items(): \n",
    "    img = cv2.imread(img_path)\n",
    "    _, img_shapes, _ = find_faces(img)\n",
    "    descs.append([name, encode_faces(img, img_shapes)[0]])\n",
    "    \n",
    "np.save('images/descs.npy', descs)\n",
    "print(descs)"
   ]
  },
  {
   "cell_type": "code",
   "execution_count": 9,
   "id": "a6f77c70",
   "metadata": {
    "ExecuteTime": {
     "end_time": "2021-12-17T07:17:32.025049Z",
     "start_time": "2021-12-17T07:17:28.575642Z"
    },
    "id": "a6f77c70"
   },
   "outputs": [
    {
     "ename": "TypeError",
     "evalue": "__call__(): incompatible function arguments. The following argument types are supported:\n    1. (self: _dlib_pybind11.fhog_object_detector, image: array, upsample_num_times: int=0) -> _dlib_pybind11.rectangles\n\nInvoked with: <_dlib_pybind11.fhog_object_detector object at 0x7fb675317470>, None, 1",
     "output_type": "error",
     "traceback": [
      "\u001b[0;31m---------------------------------------------------------------------------\u001b[0m",
      "\u001b[0;31mTypeError\u001b[0m                                 Traceback (most recent call last)",
      "\u001b[0;32m<ipython-input-9-a698714d6722>\u001b[0m in \u001b[0;36m<module>\u001b[0;34m\u001b[0m\n\u001b[1;32m      9\u001b[0m     \u001b[0mimg\u001b[0m \u001b[0;34m=\u001b[0m \u001b[0mcv2\u001b[0m\u001b[0;34m.\u001b[0m\u001b[0mflip\u001b[0m\u001b[0;34m(\u001b[0m\u001b[0mimg\u001b[0m\u001b[0;34m,\u001b[0m \u001b[0;36m1\u001b[0m\u001b[0;34m)\u001b[0m \u001b[0;31m# 좌우 대칭\u001b[0m\u001b[0;34m\u001b[0m\u001b[0;34m\u001b[0m\u001b[0m\n\u001b[1;32m     10\u001b[0m \u001b[0;31m#    img = cv2.cvtColor(img, cv2.COLOR_BGR2RGB)\u001b[0m\u001b[0;34m\u001b[0m\u001b[0;34m\u001b[0m\u001b[0;34m\u001b[0m\u001b[0m\n\u001b[0;32m---> 11\u001b[0;31m     \u001b[0mrects\u001b[0m\u001b[0;34m,\u001b[0m \u001b[0mshapes\u001b[0m\u001b[0;34m,\u001b[0m \u001b[0m_\u001b[0m \u001b[0;34m=\u001b[0m \u001b[0mfind_faces\u001b[0m\u001b[0;34m(\u001b[0m\u001b[0mimg\u001b[0m\u001b[0;34m)\u001b[0m \u001b[0;31m# 얼굴 찾기\u001b[0m\u001b[0;34m\u001b[0m\u001b[0;34m\u001b[0m\u001b[0m\n\u001b[0m\u001b[1;32m     12\u001b[0m     \u001b[0mdescriptors\u001b[0m \u001b[0;34m=\u001b[0m \u001b[0mencode_faces\u001b[0m\u001b[0;34m(\u001b[0m\u001b[0mimg\u001b[0m\u001b[0;34m,\u001b[0m \u001b[0mshapes\u001b[0m\u001b[0;34m)\u001b[0m \u001b[0;31m# 인코딩\u001b[0m\u001b[0;34m\u001b[0m\u001b[0;34m\u001b[0m\u001b[0m\n\u001b[1;32m     13\u001b[0m \u001b[0;34m\u001b[0m\u001b[0m\n",
      "\u001b[0;32m<ipython-input-5-02bcf305a14e>\u001b[0m in \u001b[0;36mfind_faces\u001b[0;34m(img)\u001b[0m\n\u001b[1;32m      1\u001b[0m \u001b[0;32mdef\u001b[0m \u001b[0mfind_faces\u001b[0m\u001b[0;34m(\u001b[0m\u001b[0mimg\u001b[0m\u001b[0;34m)\u001b[0m\u001b[0;34m:\u001b[0m\u001b[0;34m\u001b[0m\u001b[0;34m\u001b[0m\u001b[0m\n\u001b[0;32m----> 2\u001b[0;31m     \u001b[0mdets\u001b[0m \u001b[0;34m=\u001b[0m \u001b[0mdetector\u001b[0m\u001b[0;34m(\u001b[0m\u001b[0mimg\u001b[0m\u001b[0;34m,\u001b[0m \u001b[0;36m1\u001b[0m\u001b[0;34m)\u001b[0m\u001b[0;34m\u001b[0m\u001b[0;34m\u001b[0m\u001b[0m\n\u001b[0m\u001b[1;32m      3\u001b[0m \u001b[0;34m\u001b[0m\u001b[0m\n\u001b[1;32m      4\u001b[0m     \u001b[0;32mif\u001b[0m \u001b[0mlen\u001b[0m\u001b[0;34m(\u001b[0m\u001b[0mdets\u001b[0m\u001b[0;34m)\u001b[0m \u001b[0;34m==\u001b[0m \u001b[0;36m0\u001b[0m\u001b[0;34m:\u001b[0m\u001b[0;34m\u001b[0m\u001b[0;34m\u001b[0m\u001b[0m\n\u001b[1;32m      5\u001b[0m         \u001b[0;32mreturn\u001b[0m \u001b[0mnp\u001b[0m\u001b[0;34m.\u001b[0m\u001b[0mempty\u001b[0m\u001b[0;34m(\u001b[0m\u001b[0;36m0\u001b[0m\u001b[0;34m)\u001b[0m\u001b[0;34m,\u001b[0m \u001b[0mnp\u001b[0m\u001b[0;34m.\u001b[0m\u001b[0mempty\u001b[0m\u001b[0;34m(\u001b[0m\u001b[0;36m0\u001b[0m\u001b[0;34m)\u001b[0m\u001b[0;34m,\u001b[0m \u001b[0mnp\u001b[0m\u001b[0;34m.\u001b[0m\u001b[0mempty\u001b[0m\u001b[0;34m(\u001b[0m\u001b[0;36m0\u001b[0m\u001b[0;34m)\u001b[0m\u001b[0;34m\u001b[0m\u001b[0;34m\u001b[0m\u001b[0m\n",
      "\u001b[0;31mTypeError\u001b[0m: __call__(): incompatible function arguments. The following argument types are supported:\n    1. (self: _dlib_pybind11.fhog_object_detector, image: array, upsample_num_times: int=0) -> _dlib_pybind11.rectangles\n\nInvoked with: <_dlib_pybind11.fhog_object_detector object at 0x7fb675317470>, None, 1"
     ]
    }
   ],
   "source": [
    "cam = cv2.VideoCapture(0) # 노트북 웹캠 사용\n",
    "cam.set(3, 640) # 너비\n",
    "cam.set(4, 480) # 높이\n",
    "font = cv2.FONT_HERSHEY_SIMPLEX # 폰트\n",
    "\n",
    "while True:\n",
    "    \n",
    "    ret, img = cam.read() \n",
    "    img = cv2.flip(img, 1) # 좌우 대칭\n",
    "#    img = cv2.cvtColor(img, cv2.COLOR_BGR2RGB)\n",
    "    rects, shapes, _ = find_faces(img) # 얼굴 찾기\n",
    "    descriptors = encode_faces(img, shapes) # 인코딩\n",
    "    \n",
    "    for i, desc in enumerate(descriptors):\n",
    "        x = rects[i][0][0] # 얼굴 X 좌표\n",
    "        y = rects[i][0][1] # 얼굴 Y 좌표\n",
    "        w = rects[i][1][1]-rects[i][0][1] # 얼굴 너비 \n",
    "        h = rects[i][1][0]-rects[i][0][0] # 얼굴 높이\n",
    "        \n",
    "        # 추출된 랜드마크와 데이터베이스의 랜드마크들 중 제일 짧은 거리를 찾는 부분\n",
    "        descs1 = sorted(descs, key=lambda x: np.linalg.norm([desc] - x[1]))\n",
    "        dist = np.linalg.norm([desc] - descs1[0][1], axis=1)\n",
    "        \n",
    "        if dist < 0.45: # 그 거리가 0.45보다 작다면 그 사람으로 판단 \n",
    "            name = descs1[0][0]\n",
    "        else:           # 0.45보다 크다면 모르는 사람으로 판단 -> 모자이크 처리\n",
    "            name = \"누구?\"\n",
    "            #mosaic_img = cv2.resize(img[y:y+h, x:x+w], dsize=(0, 0), fx=0.04, fy=0.04) # 축소\n",
    "            #mosaic_img = cv2.resize(mosaic_img, (w, h), interpolation=cv2.INTER_AREA)  # 확대\n",
    "            #img[y:y+h, x:x+w] = mosaic_img # 인식된 얼굴 영역 모자이크 처리 \n",
    "\n",
    "        cv2.rectangle(img, (x, y), (x+w, y+h), (0,255,0), 2) # 얼굴 영역 박스 \n",
    "        cv2.putText(img, str(dist)[1:6], (x+5,y+h-5), cv2.FONT_HERSHEY_PLAIN, 2, (0,0,255), 4) # 사진에 거리 출력\n",
    "\n",
    "#     영어\n",
    "        cv2.putText(img, name, (x+5,y-5), cv2.FONT_HERSHEY_PLAIN, 2, (255,255,255), 4)\n",
    "\n",
    "#     한글\n",
    "    img = Image.fromarray(img)\n",
    "    draw = ImageDraw.Draw(img)\n",
    "    #draw.text((x + 5,y - 50), name, font=ImageFont.truetype(\"./batang.ttc\", 60), fill=(255,255,255))\n",
    "    img = np.array(img)\n",
    "        \n",
    "    cv2.imshow('camera', img)\n",
    "    \n",
    "    k = cv2.waitKey(10) & 0xff # 'ESC' 키 누르면 종료\n",
    "    if k == 27:\n",
    "        break\n",
    "        \n",
    "cam.release()\n",
    "cv2.destroyAllWindows()"
   ]
  },
  {
   "cell_type": "code",
   "execution_count": 14,
   "id": "6eba5bf9",
   "metadata": {
    "ExecuteTime": {
     "end_time": "2021-12-17T07:19:27.901763Z",
     "start_time": "2021-12-17T07:19:25.702049Z"
    },
    "id": "6eba5bf9",
    "outputId": "e85189e0-7170-4fc0-dc3f-b64125590077"
   },
   "outputs": [],
   "source": [
    "img = cv2.imread('bts_test.jpeg')\n",
    "\n",
    "rects, shapes, _ = find_faces(img) # 얼굴 찾기\n",
    "descriptors = encode_faces(img, shapes) # 인코딩\n",
    "\n",
    "for i, desc in enumerate(descriptors):\n",
    "    x = rects[i][0][0] # 얼굴 X 좌표\n",
    "    y = rects[i][0][1] # 얼굴 Y 좌표\n",
    "    w = rects[i][1][1]-rects[i][0][1] # 얼굴 너비 \n",
    "    h = rects[i][1][0]-rects[i][0][0] # 얼굴 높이        \n",
    "        \n",
    "    # 추출된 랜드마크와 데이터베이스의 랜드마크들 중 제일 짧은 거리를 찾는 부분\n",
    "    descs1 = sorted(descs, key=lambda x: np.linalg.norm([desc] - x[1]))\n",
    "    dist = np.linalg.norm([desc] - descs1[0][1], axis=1)\n",
    "\n",
    "    if dist < 0.45: # 그 거리가 0.45보다 작다면 그 사람으로 판단 \n",
    "        name = descs1[0][0]\n",
    "    else:           # 0.45보다 크다면 모르는 사람으로 판단 -> 모자이크 처리\n",
    "        mosaic_img = cv2.resize(img[y:y+h, x:x+w], dsize=(0, 0), fx=0.04, fy=0.04) # 축소\n",
    "        mosaic_img = cv2.resize(mosaic_img, (w, h), interpolation=cv2.INTER_AREA) # 확대\n",
    "        #img[y:y+h, x:x+w] = mosaic_img # 인식된 얼굴 영역 모자이크 처리\n",
    "        \n",
    "    cv2.rectangle(img, (x, y), (x+w, y+h), (0,255,0), 2) # 얼굴 영역 박스 \n",
    "    cv2.putText(img, str(dist)[1:6], (x+5,y+h-5),cv2.FONT_HERSHEY_PLAIN,  2, (0,0,255), 4) # 사진에 거리 출력\n",
    "    \n",
    "#     영어\n",
    "    cv2.putText(img, name, (x+5,y-5),cv2.FONT_HERSHEY_PLAIN,  2, (255,255,255), 4)\n",
    "\n",
    "#     한글\n",
    "    img = Image.fromarray(img)\n",
    "    draw = ImageDraw.Draw(img)\n",
    "   # draw.text((x+5,y-50), name, font=ImageFont.truetype(\"./batang.ttc\", 60), fill=(255,255,255))\n",
    "    img = np.array(img)\n",
    "\n",
    "    img = cv2.cvtColor(img, cv2.COLOR_BGR2RGB)\n",
    "    cv2.imshow('camera', img)\n",
    "    k = cv2.waitKey(10) & 0xff # 'ESC' 키 누르면 종료\n",
    "    if k == 27:\n",
    "        break\n",
    "    cv2.destroyAllWindows()\n",
    "#plt.imshow(img)"
   ]
  },
  {
   "cell_type": "code",
   "execution_count": null,
   "id": "1dbd496a",
   "metadata": {
    "ExecuteTime": {
     "end_time": "2021-12-17T07:17:09.645947Z",
     "start_time": "2021-12-17T07:16:51.418Z"
    },
    "id": "1dbd496a"
   },
   "outputs": [],
   "source": [
    "cam = cv2.VideoCapture(0) # 노트북 웹캠 사용\n",
    "cam.set(3, 640) # 너비\n",
    "cam.set(4, 480) # 높이\n",
    "font = cv2.FONT_HERSHEY_SIMPLEX # 폰트\n",
    "\n",
    "while True:\n",
    "    \n",
    "    ret, img = cam.read() \n",
    "    img = cv2.flip(img, 1) # 좌우 대칭\n",
    "#    img = cv2.cvtColor(img, cv2.COLOR_BGR2RGB)\n",
    "    rects, shapes, _ = find_faces(img) # 얼굴 찾기\n",
    "    descriptors = encode_faces(img, shapes) # 인코딩\n",
    "    \n",
    "    for i, desc in enumerate(descriptors):\n",
    "        x = rects[i][0][0] # 얼굴 X 좌표\n",
    "        y = rects[i][0][1] # 얼굴 Y 좌표\n",
    "        w = rects[i][1][1]-rects[i][0][1] # 얼굴 너비 \n",
    "        h = rects[i][1][0]-rects[i][0][0] # 얼굴 높이\n",
    "        \n",
    "        # 추출된 랜드마크와 데이터베이스의 랜드마크들 중 제일 짧은 거리를 찾는 부분\n",
    "        descs1 = sorted(descs, key=lambda x: np.linalg.norm([desc] - x[1]))\n",
    "        dist = np.linalg.norm([desc] - descs1[0][1], axis=1)\n",
    "        \n",
    "        if dist < 0.45: # 그 거리가 0.45보다 작다면 그 사람으로 판단 \n",
    "            name = descs1[0][0]\n",
    "        else:           # 0.45보다 크다면 모르는 사람으로 판단 -> 모자이크 처리\n",
    "            mosaic_img = cv2.resize(img[y:y+h, x:x+w], dsize=(0, 0), fx=0.04, fy=0.04) # 축소\n",
    "            mosaic_img = cv2.resize(mosaic_img, (w, h), interpolation=cv2.INTER_AREA)  # 확대\n",
    "            img[y:y+h, x:x+w] = mosaic_img # 인식된 얼굴 영역 모자이크 처리 \n",
    "\n",
    "        cv2.rectangle(img, (x, y), (x+w, y+h), (0,255,0), 2) # 얼굴 영역 박스 \n",
    "        cv2.putText(img, str(dist)[1:6], (x+5,y+h-5), cv2.FONT_HERSHEY_SIMPLEX, 2, (0,0,255), 4) # 사진에 거리 출력\n",
    "\n",
    "#     영어\n",
    "#     cv2.putText(img, name, (x+5,y-5), font, 2, (255,255,255), 4)\n",
    "\n",
    "#     한글\n",
    "    img = Image.fromarray(img)\n",
    "    draw = ImageDraw.Draw(img)\n",
    "    #draw.text((x+5,y-50), name, font=ImageFont.truetype(\"./batang.ttc\", 60), fill=(255,255,255))\n",
    "    img = np.array(img)\n",
    "        \n",
    "    cv2.imshow('camera', img)\n",
    "    \n",
    "    k = cv2.waitKey(10) & 0xff # 'ESC' 키 누르면 종료\n",
    "    if k == 27:\n",
    "        break\n",
    "        \n",
    "cam.release()\n",
    "cv2.destroyAllWindows()"
   ]
  },
  {
   "cell_type": "code",
   "execution_count": null,
   "id": "f2de6f11",
   "metadata": {
    "ExecuteTime": {
     "end_time": "2021-12-17T07:17:09.646859Z",
     "start_time": "2021-12-17T07:16:51.420Z"
    },
    "id": "f2de6f11"
   },
   "outputs": [],
   "source": [
    "find_faces('bts_test.jpeg')"
   ]
  },
  {
   "cell_type": "code",
   "execution_count": null,
   "id": "1b2c73e7",
   "metadata": {
    "id": "1b2c73e7"
   },
   "outputs": [],
   "source": []
  },
  {
   "cell_type": "code",
   "execution_count": null,
   "id": "0e238c48",
   "metadata": {
    "id": "0e238c48"
   },
   "outputs": [],
   "source": []
  },
  {
   "cell_type": "code",
   "execution_count": null,
   "id": "ba3630d5",
   "metadata": {
    "id": "ba3630d5"
   },
   "outputs": [],
   "source": []
  },
  {
   "cell_type": "code",
   "execution_count": null,
   "id": "6a2ac9a7",
   "metadata": {
    "id": "6a2ac9a7"
   },
   "outputs": [],
   "source": []
  },
  {
   "cell_type": "code",
   "execution_count": null,
   "id": "e3eca4f5",
   "metadata": {
    "id": "e3eca4f5"
   },
   "outputs": [],
   "source": []
  },
  {
   "cell_type": "code",
   "execution_count": null,
   "id": "e34bc07f",
   "metadata": {
    "id": "e34bc07f"
   },
   "outputs": [],
   "source": []
  },
  {
   "cell_type": "code",
   "execution_count": null,
   "id": "128c6c46",
   "metadata": {
    "id": "128c6c46"
   },
   "outputs": [],
   "source": []
  },
  {
   "cell_type": "code",
   "execution_count": null,
   "id": "fd6d6596",
   "metadata": {
    "id": "fd6d6596"
   },
   "outputs": [],
   "source": []
  },
  {
   "cell_type": "code",
   "execution_count": null,
   "id": "6c79ad4c",
   "metadata": {
    "id": "6c79ad4c"
   },
   "outputs": [],
   "source": []
  },
  {
   "cell_type": "code",
   "execution_count": null,
   "id": "5e481da1",
   "metadata": {
    "id": "5e481da1"
   },
   "outputs": [],
   "source": []
  },
  {
   "cell_type": "code",
   "execution_count": null,
   "id": "2d3566e0",
   "metadata": {
    "id": "2d3566e0"
   },
   "outputs": [],
   "source": []
  },
  {
   "cell_type": "code",
   "execution_count": null,
   "id": "1a6ca931",
   "metadata": {
    "id": "1a6ca931"
   },
   "outputs": [],
   "source": []
  },
  {
   "cell_type": "code",
   "execution_count": null,
   "id": "ef60aa1b",
   "metadata": {
    "id": "ef60aa1b"
   },
   "outputs": [],
   "source": []
  },
  {
   "cell_type": "code",
   "execution_count": null,
   "id": "76d48209",
   "metadata": {
    "id": "76d48209"
   },
   "outputs": [],
   "source": []
  }
 ],
 "metadata": {
  "colab": {
   "collapsed_sections": [],
   "name": "exercise_1208_다영작성중.ipynb",
   "provenance": []
  },
  "kernelspec": {
   "display_name": "Python 3",
   "language": "python",
   "name": "python3"
  },
  "language_info": {
   "codemirror_mode": {
    "name": "ipython",
    "version": 3
   },
   "file_extension": ".py",
   "mimetype": "text/x-python",
   "name": "python",
   "nbconvert_exporter": "python",
   "pygments_lexer": "ipython3",
   "version": "3.8.2"
  },
  "toc": {
   "base_numbering": 1,
   "nav_menu": {},
   "number_sections": true,
   "sideBar": true,
   "skip_h1_title": false,
   "title_cell": "Table of Contents",
   "title_sidebar": "Contents",
   "toc_cell": false,
   "toc_position": {},
   "toc_section_display": true,
   "toc_window_display": false
  },
  "varInspector": {
   "cols": {
    "lenName": 16,
    "lenType": 16,
    "lenVar": 40
   },
   "kernels_config": {
    "python": {
     "delete_cmd_postfix": "",
     "delete_cmd_prefix": "del ",
     "library": "var_list.py",
     "varRefreshCmd": "print(var_dic_list())"
    },
    "r": {
     "delete_cmd_postfix": ") ",
     "delete_cmd_prefix": "rm(",
     "library": "var_list.r",
     "varRefreshCmd": "cat(var_dic_list()) "
    }
   },
   "types_to_exclude": [
    "module",
    "function",
    "builtin_function_or_method",
    "instance",
    "_Feature"
   ],
   "window_display": false
  }
 },
 "nbformat": 4,
 "nbformat_minor": 5
}
