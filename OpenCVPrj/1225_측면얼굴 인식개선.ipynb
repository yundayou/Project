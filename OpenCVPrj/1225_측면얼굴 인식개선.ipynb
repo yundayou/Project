{
 "cells": [
  {
   "cell_type": "code",
   "execution_count": 1,
   "id": "2ff1eddb",
   "metadata": {
    "ExecuteTime": {
     "end_time": "2021-12-25T15:36:57.204867Z",
     "start_time": "2021-12-25T15:36:57.017576Z"
    }
   },
   "outputs": [],
   "source": [
    "import os\n",
    "import cv2\n",
    "import time\n",
    "import numpy as np\n",
    "from collections import Counter"
   ]
  },
  {
   "cell_type": "code",
   "execution_count": 2,
   "id": "a7da6b9f",
   "metadata": {
    "ExecuteTime": {
     "end_time": "2021-12-25T15:38:14.922155Z",
     "start_time": "2021-12-25T15:38:14.918703Z"
    }
   },
   "outputs": [],
   "source": [
    "dir_jpgs = '정국1.jpeg/'"
   ]
  },
  {
   "cell_type": "code",
   "execution_count": null,
   "id": "5417d8a1",
   "metadata": {
    "ExecuteTime": {
     "start_time": "2021-12-25T15:38:34.047Z"
    }
   },
   "outputs": [],
   "source": [
    "from keras.preprocessimg.image import img_to_array, load_img"
   ]
  },
  {
   "cell_type": "code",
   "execution_count": null,
   "id": "1017e253",
   "metadata": {},
   "outputs": [],
   "source": []
  }
 ],
 "metadata": {
  "kernelspec": {
   "display_name": "Python 3",
   "language": "python",
   "name": "python3"
  },
  "language_info": {
   "codemirror_mode": {
    "name": "ipython",
    "version": 3
   },
   "file_extension": ".py",
   "mimetype": "text/x-python",
   "name": "python",
   "nbconvert_exporter": "python",
   "pygments_lexer": "ipython3",
   "version": "3.8.2"
  },
  "toc": {
   "base_numbering": 1,
   "nav_menu": {},
   "number_sections": true,
   "sideBar": true,
   "skip_h1_title": false,
   "title_cell": "Table of Contents",
   "title_sidebar": "Contents",
   "toc_cell": false,
   "toc_position": {},
   "toc_section_display": true,
   "toc_window_display": false
  },
  "varInspector": {
   "cols": {
    "lenName": 16,
    "lenType": 16,
    "lenVar": 40
   },
   "kernels_config": {
    "python": {
     "delete_cmd_postfix": "",
     "delete_cmd_prefix": "del ",
     "library": "var_list.py",
     "varRefreshCmd": "print(var_dic_list())"
    },
    "r": {
     "delete_cmd_postfix": ") ",
     "delete_cmd_prefix": "rm(",
     "library": "var_list.r",
     "varRefreshCmd": "cat(var_dic_list()) "
    }
   },
   "types_to_exclude": [
    "module",
    "function",
    "builtin_function_or_method",
    "instance",
    "_Feature"
   ],
   "window_display": false
  }
 },
 "nbformat": 4,
 "nbformat_minor": 5
}
