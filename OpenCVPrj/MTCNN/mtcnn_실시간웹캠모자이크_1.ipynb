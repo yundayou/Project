{
 "cells": [
  {
   "cell_type": "code",
   "execution_count": 1,
   "id": "73a863da",
   "metadata": {
    "ExecuteTime": {
     "end_time": "2021-12-23T06:33:29.266995Z",
     "start_time": "2021-12-23T06:33:28.354783Z"
    }
   },
   "outputs": [],
   "source": [
    "import cv2\n",
    "import os\n",
    "import numpy as np\n",
    "from PIL import Image\n",
    "import pickle"
   ]
  },
  {
   "cell_type": "code",
   "execution_count": 2,
   "id": "83d03e07",
   "metadata": {
    "ExecuteTime": {
     "end_time": "2021-12-23T06:33:29.286675Z",
     "start_time": "2021-12-23T06:33:29.269272Z"
    }
   },
   "outputs": [],
   "source": [
    "#load cascade\n",
    "face_cascade = cv2.CascadeClassifier('haarcascade_frontalface_alt2.xml')\n",
    "recognizer = cv2.face.LBPHFaceRecognizer_create()"
   ]
  },
  {
   "cell_type": "code",
   "execution_count": 3,
   "id": "c53d23ab",
   "metadata": {
    "ExecuteTime": {
     "end_time": "2021-12-23T06:33:29.292067Z",
     "start_time": "2021-12-23T06:33:29.289225Z"
    }
   },
   "outputs": [],
   "source": [
    "# 지금 내 코드 파일\n",
    "BASE_DIR = os.path.dirname(os.path.abspath('/Users/dayoung/Desktop/실습파일_깃허브로 이동예정/MTCNN-Mosaic-main/mtcnn_이것저것 시도중_1.ipynb'))\n",
    "# 이미지 경로\n",
    "image_dir = os.path.join(BASE_DIR, \"images\")"
   ]
  },
  {
   "cell_type": "code",
   "execution_count": 4,
   "id": "02fa2bdf",
   "metadata": {
    "ExecuteTime": {
     "end_time": "2021-12-23T06:33:29.296897Z",
     "start_time": "2021-12-23T06:33:29.294143Z"
    }
   },
   "outputs": [],
   "source": [
    "current_id = 0\n",
    "label_ids = {}\n",
    "y_labels = []\n",
    "x_train = []"
   ]
  },
  {
   "cell_type": "code",
   "execution_count": 5,
   "id": "58f43393",
   "metadata": {
    "ExecuteTime": {
     "end_time": "2021-12-23T06:33:30.217295Z",
     "start_time": "2021-12-23T06:33:29.298732Z"
    },
    "scrolled": true
   },
   "outputs": [
    {
     "name": "stdout",
     "output_type": "stream",
     "text": [
      "{'images': 0}\n",
      "{'images': 0}\n",
      "{'images': 0}\n",
      "{'images': 0}\n"
     ]
    }
   ],
   "source": [
    "# 이미지 경로랑 이름, label 다 print\n",
    "for root, dirs, files in os.walk(image_dir):\n",
    "    for file in files:\n",
    "        if file.endswith(\"jpg\") or file.endswith(\"jpeg\"):\n",
    "            path = os.path.join(root, file)\n",
    "            label = os.path.basename(root).replace(\" \", \"-\").lower()\n",
    "            #print(label, path)\n",
    "            \n",
    "            if not label in label_ids:\n",
    "                label_ids[label] = current_id\n",
    "                current_id += 1\n",
    "            id_ = label_ids[label]\n",
    "            print(label_ids)\n",
    "                \n",
    "            \n",
    "            # y_labels.append(label) # some number\n",
    "            # x_train.append(path) # verify this image, turn into a numpy array, GRAY\n",
    "            \n",
    "            pil_image = Image.open(path).convert(\"L\") #gray scale\n",
    "            size = (550, 550)\n",
    "            final_image = pil_image.resize(size, Image.ANTIALIAS)\n",
    "            image_array = np.array(pil_image, \"uint8\")\n",
    "            #print(image_array)\n",
    "            faces = face_cascade.detectMultiScale(image_array, scaleFactor=1.5, minNeighbors=5)\n",
    "            \n",
    "            for (x,y,w,h) in faces:\n",
    "                roi = image_array[y:y+h, x:x+w]\n",
    "                #roi에 얼굴 좌표 넣는다.\n",
    "                x_train.append(roi)\n",
    "                y_labels.append(id_)\n",
    "                \n",
    "#print(y_labels)\n",
    "#print(x_train)\n",
    "\n",
    "with open(\"labels.pickle\", 'wb') as f:\n",
    "    pickle.dump(label_ids, f)\n",
    "\n",
    "#Train OpenCV\n",
    "recognizer.train(x_train, np.array(y_labels))\n",
    "recognizer.save(\"trainner.yml\")\n",
    "            "
   ]
  },
  {
   "cell_type": "code",
   "execution_count": 6,
   "id": "0f657a96",
   "metadata": {
    "ExecuteTime": {
     "end_time": "2021-12-23T06:33:30.236421Z",
     "start_time": "2021-12-23T06:33:30.221014Z"
    }
   },
   "outputs": [
    {
     "name": "stdout",
     "output_type": "stream",
     "text": [
      "[[116 120 120 ... 248 248 248]\n",
      " [116 117 117 ... 248 248 248]\n",
      " [119 117 116 ... 248 248 248]\n",
      " ...\n",
      " [209 208 209 ... 235 230 225]\n",
      " [219 214 214 ... 237 232 226]\n",
      " [214 207 209 ... 238 234 229]]\n"
     ]
    }
   ],
   "source": [
    "pil_image = Image.open(path).convert(\"L\") #gray scale\n",
    "image_array = np.array(pil_image, \"uint8\")\n",
    "print(image_array)"
   ]
  },
  {
   "cell_type": "code",
   "execution_count": null,
   "id": "4b259bc9",
   "metadata": {},
   "outputs": [],
   "source": []
  }
 ],
 "metadata": {
  "kernelspec": {
   "display_name": "Python 3",
   "language": "python",
   "name": "python3"
  },
  "language_info": {
   "codemirror_mode": {
    "name": "ipython",
    "version": 3
   },
   "file_extension": ".py",
   "mimetype": "text/x-python",
   "name": "python",
   "nbconvert_exporter": "python",
   "pygments_lexer": "ipython3",
   "version": "3.8.2"
  },
  "toc": {
   "base_numbering": 1,
   "nav_menu": {},
   "number_sections": true,
   "sideBar": true,
   "skip_h1_title": false,
   "title_cell": "Table of Contents",
   "title_sidebar": "Contents",
   "toc_cell": false,
   "toc_position": {},
   "toc_section_display": true,
   "toc_window_display": false
  },
  "varInspector": {
   "cols": {
    "lenName": 16,
    "lenType": 16,
    "lenVar": 40
   },
   "kernels_config": {
    "python": {
     "delete_cmd_postfix": "",
     "delete_cmd_prefix": "del ",
     "library": "var_list.py",
     "varRefreshCmd": "print(var_dic_list())"
    },
    "r": {
     "delete_cmd_postfix": ") ",
     "delete_cmd_prefix": "rm(",
     "library": "var_list.r",
     "varRefreshCmd": "cat(var_dic_list()) "
    }
   },
   "types_to_exclude": [
    "module",
    "function",
    "builtin_function_or_method",
    "instance",
    "_Feature"
   ],
   "window_display": false
  }
 },
 "nbformat": 4,
 "nbformat_minor": 5
}
